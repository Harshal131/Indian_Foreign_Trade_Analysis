{
 "cells": [
  {
   "cell_type": "code",
   "execution_count": 60,
   "metadata": {},
   "outputs": [],
   "source": [
    "import pandas as pd\n",
    "import numpy as np\n",
    "import plotly.offline as py\n",
    "from plotly.offline import iplot, init_notebook_mode\n",
    "import plotly.graph_objs as go\n",
    "import matplotlib.pyplot as plt\n",
    "import plotly.express as px"
   ]
  },
  {
   "cell_type": "code",
   "execution_count": 61,
   "metadata": {},
   "outputs": [],
   "source": [
    "data_import=pd.read_csv('Data/2018-2010_import.csv')\n",
    "data_export=pd.read_csv('Data/2018-2010_export.csv')"
   ]
  },
  {
   "cell_type": "code",
   "execution_count": 62,
   "metadata": {},
   "outputs": [
    {
     "data": {
      "text/html": [
       "<div>\n",
       "<style scoped>\n",
       "    .dataframe tbody tr th:only-of-type {\n",
       "        vertical-align: middle;\n",
       "    }\n",
       "\n",
       "    .dataframe tbody tr th {\n",
       "        vertical-align: top;\n",
       "    }\n",
       "\n",
       "    .dataframe thead th {\n",
       "        text-align: right;\n",
       "    }\n",
       "</style>\n",
       "<table border=\"1\" class=\"dataframe\">\n",
       "  <thead>\n",
       "    <tr style=\"text-align: right;\">\n",
       "      <th></th>\n",
       "      <th>HSCode</th>\n",
       "      <th>Commodity</th>\n",
       "      <th>value</th>\n",
       "      <th>country</th>\n",
       "      <th>year</th>\n",
       "    </tr>\n",
       "  </thead>\n",
       "  <tbody>\n",
       "    <tr>\n",
       "      <th>0</th>\n",
       "      <td>False</td>\n",
       "      <td>False</td>\n",
       "      <td>False</td>\n",
       "      <td>False</td>\n",
       "      <td>False</td>\n",
       "    </tr>\n",
       "    <tr>\n",
       "      <th>1</th>\n",
       "      <td>False</td>\n",
       "      <td>False</td>\n",
       "      <td>False</td>\n",
       "      <td>False</td>\n",
       "      <td>False</td>\n",
       "    </tr>\n",
       "    <tr>\n",
       "      <th>2</th>\n",
       "      <td>False</td>\n",
       "      <td>False</td>\n",
       "      <td>False</td>\n",
       "      <td>False</td>\n",
       "      <td>False</td>\n",
       "    </tr>\n",
       "    <tr>\n",
       "      <th>3</th>\n",
       "      <td>False</td>\n",
       "      <td>False</td>\n",
       "      <td>False</td>\n",
       "      <td>False</td>\n",
       "      <td>False</td>\n",
       "    </tr>\n",
       "    <tr>\n",
       "      <th>4</th>\n",
       "      <td>False</td>\n",
       "      <td>False</td>\n",
       "      <td>True</td>\n",
       "      <td>False</td>\n",
       "      <td>False</td>\n",
       "    </tr>\n",
       "    <tr>\n",
       "      <th>...</th>\n",
       "      <td>...</td>\n",
       "      <td>...</td>\n",
       "      <td>...</td>\n",
       "      <td>...</td>\n",
       "      <td>...</td>\n",
       "    </tr>\n",
       "    <tr>\n",
       "      <th>76119</th>\n",
       "      <td>False</td>\n",
       "      <td>False</td>\n",
       "      <td>False</td>\n",
       "      <td>False</td>\n",
       "      <td>False</td>\n",
       "    </tr>\n",
       "    <tr>\n",
       "      <th>76120</th>\n",
       "      <td>False</td>\n",
       "      <td>False</td>\n",
       "      <td>False</td>\n",
       "      <td>False</td>\n",
       "      <td>False</td>\n",
       "    </tr>\n",
       "    <tr>\n",
       "      <th>76121</th>\n",
       "      <td>False</td>\n",
       "      <td>False</td>\n",
       "      <td>True</td>\n",
       "      <td>False</td>\n",
       "      <td>False</td>\n",
       "    </tr>\n",
       "    <tr>\n",
       "      <th>76122</th>\n",
       "      <td>False</td>\n",
       "      <td>False</td>\n",
       "      <td>True</td>\n",
       "      <td>False</td>\n",
       "      <td>False</td>\n",
       "    </tr>\n",
       "    <tr>\n",
       "      <th>76123</th>\n",
       "      <td>False</td>\n",
       "      <td>False</td>\n",
       "      <td>True</td>\n",
       "      <td>False</td>\n",
       "      <td>False</td>\n",
       "    </tr>\n",
       "  </tbody>\n",
       "</table>\n",
       "<p>76124 rows × 5 columns</p>\n",
       "</div>"
      ],
      "text/plain": [
       "       HSCode  Commodity  value  country   year\n",
       "0       False      False  False    False  False\n",
       "1       False      False  False    False  False\n",
       "2       False      False  False    False  False\n",
       "3       False      False  False    False  False\n",
       "4       False      False   True    False  False\n",
       "...       ...        ...    ...      ...    ...\n",
       "76119   False      False  False    False  False\n",
       "76120   False      False  False    False  False\n",
       "76121   False      False   True    False  False\n",
       "76122   False      False   True    False  False\n",
       "76123   False      False   True    False  False\n",
       "\n",
       "[76124 rows x 5 columns]"
      ]
     },
     "execution_count": 62,
     "metadata": {},
     "output_type": "execute_result"
    }
   ],
   "source": [
    "data_import.isnull()"
   ]
  },
  {
   "cell_type": "code",
   "execution_count": 63,
   "metadata": {},
   "outputs": [
    {
     "data": {
      "text/html": [
       "<div>\n",
       "<style scoped>\n",
       "    .dataframe tbody tr th:only-of-type {\n",
       "        vertical-align: middle;\n",
       "    }\n",
       "\n",
       "    .dataframe tbody tr th {\n",
       "        vertical-align: top;\n",
       "    }\n",
       "\n",
       "    .dataframe thead th {\n",
       "        text-align: right;\n",
       "    }\n",
       "</style>\n",
       "<table border=\"1\" class=\"dataframe\">\n",
       "  <thead>\n",
       "    <tr style=\"text-align: right;\">\n",
       "      <th></th>\n",
       "      <th>HSCode</th>\n",
       "      <th>Commodity</th>\n",
       "      <th>value</th>\n",
       "      <th>country</th>\n",
       "      <th>year</th>\n",
       "    </tr>\n",
       "  </thead>\n",
       "  <tbody>\n",
       "    <tr>\n",
       "      <th>0</th>\n",
       "      <td>False</td>\n",
       "      <td>False</td>\n",
       "      <td>False</td>\n",
       "      <td>False</td>\n",
       "      <td>False</td>\n",
       "    </tr>\n",
       "    <tr>\n",
       "      <th>1</th>\n",
       "      <td>False</td>\n",
       "      <td>False</td>\n",
       "      <td>False</td>\n",
       "      <td>False</td>\n",
       "      <td>False</td>\n",
       "    </tr>\n",
       "    <tr>\n",
       "      <th>2</th>\n",
       "      <td>False</td>\n",
       "      <td>False</td>\n",
       "      <td>False</td>\n",
       "      <td>False</td>\n",
       "      <td>False</td>\n",
       "    </tr>\n",
       "    <tr>\n",
       "      <th>3</th>\n",
       "      <td>False</td>\n",
       "      <td>False</td>\n",
       "      <td>False</td>\n",
       "      <td>False</td>\n",
       "      <td>False</td>\n",
       "    </tr>\n",
       "    <tr>\n",
       "      <th>4</th>\n",
       "      <td>False</td>\n",
       "      <td>False</td>\n",
       "      <td>False</td>\n",
       "      <td>False</td>\n",
       "      <td>False</td>\n",
       "    </tr>\n",
       "    <tr>\n",
       "      <th>...</th>\n",
       "      <td>...</td>\n",
       "      <td>...</td>\n",
       "      <td>...</td>\n",
       "      <td>...</td>\n",
       "      <td>...</td>\n",
       "    </tr>\n",
       "    <tr>\n",
       "      <th>137018</th>\n",
       "      <td>False</td>\n",
       "      <td>False</td>\n",
       "      <td>False</td>\n",
       "      <td>False</td>\n",
       "      <td>False</td>\n",
       "    </tr>\n",
       "    <tr>\n",
       "      <th>137019</th>\n",
       "      <td>False</td>\n",
       "      <td>False</td>\n",
       "      <td>False</td>\n",
       "      <td>False</td>\n",
       "      <td>False</td>\n",
       "    </tr>\n",
       "    <tr>\n",
       "      <th>137020</th>\n",
       "      <td>False</td>\n",
       "      <td>False</td>\n",
       "      <td>False</td>\n",
       "      <td>False</td>\n",
       "      <td>False</td>\n",
       "    </tr>\n",
       "    <tr>\n",
       "      <th>137021</th>\n",
       "      <td>False</td>\n",
       "      <td>False</td>\n",
       "      <td>False</td>\n",
       "      <td>False</td>\n",
       "      <td>False</td>\n",
       "    </tr>\n",
       "    <tr>\n",
       "      <th>137022</th>\n",
       "      <td>False</td>\n",
       "      <td>False</td>\n",
       "      <td>False</td>\n",
       "      <td>False</td>\n",
       "      <td>False</td>\n",
       "    </tr>\n",
       "  </tbody>\n",
       "</table>\n",
       "<p>137023 rows × 5 columns</p>\n",
       "</div>"
      ],
      "text/plain": [
       "        HSCode  Commodity  value  country   year\n",
       "0        False      False  False    False  False\n",
       "1        False      False  False    False  False\n",
       "2        False      False  False    False  False\n",
       "3        False      False  False    False  False\n",
       "4        False      False  False    False  False\n",
       "...        ...        ...    ...      ...    ...\n",
       "137018   False      False  False    False  False\n",
       "137019   False      False  False    False  False\n",
       "137020   False      False  False    False  False\n",
       "137021   False      False  False    False  False\n",
       "137022   False      False  False    False  False\n",
       "\n",
       "[137023 rows x 5 columns]"
      ]
     },
     "execution_count": 63,
     "metadata": {},
     "output_type": "execute_result"
    }
   ],
   "source": [
    "data_export.isnull()"
   ]
  },
  {
   "cell_type": "code",
   "execution_count": 64,
   "metadata": {},
   "outputs": [],
   "source": [
    "data_import['value'].fillna(data_import['value'].mean(), inplace=True)"
   ]
  },
  {
   "cell_type": "code",
   "execution_count": 65,
   "metadata": {},
   "outputs": [],
   "source": [
    "data_export['value'].fillna(data_export['value'].mean(), inplace=True)"
   ]
  },
  {
   "cell_type": "code",
   "execution_count": 66,
   "metadata": {},
   "outputs": [
    {
     "data": {
      "text/plain": [
       "False"
      ]
     },
     "execution_count": 66,
     "metadata": {},
     "output_type": "execute_result"
    }
   ],
   "source": [
    "data_import.isnull().values.any()"
   ]
  },
  {
   "cell_type": "code",
   "execution_count": 67,
   "metadata": {},
   "outputs": [
    {
     "data": {
      "text/plain": [
       "False"
      ]
     },
     "execution_count": 67,
     "metadata": {},
     "output_type": "execute_result"
    }
   ],
   "source": [
    "data_export.isnull().values.any()"
   ]
  },
  {
   "cell_type": "code",
   "execution_count": 68,
   "metadata": {},
   "outputs": [],
   "source": [
    "data_import['country'] = data_import['country'].replace({'U S A': 'USA'})\n",
    "data_import = data_import.reset_index(drop=True)"
   ]
  },
  {
   "cell_type": "code",
   "execution_count": 69,
   "metadata": {},
   "outputs": [],
   "source": [
    "data_export['country'] = data_export['country'].replace({'U S A': 'USA'})\n",
    "data_export = data_export.reset_index(drop=True)"
   ]
  },
  {
   "cell_type": "code",
   "execution_count": 70,
   "metadata": {},
   "outputs": [],
   "source": [
    "data_import['country'] = data_import['country'].replace({'U K': 'UK'})\n",
    "data_import = data_import.reset_index(drop=True)"
   ]
  },
  {
   "cell_type": "code",
   "execution_count": 71,
   "metadata": {},
   "outputs": [],
   "source": [
    "data_export['country'] = data_export['country'].replace({'U K': 'UK'})\n",
    "data_import = data_import.reset_index(drop=True)"
   ]
  },
  {
   "cell_type": "code",
   "execution_count": 72,
   "metadata": {},
   "outputs": [],
   "source": [
    "export_year = data_export.groupby('year').agg({'value': 'sum'})\n",
    "export_year = export_year.rename(columns={'value': 'Export'})\n",
    "import_year = data_import.groupby('year').agg({'value': 'sum'})\n",
    "import_year = import_year.rename(columns={'value': 'Import'})"
   ]
  },
  {
   "cell_type": "code",
   "execution_count": 73,
   "metadata": {},
   "outputs": [],
   "source": [
    "export_year['Growth Rate(E)'] = export_year.pct_change()\n",
    "import_year['Growth Rate(I)'] = import_year.pct_change()"
   ]
  },
  {
   "cell_type": "code",
   "execution_count": 74,
   "metadata": {},
   "outputs": [],
   "source": [
    "total_year = pd.concat([export_year, import_year], axis = 1)\n",
    "total_year['Trade Deficit'] = export_year.Export - import_year.Import"
   ]
  },
  {
   "cell_type": "code",
   "execution_count": 75,
   "metadata": {},
   "outputs": [
    {
     "name": "stdout",
     "output_type": "stream",
     "text": [
      "Export/Import and Trade Balance of India\n"
     ]
    },
    {
     "data": {
      "text/html": [
       "<div>\n",
       "<style scoped>\n",
       "    .dataframe tbody tr th:only-of-type {\n",
       "        vertical-align: middle;\n",
       "    }\n",
       "\n",
       "    .dataframe tbody tr th {\n",
       "        vertical-align: top;\n",
       "    }\n",
       "\n",
       "    .dataframe thead th {\n",
       "        text-align: right;\n",
       "    }\n",
       "</style>\n",
       "<table border=\"1\" class=\"dataframe\">\n",
       "  <thead>\n",
       "    <tr style=\"text-align: right;\">\n",
       "      <th></th>\n",
       "      <th>Export</th>\n",
       "      <th>Growth Rate(E)</th>\n",
       "      <th>Import</th>\n",
       "      <th>Growth Rate(I)</th>\n",
       "      <th>Trade Deficit</th>\n",
       "    </tr>\n",
       "    <tr>\n",
       "      <th>year</th>\n",
       "      <th></th>\n",
       "      <th></th>\n",
       "      <th></th>\n",
       "      <th></th>\n",
       "      <th></th>\n",
       "    </tr>\n",
       "  </thead>\n",
       "  <tbody>\n",
       "    <tr>\n",
       "      <th>2010</th>\n",
       "      <td>284525.384958</td>\n",
       "      <td>NaN</td>\n",
       "      <td>434742.854789</td>\n",
       "      <td>NaN</td>\n",
       "      <td>-150217.469831</td>\n",
       "    </tr>\n",
       "    <tr>\n",
       "      <th>2011</th>\n",
       "      <td>338084.345458</td>\n",
       "      <td>0.188240</td>\n",
       "      <td>572127.782322</td>\n",
       "      <td>0.316014</td>\n",
       "      <td>-234043.436864</td>\n",
       "    </tr>\n",
       "    <tr>\n",
       "      <th>2012</th>\n",
       "      <td>334914.414495</td>\n",
       "      <td>-0.009376</td>\n",
       "      <td>586641.941559</td>\n",
       "      <td>0.025369</td>\n",
       "      <td>-251727.527064</td>\n",
       "    </tr>\n",
       "    <tr>\n",
       "      <th>2013</th>\n",
       "      <td>346869.760724</td>\n",
       "      <td>0.035697</td>\n",
       "      <td>533632.576571</td>\n",
       "      <td>-0.090361</td>\n",
       "      <td>-186762.815847</td>\n",
       "    </tr>\n",
       "    <tr>\n",
       "      <th>2014</th>\n",
       "      <td>346080.480757</td>\n",
       "      <td>-0.002275</td>\n",
       "      <td>525292.435502</td>\n",
       "      <td>-0.015629</td>\n",
       "      <td>-179211.954745</td>\n",
       "    </tr>\n",
       "    <tr>\n",
       "      <th>2015</th>\n",
       "      <td>296459.309228</td>\n",
       "      <td>-0.143380</td>\n",
       "      <td>500966.030566</td>\n",
       "      <td>-0.046310</td>\n",
       "      <td>-204506.721338</td>\n",
       "    </tr>\n",
       "    <tr>\n",
       "      <th>2016</th>\n",
       "      <td>309998.711399</td>\n",
       "      <td>0.045670</td>\n",
       "      <td>462052.625477</td>\n",
       "      <td>-0.077677</td>\n",
       "      <td>-152053.914077</td>\n",
       "    </tr>\n",
       "    <tr>\n",
       "      <th>2017</th>\n",
       "      <td>335320.398020</td>\n",
       "      <td>0.081683</td>\n",
       "      <td>539035.778581</td>\n",
       "      <td>0.166611</td>\n",
       "      <td>-203715.380561</td>\n",
       "    </tr>\n",
       "    <tr>\n",
       "      <th>2018</th>\n",
       "      <td>363035.850795</td>\n",
       "      <td>0.082654</td>\n",
       "      <td>592709.086851</td>\n",
       "      <td>0.099573</td>\n",
       "      <td>-229673.236056</td>\n",
       "    </tr>\n",
       "  </tbody>\n",
       "</table>\n",
       "</div>"
      ],
      "text/plain": [
       "             Export  Growth Rate(E)         Import  Growth Rate(I)  \\\n",
       "year                                                                 \n",
       "2010  284525.384958             NaN  434742.854789             NaN   \n",
       "2011  338084.345458        0.188240  572127.782322        0.316014   \n",
       "2012  334914.414495       -0.009376  586641.941559        0.025369   \n",
       "2013  346869.760724        0.035697  533632.576571       -0.090361   \n",
       "2014  346080.480757       -0.002275  525292.435502       -0.015629   \n",
       "2015  296459.309228       -0.143380  500966.030566       -0.046310   \n",
       "2016  309998.711399        0.045670  462052.625477       -0.077677   \n",
       "2017  335320.398020        0.081683  539035.778581        0.166611   \n",
       "2018  363035.850795        0.082654  592709.086851        0.099573   \n",
       "\n",
       "      Trade Deficit  \n",
       "year                 \n",
       "2010 -150217.469831  \n",
       "2011 -234043.436864  \n",
       "2012 -251727.527064  \n",
       "2013 -186762.815847  \n",
       "2014 -179211.954745  \n",
       "2015 -204506.721338  \n",
       "2016 -152053.914077  \n",
       "2017 -203715.380561  \n",
       "2018 -229673.236056  "
      ]
     },
     "metadata": {},
     "output_type": "display_data"
    },
    {
     "name": "stdout",
     "output_type": "stream",
     "text": [
      "Descriptive statistics\n"
     ]
    },
    {
     "data": {
      "text/html": [
       "<div>\n",
       "<style scoped>\n",
       "    .dataframe tbody tr th:only-of-type {\n",
       "        vertical-align: middle;\n",
       "    }\n",
       "\n",
       "    .dataframe tbody tr th {\n",
       "        vertical-align: top;\n",
       "    }\n",
       "\n",
       "    .dataframe thead th {\n",
       "        text-align: right;\n",
       "    }\n",
       "</style>\n",
       "<table border=\"1\" class=\"dataframe\">\n",
       "  <thead>\n",
       "    <tr style=\"text-align: right;\">\n",
       "      <th></th>\n",
       "      <th>Export</th>\n",
       "      <th>Growth Rate(E)</th>\n",
       "      <th>Import</th>\n",
       "      <th>Growth Rate(I)</th>\n",
       "      <th>Trade Deficit</th>\n",
       "    </tr>\n",
       "  </thead>\n",
       "  <tbody>\n",
       "    <tr>\n",
       "      <th>count</th>\n",
       "      <td>9.000000</td>\n",
       "      <td>8.000000</td>\n",
       "      <td>9.000000</td>\n",
       "      <td>8.000000</td>\n",
       "      <td>9.000000</td>\n",
       "    </tr>\n",
       "    <tr>\n",
       "      <th>mean</th>\n",
       "      <td>328365.406204</td>\n",
       "      <td>0.034864</td>\n",
       "      <td>527466.790246</td>\n",
       "      <td>0.047199</td>\n",
       "      <td>-199101.384043</td>\n",
       "    </tr>\n",
       "    <tr>\n",
       "      <th>std</th>\n",
       "      <td>25790.686054</td>\n",
       "      <td>0.095038</td>\n",
       "      <td>54208.483729</td>\n",
       "      <td>0.139872</td>\n",
       "      <td>35578.318392</td>\n",
       "    </tr>\n",
       "    <tr>\n",
       "      <th>min</th>\n",
       "      <td>284525.384958</td>\n",
       "      <td>-0.143380</td>\n",
       "      <td>434742.854789</td>\n",
       "      <td>-0.090361</td>\n",
       "      <td>-251727.527064</td>\n",
       "    </tr>\n",
       "    <tr>\n",
       "      <th>25%</th>\n",
       "      <td>309998.711399</td>\n",
       "      <td>-0.004051</td>\n",
       "      <td>500966.030566</td>\n",
       "      <td>-0.054152</td>\n",
       "      <td>-229673.236056</td>\n",
       "    </tr>\n",
       "    <tr>\n",
       "      <th>50%</th>\n",
       "      <td>335320.398020</td>\n",
       "      <td>0.040684</td>\n",
       "      <td>533632.576571</td>\n",
       "      <td>0.004870</td>\n",
       "      <td>-203715.380561</td>\n",
       "    </tr>\n",
       "    <tr>\n",
       "      <th>75%</th>\n",
       "      <td>346080.480757</td>\n",
       "      <td>0.081926</td>\n",
       "      <td>572127.782322</td>\n",
       "      <td>0.116332</td>\n",
       "      <td>-179211.954745</td>\n",
       "    </tr>\n",
       "    <tr>\n",
       "      <th>max</th>\n",
       "      <td>363035.850795</td>\n",
       "      <td>0.188240</td>\n",
       "      <td>592709.086851</td>\n",
       "      <td>0.316014</td>\n",
       "      <td>-150217.469831</td>\n",
       "    </tr>\n",
       "  </tbody>\n",
       "</table>\n",
       "</div>"
      ],
      "text/plain": [
       "              Export  Growth Rate(E)         Import  Growth Rate(I)  \\\n",
       "count       9.000000        8.000000       9.000000        8.000000   \n",
       "mean   328365.406204        0.034864  527466.790246        0.047199   \n",
       "std     25790.686054        0.095038   54208.483729        0.139872   \n",
       "min    284525.384958       -0.143380  434742.854789       -0.090361   \n",
       "25%    309998.711399       -0.004051  500966.030566       -0.054152   \n",
       "50%    335320.398020        0.040684  533632.576571        0.004870   \n",
       "75%    346080.480757        0.081926  572127.782322        0.116332   \n",
       "max    363035.850795        0.188240  592709.086851        0.316014   \n",
       "\n",
       "       Trade Deficit  \n",
       "count       9.000000  \n",
       "mean  -199101.384043  \n",
       "std     35578.318392  \n",
       "min   -251727.527064  \n",
       "25%   -229673.236056  \n",
       "50%   -203715.380561  \n",
       "75%   -179211.954745  \n",
       "max   -150217.469831  "
      ]
     },
     "metadata": {},
     "output_type": "display_data"
    }
   ],
   "source": [
    "print('Export/Import and Trade Balance of India')\n",
    "display(total_year)\n",
    "print('Descriptive statistics')\n",
    "display(total_year.describe())"
   ]
  },
  {
   "cell_type": "code",
   "execution_count": 76,
   "metadata": {},
   "outputs": [
    {
     "data": {
      "application/vnd.plotly.v1+json": {
       "config": {
        "plotlyServerURL": "https://plot.ly"
       },
       "data": [
        {
         "marker": {
          "color": "rgb(55, 83, 109)",
          "line": {
           "color": "rgb(0,0,0)",
           "width": 1.5
          }
         },
         "name": "Export",
         "text": [
          284525.38495751313,
          338084.3454575768,
          334914.4144950189,
          346869.76072423387,
          346080.4807574913,
          296459.30922835856,
          309998.7113991921,
          335320.3980200818,
          363035.8507950556
         ],
         "type": "bar",
         "x": [
          2010,
          2011,
          2012,
          2013,
          2014,
          2015,
          2016,
          2017,
          2018
         ],
         "y": [
          284525.38495751313,
          338084.3454575768,
          334914.4144950189,
          346869.76072423387,
          346080.4807574913,
          296459.30922835856,
          309998.7113991921,
          335320.3980200818,
          363035.8507950556
         ]
        },
        {
         "marker": {
          "color": "rgb(26, 118, 255)",
          "line": {
           "color": "rgb(0,0,0)",
           "width": 1.5
          }
         },
         "name": "Import",
         "text": [
          434742.8547886356,
          572127.7823217957,
          586641.9415594258,
          533632.5765712056,
          525292.4355020347,
          500966.0305664928,
          462052.62547662045,
          539035.7785806303,
          592709.0868507441
         ],
         "type": "bar",
         "x": [
          2010,
          2011,
          2012,
          2013,
          2014,
          2015,
          2016,
          2017,
          2018
         ],
         "y": [
          434742.8547886356,
          572127.7823217957,
          586641.9415594258,
          533632.5765712056,
          525292.4355020347,
          500966.0305664928,
          462052.62547662045,
          539035.7785806303,
          592709.0868507441
         ]
        }
       ],
       "layout": {
        "hovermode": "closest",
        "template": {
         "data": {
          "bar": [
           {
            "error_x": {
             "color": "#2a3f5f"
            },
            "error_y": {
             "color": "#2a3f5f"
            },
            "marker": {
             "line": {
              "color": "#E5ECF6",
              "width": 0.5
             }
            },
            "type": "bar"
           }
          ],
          "barpolar": [
           {
            "marker": {
             "line": {
              "color": "#E5ECF6",
              "width": 0.5
             }
            },
            "type": "barpolar"
           }
          ],
          "carpet": [
           {
            "aaxis": {
             "endlinecolor": "#2a3f5f",
             "gridcolor": "white",
             "linecolor": "white",
             "minorgridcolor": "white",
             "startlinecolor": "#2a3f5f"
            },
            "baxis": {
             "endlinecolor": "#2a3f5f",
             "gridcolor": "white",
             "linecolor": "white",
             "minorgridcolor": "white",
             "startlinecolor": "#2a3f5f"
            },
            "type": "carpet"
           }
          ],
          "choropleth": [
           {
            "colorbar": {
             "outlinewidth": 0,
             "ticks": ""
            },
            "type": "choropleth"
           }
          ],
          "contour": [
           {
            "colorbar": {
             "outlinewidth": 0,
             "ticks": ""
            },
            "colorscale": [
             [
              0,
              "#0d0887"
             ],
             [
              0.1111111111111111,
              "#46039f"
             ],
             [
              0.2222222222222222,
              "#7201a8"
             ],
             [
              0.3333333333333333,
              "#9c179e"
             ],
             [
              0.4444444444444444,
              "#bd3786"
             ],
             [
              0.5555555555555556,
              "#d8576b"
             ],
             [
              0.6666666666666666,
              "#ed7953"
             ],
             [
              0.7777777777777778,
              "#fb9f3a"
             ],
             [
              0.8888888888888888,
              "#fdca26"
             ],
             [
              1,
              "#f0f921"
             ]
            ],
            "type": "contour"
           }
          ],
          "contourcarpet": [
           {
            "colorbar": {
             "outlinewidth": 0,
             "ticks": ""
            },
            "type": "contourcarpet"
           }
          ],
          "heatmap": [
           {
            "colorbar": {
             "outlinewidth": 0,
             "ticks": ""
            },
            "colorscale": [
             [
              0,
              "#0d0887"
             ],
             [
              0.1111111111111111,
              "#46039f"
             ],
             [
              0.2222222222222222,
              "#7201a8"
             ],
             [
              0.3333333333333333,
              "#9c179e"
             ],
             [
              0.4444444444444444,
              "#bd3786"
             ],
             [
              0.5555555555555556,
              "#d8576b"
             ],
             [
              0.6666666666666666,
              "#ed7953"
             ],
             [
              0.7777777777777778,
              "#fb9f3a"
             ],
             [
              0.8888888888888888,
              "#fdca26"
             ],
             [
              1,
              "#f0f921"
             ]
            ],
            "type": "heatmap"
           }
          ],
          "heatmapgl": [
           {
            "colorbar": {
             "outlinewidth": 0,
             "ticks": ""
            },
            "colorscale": [
             [
              0,
              "#0d0887"
             ],
             [
              0.1111111111111111,
              "#46039f"
             ],
             [
              0.2222222222222222,
              "#7201a8"
             ],
             [
              0.3333333333333333,
              "#9c179e"
             ],
             [
              0.4444444444444444,
              "#bd3786"
             ],
             [
              0.5555555555555556,
              "#d8576b"
             ],
             [
              0.6666666666666666,
              "#ed7953"
             ],
             [
              0.7777777777777778,
              "#fb9f3a"
             ],
             [
              0.8888888888888888,
              "#fdca26"
             ],
             [
              1,
              "#f0f921"
             ]
            ],
            "type": "heatmapgl"
           }
          ],
          "histogram": [
           {
            "marker": {
             "colorbar": {
              "outlinewidth": 0,
              "ticks": ""
             }
            },
            "type": "histogram"
           }
          ],
          "histogram2d": [
           {
            "colorbar": {
             "outlinewidth": 0,
             "ticks": ""
            },
            "colorscale": [
             [
              0,
              "#0d0887"
             ],
             [
              0.1111111111111111,
              "#46039f"
             ],
             [
              0.2222222222222222,
              "#7201a8"
             ],
             [
              0.3333333333333333,
              "#9c179e"
             ],
             [
              0.4444444444444444,
              "#bd3786"
             ],
             [
              0.5555555555555556,
              "#d8576b"
             ],
             [
              0.6666666666666666,
              "#ed7953"
             ],
             [
              0.7777777777777778,
              "#fb9f3a"
             ],
             [
              0.8888888888888888,
              "#fdca26"
             ],
             [
              1,
              "#f0f921"
             ]
            ],
            "type": "histogram2d"
           }
          ],
          "histogram2dcontour": [
           {
            "colorbar": {
             "outlinewidth": 0,
             "ticks": ""
            },
            "colorscale": [
             [
              0,
              "#0d0887"
             ],
             [
              0.1111111111111111,
              "#46039f"
             ],
             [
              0.2222222222222222,
              "#7201a8"
             ],
             [
              0.3333333333333333,
              "#9c179e"
             ],
             [
              0.4444444444444444,
              "#bd3786"
             ],
             [
              0.5555555555555556,
              "#d8576b"
             ],
             [
              0.6666666666666666,
              "#ed7953"
             ],
             [
              0.7777777777777778,
              "#fb9f3a"
             ],
             [
              0.8888888888888888,
              "#fdca26"
             ],
             [
              1,
              "#f0f921"
             ]
            ],
            "type": "histogram2dcontour"
           }
          ],
          "mesh3d": [
           {
            "colorbar": {
             "outlinewidth": 0,
             "ticks": ""
            },
            "type": "mesh3d"
           }
          ],
          "parcoords": [
           {
            "line": {
             "colorbar": {
              "outlinewidth": 0,
              "ticks": ""
             }
            },
            "type": "parcoords"
           }
          ],
          "pie": [
           {
            "automargin": true,
            "type": "pie"
           }
          ],
          "scatter": [
           {
            "marker": {
             "colorbar": {
              "outlinewidth": 0,
              "ticks": ""
             }
            },
            "type": "scatter"
           }
          ],
          "scatter3d": [
           {
            "line": {
             "colorbar": {
              "outlinewidth": 0,
              "ticks": ""
             }
            },
            "marker": {
             "colorbar": {
              "outlinewidth": 0,
              "ticks": ""
             }
            },
            "type": "scatter3d"
           }
          ],
          "scattercarpet": [
           {
            "marker": {
             "colorbar": {
              "outlinewidth": 0,
              "ticks": ""
             }
            },
            "type": "scattercarpet"
           }
          ],
          "scattergeo": [
           {
            "marker": {
             "colorbar": {
              "outlinewidth": 0,
              "ticks": ""
             }
            },
            "type": "scattergeo"
           }
          ],
          "scattergl": [
           {
            "marker": {
             "colorbar": {
              "outlinewidth": 0,
              "ticks": ""
             }
            },
            "type": "scattergl"
           }
          ],
          "scattermapbox": [
           {
            "marker": {
             "colorbar": {
              "outlinewidth": 0,
              "ticks": ""
             }
            },
            "type": "scattermapbox"
           }
          ],
          "scatterpolar": [
           {
            "marker": {
             "colorbar": {
              "outlinewidth": 0,
              "ticks": ""
             }
            },
            "type": "scatterpolar"
           }
          ],
          "scatterpolargl": [
           {
            "marker": {
             "colorbar": {
              "outlinewidth": 0,
              "ticks": ""
             }
            },
            "type": "scatterpolargl"
           }
          ],
          "scatterternary": [
           {
            "marker": {
             "colorbar": {
              "outlinewidth": 0,
              "ticks": ""
             }
            },
            "type": "scatterternary"
           }
          ],
          "surface": [
           {
            "colorbar": {
             "outlinewidth": 0,
             "ticks": ""
            },
            "colorscale": [
             [
              0,
              "#0d0887"
             ],
             [
              0.1111111111111111,
              "#46039f"
             ],
             [
              0.2222222222222222,
              "#7201a8"
             ],
             [
              0.3333333333333333,
              "#9c179e"
             ],
             [
              0.4444444444444444,
              "#bd3786"
             ],
             [
              0.5555555555555556,
              "#d8576b"
             ],
             [
              0.6666666666666666,
              "#ed7953"
             ],
             [
              0.7777777777777778,
              "#fb9f3a"
             ],
             [
              0.8888888888888888,
              "#fdca26"
             ],
             [
              1,
              "#f0f921"
             ]
            ],
            "type": "surface"
           }
          ],
          "table": [
           {
            "cells": {
             "fill": {
              "color": "#EBF0F8"
             },
             "line": {
              "color": "white"
             }
            },
            "header": {
             "fill": {
              "color": "#C8D4E3"
             },
             "line": {
              "color": "white"
             }
            },
            "type": "table"
           }
          ]
         },
         "layout": {
          "annotationdefaults": {
           "arrowcolor": "#2a3f5f",
           "arrowhead": 0,
           "arrowwidth": 1
          },
          "coloraxis": {
           "colorbar": {
            "outlinewidth": 0,
            "ticks": ""
           }
          },
          "colorscale": {
           "diverging": [
            [
             0,
             "#8e0152"
            ],
            [
             0.1,
             "#c51b7d"
            ],
            [
             0.2,
             "#de77ae"
            ],
            [
             0.3,
             "#f1b6da"
            ],
            [
             0.4,
             "#fde0ef"
            ],
            [
             0.5,
             "#f7f7f7"
            ],
            [
             0.6,
             "#e6f5d0"
            ],
            [
             0.7,
             "#b8e186"
            ],
            [
             0.8,
             "#7fbc41"
            ],
            [
             0.9,
             "#4d9221"
            ],
            [
             1,
             "#276419"
            ]
           ],
           "sequential": [
            [
             0,
             "#0d0887"
            ],
            [
             0.1111111111111111,
             "#46039f"
            ],
            [
             0.2222222222222222,
             "#7201a8"
            ],
            [
             0.3333333333333333,
             "#9c179e"
            ],
            [
             0.4444444444444444,
             "#bd3786"
            ],
            [
             0.5555555555555556,
             "#d8576b"
            ],
            [
             0.6666666666666666,
             "#ed7953"
            ],
            [
             0.7777777777777778,
             "#fb9f3a"
            ],
            [
             0.8888888888888888,
             "#fdca26"
            ],
            [
             1,
             "#f0f921"
            ]
           ],
           "sequentialminus": [
            [
             0,
             "#0d0887"
            ],
            [
             0.1111111111111111,
             "#46039f"
            ],
            [
             0.2222222222222222,
             "#7201a8"
            ],
            [
             0.3333333333333333,
             "#9c179e"
            ],
            [
             0.4444444444444444,
             "#bd3786"
            ],
            [
             0.5555555555555556,
             "#d8576b"
            ],
            [
             0.6666666666666666,
             "#ed7953"
            ],
            [
             0.7777777777777778,
             "#fb9f3a"
            ],
            [
             0.8888888888888888,
             "#fdca26"
            ],
            [
             1,
             "#f0f921"
            ]
           ]
          },
          "colorway": [
           "#636efa",
           "#EF553B",
           "#00cc96",
           "#ab63fa",
           "#FFA15A",
           "#19d3f3",
           "#FF6692",
           "#B6E880",
           "#FF97FF",
           "#FECB52"
          ],
          "font": {
           "color": "#2a3f5f"
          },
          "geo": {
           "bgcolor": "white",
           "lakecolor": "white",
           "landcolor": "#E5ECF6",
           "showlakes": true,
           "showland": true,
           "subunitcolor": "white"
          },
          "hoverlabel": {
           "align": "left"
          },
          "hovermode": "closest",
          "mapbox": {
           "style": "light"
          },
          "paper_bgcolor": "white",
          "plot_bgcolor": "#E5ECF6",
          "polar": {
           "angularaxis": {
            "gridcolor": "white",
            "linecolor": "white",
            "ticks": ""
           },
           "bgcolor": "#E5ECF6",
           "radialaxis": {
            "gridcolor": "white",
            "linecolor": "white",
            "ticks": ""
           }
          },
          "scene": {
           "xaxis": {
            "backgroundcolor": "#E5ECF6",
            "gridcolor": "white",
            "gridwidth": 2,
            "linecolor": "white",
            "showbackground": true,
            "ticks": "",
            "zerolinecolor": "white"
           },
           "yaxis": {
            "backgroundcolor": "#E5ECF6",
            "gridcolor": "white",
            "gridwidth": 2,
            "linecolor": "white",
            "showbackground": true,
            "ticks": "",
            "zerolinecolor": "white"
           },
           "zaxis": {
            "backgroundcolor": "#E5ECF6",
            "gridcolor": "white",
            "gridwidth": 2,
            "linecolor": "white",
            "showbackground": true,
            "ticks": "",
            "zerolinecolor": "white"
           }
          },
          "shapedefaults": {
           "line": {
            "color": "#2a3f5f"
           }
          },
          "ternary": {
           "aaxis": {
            "gridcolor": "white",
            "linecolor": "white",
            "ticks": ""
           },
           "baxis": {
            "gridcolor": "white",
            "linecolor": "white",
            "ticks": ""
           },
           "bgcolor": "#E5ECF6",
           "caxis": {
            "gridcolor": "white",
            "linecolor": "white",
            "ticks": ""
           }
          },
          "title": {
           "x": 0.05
          },
          "xaxis": {
           "automargin": true,
           "gridcolor": "white",
           "linecolor": "white",
           "ticks": "",
           "title": {
            "standoff": 15
           },
           "zerolinecolor": "white",
           "zerolinewidth": 2
          },
          "yaxis": {
           "automargin": true,
           "gridcolor": "white",
           "linecolor": "white",
           "ticks": "",
           "title": {
            "standoff": 15
           },
           "zerolinecolor": "white",
           "zerolinewidth": 2
          }
         }
        },
        "title": {
         "text": "Export/Import of Indian Trade from 2010 to 2018"
        },
        "xaxis": {
         "title": {
          "text": "Year"
         }
        },
        "yaxis": {
         "title": {
          "text": "USD (millions)"
         }
        }
       }
      },
      "text/html": [
       "<div>\n",
       "        \n",
       "        \n",
       "            <div id=\"68486e88-b2aa-465c-81bf-0f02ec76faa2\" class=\"plotly-graph-div\" style=\"height:525px; width:100%;\"></div>\n",
       "            <script type=\"text/javascript\">\n",
       "                require([\"plotly\"], function(Plotly) {\n",
       "                    window.PLOTLYENV=window.PLOTLYENV || {};\n",
       "                    \n",
       "                if (document.getElementById(\"68486e88-b2aa-465c-81bf-0f02ec76faa2\")) {\n",
       "                    Plotly.newPlot(\n",
       "                        '68486e88-b2aa-465c-81bf-0f02ec76faa2',\n",
       "                        [{\"marker\": {\"color\": \"rgb(55, 83, 109)\", \"line\": {\"color\": \"rgb(0,0,0)\", \"width\": 1.5}}, \"name\": \"Export\", \"text\": [284525.38495751313, 338084.3454575768, 334914.4144950189, 346869.76072423387, 346080.4807574913, 296459.30922835856, 309998.7113991921, 335320.3980200818, 363035.8507950556], \"type\": \"bar\", \"x\": [2010, 2011, 2012, 2013, 2014, 2015, 2016, 2017, 2018], \"y\": [284525.38495751313, 338084.3454575768, 334914.4144950189, 346869.76072423387, 346080.4807574913, 296459.30922835856, 309998.7113991921, 335320.3980200818, 363035.8507950556]}, {\"marker\": {\"color\": \"rgb(26, 118, 255)\", \"line\": {\"color\": \"rgb(0,0,0)\", \"width\": 1.5}}, \"name\": \"Import\", \"text\": [434742.8547886356, 572127.7823217957, 586641.9415594258, 533632.5765712056, 525292.4355020347, 500966.0305664928, 462052.62547662045, 539035.7785806303, 592709.0868507441], \"type\": \"bar\", \"x\": [2010, 2011, 2012, 2013, 2014, 2015, 2016, 2017, 2018], \"y\": [434742.8547886356, 572127.7823217957, 586641.9415594258, 533632.5765712056, 525292.4355020347, 500966.0305664928, 462052.62547662045, 539035.7785806303, 592709.0868507441]}],\n",
       "                        {\"hovermode\": \"closest\", \"template\": {\"data\": {\"bar\": [{\"error_x\": {\"color\": \"#2a3f5f\"}, \"error_y\": {\"color\": \"#2a3f5f\"}, \"marker\": {\"line\": {\"color\": \"#E5ECF6\", \"width\": 0.5}}, \"type\": \"bar\"}], \"barpolar\": [{\"marker\": {\"line\": {\"color\": \"#E5ECF6\", \"width\": 0.5}}, \"type\": \"barpolar\"}], \"carpet\": [{\"aaxis\": {\"endlinecolor\": \"#2a3f5f\", \"gridcolor\": \"white\", \"linecolor\": \"white\", \"minorgridcolor\": \"white\", \"startlinecolor\": \"#2a3f5f\"}, \"baxis\": {\"endlinecolor\": \"#2a3f5f\", \"gridcolor\": \"white\", \"linecolor\": \"white\", \"minorgridcolor\": \"white\", \"startlinecolor\": \"#2a3f5f\"}, \"type\": \"carpet\"}], \"choropleth\": [{\"colorbar\": {\"outlinewidth\": 0, \"ticks\": \"\"}, \"type\": \"choropleth\"}], \"contour\": [{\"colorbar\": {\"outlinewidth\": 0, \"ticks\": \"\"}, \"colorscale\": [[0.0, \"#0d0887\"], [0.1111111111111111, \"#46039f\"], [0.2222222222222222, \"#7201a8\"], [0.3333333333333333, \"#9c179e\"], [0.4444444444444444, \"#bd3786\"], [0.5555555555555556, \"#d8576b\"], [0.6666666666666666, \"#ed7953\"], [0.7777777777777778, \"#fb9f3a\"], [0.8888888888888888, \"#fdca26\"], [1.0, \"#f0f921\"]], \"type\": \"contour\"}], \"contourcarpet\": [{\"colorbar\": {\"outlinewidth\": 0, \"ticks\": \"\"}, \"type\": \"contourcarpet\"}], \"heatmap\": [{\"colorbar\": {\"outlinewidth\": 0, \"ticks\": \"\"}, \"colorscale\": [[0.0, \"#0d0887\"], [0.1111111111111111, \"#46039f\"], [0.2222222222222222, \"#7201a8\"], [0.3333333333333333, \"#9c179e\"], [0.4444444444444444, \"#bd3786\"], [0.5555555555555556, \"#d8576b\"], [0.6666666666666666, \"#ed7953\"], [0.7777777777777778, \"#fb9f3a\"], [0.8888888888888888, \"#fdca26\"], [1.0, \"#f0f921\"]], \"type\": \"heatmap\"}], \"heatmapgl\": [{\"colorbar\": {\"outlinewidth\": 0, \"ticks\": \"\"}, \"colorscale\": [[0.0, \"#0d0887\"], [0.1111111111111111, \"#46039f\"], [0.2222222222222222, \"#7201a8\"], [0.3333333333333333, \"#9c179e\"], [0.4444444444444444, \"#bd3786\"], [0.5555555555555556, \"#d8576b\"], [0.6666666666666666, \"#ed7953\"], [0.7777777777777778, \"#fb9f3a\"], [0.8888888888888888, \"#fdca26\"], [1.0, \"#f0f921\"]], \"type\": \"heatmapgl\"}], \"histogram\": [{\"marker\": {\"colorbar\": {\"outlinewidth\": 0, \"ticks\": \"\"}}, \"type\": \"histogram\"}], \"histogram2d\": [{\"colorbar\": {\"outlinewidth\": 0, \"ticks\": \"\"}, \"colorscale\": [[0.0, \"#0d0887\"], [0.1111111111111111, \"#46039f\"], [0.2222222222222222, \"#7201a8\"], [0.3333333333333333, \"#9c179e\"], [0.4444444444444444, \"#bd3786\"], [0.5555555555555556, \"#d8576b\"], [0.6666666666666666, \"#ed7953\"], [0.7777777777777778, \"#fb9f3a\"], [0.8888888888888888, \"#fdca26\"], [1.0, \"#f0f921\"]], \"type\": \"histogram2d\"}], \"histogram2dcontour\": [{\"colorbar\": {\"outlinewidth\": 0, \"ticks\": \"\"}, \"colorscale\": [[0.0, \"#0d0887\"], [0.1111111111111111, \"#46039f\"], [0.2222222222222222, \"#7201a8\"], [0.3333333333333333, \"#9c179e\"], [0.4444444444444444, \"#bd3786\"], [0.5555555555555556, \"#d8576b\"], [0.6666666666666666, \"#ed7953\"], [0.7777777777777778, \"#fb9f3a\"], [0.8888888888888888, \"#fdca26\"], [1.0, \"#f0f921\"]], \"type\": \"histogram2dcontour\"}], \"mesh3d\": [{\"colorbar\": {\"outlinewidth\": 0, \"ticks\": \"\"}, \"type\": \"mesh3d\"}], \"parcoords\": [{\"line\": {\"colorbar\": {\"outlinewidth\": 0, \"ticks\": \"\"}}, \"type\": \"parcoords\"}], \"pie\": [{\"automargin\": true, \"type\": \"pie\"}], \"scatter\": [{\"marker\": {\"colorbar\": {\"outlinewidth\": 0, \"ticks\": \"\"}}, \"type\": \"scatter\"}], \"scatter3d\": [{\"line\": {\"colorbar\": {\"outlinewidth\": 0, \"ticks\": \"\"}}, \"marker\": {\"colorbar\": {\"outlinewidth\": 0, \"ticks\": \"\"}}, \"type\": \"scatter3d\"}], \"scattercarpet\": [{\"marker\": {\"colorbar\": {\"outlinewidth\": 0, \"ticks\": \"\"}}, \"type\": \"scattercarpet\"}], \"scattergeo\": [{\"marker\": {\"colorbar\": {\"outlinewidth\": 0, \"ticks\": \"\"}}, \"type\": \"scattergeo\"}], \"scattergl\": [{\"marker\": {\"colorbar\": {\"outlinewidth\": 0, \"ticks\": \"\"}}, \"type\": \"scattergl\"}], \"scattermapbox\": [{\"marker\": {\"colorbar\": {\"outlinewidth\": 0, \"ticks\": \"\"}}, \"type\": \"scattermapbox\"}], \"scatterpolar\": [{\"marker\": {\"colorbar\": {\"outlinewidth\": 0, \"ticks\": \"\"}}, \"type\": \"scatterpolar\"}], \"scatterpolargl\": [{\"marker\": {\"colorbar\": {\"outlinewidth\": 0, \"ticks\": \"\"}}, \"type\": \"scatterpolargl\"}], \"scatterternary\": [{\"marker\": {\"colorbar\": {\"outlinewidth\": 0, \"ticks\": \"\"}}, \"type\": \"scatterternary\"}], \"surface\": [{\"colorbar\": {\"outlinewidth\": 0, \"ticks\": \"\"}, \"colorscale\": [[0.0, \"#0d0887\"], [0.1111111111111111, \"#46039f\"], [0.2222222222222222, \"#7201a8\"], [0.3333333333333333, \"#9c179e\"], [0.4444444444444444, \"#bd3786\"], [0.5555555555555556, \"#d8576b\"], [0.6666666666666666, \"#ed7953\"], [0.7777777777777778, \"#fb9f3a\"], [0.8888888888888888, \"#fdca26\"], [1.0, \"#f0f921\"]], \"type\": \"surface\"}], \"table\": [{\"cells\": {\"fill\": {\"color\": \"#EBF0F8\"}, \"line\": {\"color\": \"white\"}}, \"header\": {\"fill\": {\"color\": \"#C8D4E3\"}, \"line\": {\"color\": \"white\"}}, \"type\": \"table\"}]}, \"layout\": {\"annotationdefaults\": {\"arrowcolor\": \"#2a3f5f\", \"arrowhead\": 0, \"arrowwidth\": 1}, \"coloraxis\": {\"colorbar\": {\"outlinewidth\": 0, \"ticks\": \"\"}}, \"colorscale\": {\"diverging\": [[0, \"#8e0152\"], [0.1, \"#c51b7d\"], [0.2, \"#de77ae\"], [0.3, \"#f1b6da\"], [0.4, \"#fde0ef\"], [0.5, \"#f7f7f7\"], [0.6, \"#e6f5d0\"], [0.7, \"#b8e186\"], [0.8, \"#7fbc41\"], [0.9, \"#4d9221\"], [1, \"#276419\"]], \"sequential\": [[0.0, \"#0d0887\"], [0.1111111111111111, \"#46039f\"], [0.2222222222222222, \"#7201a8\"], [0.3333333333333333, \"#9c179e\"], [0.4444444444444444, \"#bd3786\"], [0.5555555555555556, \"#d8576b\"], [0.6666666666666666, \"#ed7953\"], [0.7777777777777778, \"#fb9f3a\"], [0.8888888888888888, \"#fdca26\"], [1.0, \"#f0f921\"]], \"sequentialminus\": [[0.0, \"#0d0887\"], [0.1111111111111111, \"#46039f\"], [0.2222222222222222, \"#7201a8\"], [0.3333333333333333, \"#9c179e\"], [0.4444444444444444, \"#bd3786\"], [0.5555555555555556, \"#d8576b\"], [0.6666666666666666, \"#ed7953\"], [0.7777777777777778, \"#fb9f3a\"], [0.8888888888888888, \"#fdca26\"], [1.0, \"#f0f921\"]]}, \"colorway\": [\"#636efa\", \"#EF553B\", \"#00cc96\", \"#ab63fa\", \"#FFA15A\", \"#19d3f3\", \"#FF6692\", \"#B6E880\", \"#FF97FF\", \"#FECB52\"], \"font\": {\"color\": \"#2a3f5f\"}, \"geo\": {\"bgcolor\": \"white\", \"lakecolor\": \"white\", \"landcolor\": \"#E5ECF6\", \"showlakes\": true, \"showland\": true, \"subunitcolor\": \"white\"}, \"hoverlabel\": {\"align\": \"left\"}, \"hovermode\": \"closest\", \"mapbox\": {\"style\": \"light\"}, \"paper_bgcolor\": \"white\", \"plot_bgcolor\": \"#E5ECF6\", \"polar\": {\"angularaxis\": {\"gridcolor\": \"white\", \"linecolor\": \"white\", \"ticks\": \"\"}, \"bgcolor\": \"#E5ECF6\", \"radialaxis\": {\"gridcolor\": \"white\", \"linecolor\": \"white\", \"ticks\": \"\"}}, \"scene\": {\"xaxis\": {\"backgroundcolor\": \"#E5ECF6\", \"gridcolor\": \"white\", \"gridwidth\": 2, \"linecolor\": \"white\", \"showbackground\": true, \"ticks\": \"\", \"zerolinecolor\": \"white\"}, \"yaxis\": {\"backgroundcolor\": \"#E5ECF6\", \"gridcolor\": \"white\", \"gridwidth\": 2, \"linecolor\": \"white\", \"showbackground\": true, \"ticks\": \"\", \"zerolinecolor\": \"white\"}, \"zaxis\": {\"backgroundcolor\": \"#E5ECF6\", \"gridcolor\": \"white\", \"gridwidth\": 2, \"linecolor\": \"white\", \"showbackground\": true, \"ticks\": \"\", \"zerolinecolor\": \"white\"}}, \"shapedefaults\": {\"line\": {\"color\": \"#2a3f5f\"}}, \"ternary\": {\"aaxis\": {\"gridcolor\": \"white\", \"linecolor\": \"white\", \"ticks\": \"\"}, \"baxis\": {\"gridcolor\": \"white\", \"linecolor\": \"white\", \"ticks\": \"\"}, \"bgcolor\": \"#E5ECF6\", \"caxis\": {\"gridcolor\": \"white\", \"linecolor\": \"white\", \"ticks\": \"\"}}, \"title\": {\"x\": 0.05}, \"xaxis\": {\"automargin\": true, \"gridcolor\": \"white\", \"linecolor\": \"white\", \"ticks\": \"\", \"title\": {\"standoff\": 15}, \"zerolinecolor\": \"white\", \"zerolinewidth\": 2}, \"yaxis\": {\"automargin\": true, \"gridcolor\": \"white\", \"linecolor\": \"white\", \"ticks\": \"\", \"title\": {\"standoff\": 15}, \"zerolinecolor\": \"white\", \"zerolinewidth\": 2}}}, \"title\": {\"text\": \"Export/Import of Indian Trade from 2010 to 2018\"}, \"xaxis\": {\"title\": {\"text\": \"Year\"}}, \"yaxis\": {\"title\": {\"text\": \"USD (millions)\"}}},\n",
       "                        {\"responsive\": true}\n",
       "                    ).then(function(){\n",
       "                            \n",
       "var gd = document.getElementById('68486e88-b2aa-465c-81bf-0f02ec76faa2');\n",
       "var x = new MutationObserver(function (mutations, observer) {{\n",
       "        var display = window.getComputedStyle(gd).display;\n",
       "        if (!display || display === 'none') {{\n",
       "            console.log([gd, 'removed!']);\n",
       "            Plotly.purge(gd);\n",
       "            observer.disconnect();\n",
       "        }}\n",
       "}});\n",
       "\n",
       "// Listen for the removal of the full notebook cells\n",
       "var notebookContainer = gd.closest('#notebook-container');\n",
       "if (notebookContainer) {{\n",
       "    x.observe(notebookContainer, {childList: true});\n",
       "}}\n",
       "\n",
       "// Listen for the clearing of the current output cell\n",
       "var outputEl = gd.closest('.output');\n",
       "if (outputEl) {{\n",
       "    x.observe(outputEl, {childList: true});\n",
       "}}\n",
       "\n",
       "                        })\n",
       "                };\n",
       "                });\n",
       "            </script>\n",
       "        </div>"
      ]
     },
     "metadata": {},
     "output_type": "display_data"
    }
   ],
   "source": [
    "trace1 = go.Bar(\n",
    "                x = total_year.index,\n",
    "                y = total_year.Export,\n",
    "                name = \"Export\",\n",
    "                marker = dict(color = 'rgb(55, 83, 109)',\n",
    "                             line=dict(color='rgb(0,0,0)',width=1.5)),\n",
    "                text = total_year.Export)\n",
    "# create trace2 \n",
    "trace2 = go.Bar(\n",
    "                x = total_year.index,\n",
    "                y = total_year.Import,\n",
    "                name = \"Import\",\n",
    "                marker = dict(color = 'rgb(26, 118, 255)',\n",
    "                              line=dict(color='rgb(0,0,0)',width=1.5)),\n",
    "                text = total_year.Import)\n",
    "\n",
    "\n",
    "layout = go.Layout(hovermode= 'closest', title = 'Export/Import of Indian Trade from 2010 to 2018' , xaxis = dict(title = 'Year'), yaxis = dict(title = 'USD (millions)'))\n",
    "fig = go.Figure(data = [trace1, trace2], layout = layout)\n",
    "fig.show()"
   ]
  },
  {
   "cell_type": "code",
   "execution_count": 77,
   "metadata": {},
   "outputs": [
    {
     "data": {
      "application/vnd.plotly.v1+json": {
       "config": {
        "plotlyServerURL": "https://plot.ly"
       },
       "data": [
        {
         "line": {
          "color": "deepskyblue"
         },
         "name": "Growth Rate(E)",
         "opacity": 0.8,
         "text": [
          null,
          0.1882396556920971,
          -0.009376154220532174,
          0.0356967204509282,
          -0.002275436074608006,
          -0.14338043977667658,
          0.04567035592869284,
          0.08168319960621506,
          0.08265364391376506
         ],
         "type": "scatter",
         "x": [
          2010,
          2011,
          2012,
          2013,
          2014,
          2015,
          2016,
          2017,
          2018
         ],
         "y": [
          null,
          0.1882396556920971,
          -0.009376154220532174,
          0.0356967204509282,
          -0.002275436074608006,
          -0.14338043977667658,
          0.04567035592869284,
          0.08168319960621506,
          0.08265364391376506
         ]
        },
        {
         "line": {
          "color": "dimgray"
         },
         "name": "Growth Rate(I)",
         "opacity": 0.8,
         "text": [
          null,
          0.3160142277667892,
          0.025368736995657004,
          -0.09036068039613632,
          -0.015628995371233745,
          -0.0463102136856256,
          -0.07767673398108266,
          0.16661122317960975,
          0.09957281205237334
         ],
         "type": "scatter",
         "x": [
          2010,
          2011,
          2012,
          2013,
          2014,
          2015,
          2016,
          2017,
          2018
         ],
         "y": [
          null,
          0.3160142277667892,
          0.025368736995657004,
          -0.09036068039613632,
          -0.015628995371233745,
          -0.0463102136856256,
          -0.07767673398108266,
          0.16661122317960975,
          0.09957281205237334
         ]
        }
       ],
       "layout": {
        "hovermode": "closest",
        "template": {
         "data": {
          "bar": [
           {
            "error_x": {
             "color": "#2a3f5f"
            },
            "error_y": {
             "color": "#2a3f5f"
            },
            "marker": {
             "line": {
              "color": "#E5ECF6",
              "width": 0.5
             }
            },
            "type": "bar"
           }
          ],
          "barpolar": [
           {
            "marker": {
             "line": {
              "color": "#E5ECF6",
              "width": 0.5
             }
            },
            "type": "barpolar"
           }
          ],
          "carpet": [
           {
            "aaxis": {
             "endlinecolor": "#2a3f5f",
             "gridcolor": "white",
             "linecolor": "white",
             "minorgridcolor": "white",
             "startlinecolor": "#2a3f5f"
            },
            "baxis": {
             "endlinecolor": "#2a3f5f",
             "gridcolor": "white",
             "linecolor": "white",
             "minorgridcolor": "white",
             "startlinecolor": "#2a3f5f"
            },
            "type": "carpet"
           }
          ],
          "choropleth": [
           {
            "colorbar": {
             "outlinewidth": 0,
             "ticks": ""
            },
            "type": "choropleth"
           }
          ],
          "contour": [
           {
            "colorbar": {
             "outlinewidth": 0,
             "ticks": ""
            },
            "colorscale": [
             [
              0,
              "#0d0887"
             ],
             [
              0.1111111111111111,
              "#46039f"
             ],
             [
              0.2222222222222222,
              "#7201a8"
             ],
             [
              0.3333333333333333,
              "#9c179e"
             ],
             [
              0.4444444444444444,
              "#bd3786"
             ],
             [
              0.5555555555555556,
              "#d8576b"
             ],
             [
              0.6666666666666666,
              "#ed7953"
             ],
             [
              0.7777777777777778,
              "#fb9f3a"
             ],
             [
              0.8888888888888888,
              "#fdca26"
             ],
             [
              1,
              "#f0f921"
             ]
            ],
            "type": "contour"
           }
          ],
          "contourcarpet": [
           {
            "colorbar": {
             "outlinewidth": 0,
             "ticks": ""
            },
            "type": "contourcarpet"
           }
          ],
          "heatmap": [
           {
            "colorbar": {
             "outlinewidth": 0,
             "ticks": ""
            },
            "colorscale": [
             [
              0,
              "#0d0887"
             ],
             [
              0.1111111111111111,
              "#46039f"
             ],
             [
              0.2222222222222222,
              "#7201a8"
             ],
             [
              0.3333333333333333,
              "#9c179e"
             ],
             [
              0.4444444444444444,
              "#bd3786"
             ],
             [
              0.5555555555555556,
              "#d8576b"
             ],
             [
              0.6666666666666666,
              "#ed7953"
             ],
             [
              0.7777777777777778,
              "#fb9f3a"
             ],
             [
              0.8888888888888888,
              "#fdca26"
             ],
             [
              1,
              "#f0f921"
             ]
            ],
            "type": "heatmap"
           }
          ],
          "heatmapgl": [
           {
            "colorbar": {
             "outlinewidth": 0,
             "ticks": ""
            },
            "colorscale": [
             [
              0,
              "#0d0887"
             ],
             [
              0.1111111111111111,
              "#46039f"
             ],
             [
              0.2222222222222222,
              "#7201a8"
             ],
             [
              0.3333333333333333,
              "#9c179e"
             ],
             [
              0.4444444444444444,
              "#bd3786"
             ],
             [
              0.5555555555555556,
              "#d8576b"
             ],
             [
              0.6666666666666666,
              "#ed7953"
             ],
             [
              0.7777777777777778,
              "#fb9f3a"
             ],
             [
              0.8888888888888888,
              "#fdca26"
             ],
             [
              1,
              "#f0f921"
             ]
            ],
            "type": "heatmapgl"
           }
          ],
          "histogram": [
           {
            "marker": {
             "colorbar": {
              "outlinewidth": 0,
              "ticks": ""
             }
            },
            "type": "histogram"
           }
          ],
          "histogram2d": [
           {
            "colorbar": {
             "outlinewidth": 0,
             "ticks": ""
            },
            "colorscale": [
             [
              0,
              "#0d0887"
             ],
             [
              0.1111111111111111,
              "#46039f"
             ],
             [
              0.2222222222222222,
              "#7201a8"
             ],
             [
              0.3333333333333333,
              "#9c179e"
             ],
             [
              0.4444444444444444,
              "#bd3786"
             ],
             [
              0.5555555555555556,
              "#d8576b"
             ],
             [
              0.6666666666666666,
              "#ed7953"
             ],
             [
              0.7777777777777778,
              "#fb9f3a"
             ],
             [
              0.8888888888888888,
              "#fdca26"
             ],
             [
              1,
              "#f0f921"
             ]
            ],
            "type": "histogram2d"
           }
          ],
          "histogram2dcontour": [
           {
            "colorbar": {
             "outlinewidth": 0,
             "ticks": ""
            },
            "colorscale": [
             [
              0,
              "#0d0887"
             ],
             [
              0.1111111111111111,
              "#46039f"
             ],
             [
              0.2222222222222222,
              "#7201a8"
             ],
             [
              0.3333333333333333,
              "#9c179e"
             ],
             [
              0.4444444444444444,
              "#bd3786"
             ],
             [
              0.5555555555555556,
              "#d8576b"
             ],
             [
              0.6666666666666666,
              "#ed7953"
             ],
             [
              0.7777777777777778,
              "#fb9f3a"
             ],
             [
              0.8888888888888888,
              "#fdca26"
             ],
             [
              1,
              "#f0f921"
             ]
            ],
            "type": "histogram2dcontour"
           }
          ],
          "mesh3d": [
           {
            "colorbar": {
             "outlinewidth": 0,
             "ticks": ""
            },
            "type": "mesh3d"
           }
          ],
          "parcoords": [
           {
            "line": {
             "colorbar": {
              "outlinewidth": 0,
              "ticks": ""
             }
            },
            "type": "parcoords"
           }
          ],
          "pie": [
           {
            "automargin": true,
            "type": "pie"
           }
          ],
          "scatter": [
           {
            "marker": {
             "colorbar": {
              "outlinewidth": 0,
              "ticks": ""
             }
            },
            "type": "scatter"
           }
          ],
          "scatter3d": [
           {
            "line": {
             "colorbar": {
              "outlinewidth": 0,
              "ticks": ""
             }
            },
            "marker": {
             "colorbar": {
              "outlinewidth": 0,
              "ticks": ""
             }
            },
            "type": "scatter3d"
           }
          ],
          "scattercarpet": [
           {
            "marker": {
             "colorbar": {
              "outlinewidth": 0,
              "ticks": ""
             }
            },
            "type": "scattercarpet"
           }
          ],
          "scattergeo": [
           {
            "marker": {
             "colorbar": {
              "outlinewidth": 0,
              "ticks": ""
             }
            },
            "type": "scattergeo"
           }
          ],
          "scattergl": [
           {
            "marker": {
             "colorbar": {
              "outlinewidth": 0,
              "ticks": ""
             }
            },
            "type": "scattergl"
           }
          ],
          "scattermapbox": [
           {
            "marker": {
             "colorbar": {
              "outlinewidth": 0,
              "ticks": ""
             }
            },
            "type": "scattermapbox"
           }
          ],
          "scatterpolar": [
           {
            "marker": {
             "colorbar": {
              "outlinewidth": 0,
              "ticks": ""
             }
            },
            "type": "scatterpolar"
           }
          ],
          "scatterpolargl": [
           {
            "marker": {
             "colorbar": {
              "outlinewidth": 0,
              "ticks": ""
             }
            },
            "type": "scatterpolargl"
           }
          ],
          "scatterternary": [
           {
            "marker": {
             "colorbar": {
              "outlinewidth": 0,
              "ticks": ""
             }
            },
            "type": "scatterternary"
           }
          ],
          "surface": [
           {
            "colorbar": {
             "outlinewidth": 0,
             "ticks": ""
            },
            "colorscale": [
             [
              0,
              "#0d0887"
             ],
             [
              0.1111111111111111,
              "#46039f"
             ],
             [
              0.2222222222222222,
              "#7201a8"
             ],
             [
              0.3333333333333333,
              "#9c179e"
             ],
             [
              0.4444444444444444,
              "#bd3786"
             ],
             [
              0.5555555555555556,
              "#d8576b"
             ],
             [
              0.6666666666666666,
              "#ed7953"
             ],
             [
              0.7777777777777778,
              "#fb9f3a"
             ],
             [
              0.8888888888888888,
              "#fdca26"
             ],
             [
              1,
              "#f0f921"
             ]
            ],
            "type": "surface"
           }
          ],
          "table": [
           {
            "cells": {
             "fill": {
              "color": "#EBF0F8"
             },
             "line": {
              "color": "white"
             }
            },
            "header": {
             "fill": {
              "color": "#C8D4E3"
             },
             "line": {
              "color": "white"
             }
            },
            "type": "table"
           }
          ]
         },
         "layout": {
          "annotationdefaults": {
           "arrowcolor": "#2a3f5f",
           "arrowhead": 0,
           "arrowwidth": 1
          },
          "coloraxis": {
           "colorbar": {
            "outlinewidth": 0,
            "ticks": ""
           }
          },
          "colorscale": {
           "diverging": [
            [
             0,
             "#8e0152"
            ],
            [
             0.1,
             "#c51b7d"
            ],
            [
             0.2,
             "#de77ae"
            ],
            [
             0.3,
             "#f1b6da"
            ],
            [
             0.4,
             "#fde0ef"
            ],
            [
             0.5,
             "#f7f7f7"
            ],
            [
             0.6,
             "#e6f5d0"
            ],
            [
             0.7,
             "#b8e186"
            ],
            [
             0.8,
             "#7fbc41"
            ],
            [
             0.9,
             "#4d9221"
            ],
            [
             1,
             "#276419"
            ]
           ],
           "sequential": [
            [
             0,
             "#0d0887"
            ],
            [
             0.1111111111111111,
             "#46039f"
            ],
            [
             0.2222222222222222,
             "#7201a8"
            ],
            [
             0.3333333333333333,
             "#9c179e"
            ],
            [
             0.4444444444444444,
             "#bd3786"
            ],
            [
             0.5555555555555556,
             "#d8576b"
            ],
            [
             0.6666666666666666,
             "#ed7953"
            ],
            [
             0.7777777777777778,
             "#fb9f3a"
            ],
            [
             0.8888888888888888,
             "#fdca26"
            ],
            [
             1,
             "#f0f921"
            ]
           ],
           "sequentialminus": [
            [
             0,
             "#0d0887"
            ],
            [
             0.1111111111111111,
             "#46039f"
            ],
            [
             0.2222222222222222,
             "#7201a8"
            ],
            [
             0.3333333333333333,
             "#9c179e"
            ],
            [
             0.4444444444444444,
             "#bd3786"
            ],
            [
             0.5555555555555556,
             "#d8576b"
            ],
            [
             0.6666666666666666,
             "#ed7953"
            ],
            [
             0.7777777777777778,
             "#fb9f3a"
            ],
            [
             0.8888888888888888,
             "#fdca26"
            ],
            [
             1,
             "#f0f921"
            ]
           ]
          },
          "colorway": [
           "#636efa",
           "#EF553B",
           "#00cc96",
           "#ab63fa",
           "#FFA15A",
           "#19d3f3",
           "#FF6692",
           "#B6E880",
           "#FF97FF",
           "#FECB52"
          ],
          "font": {
           "color": "#2a3f5f"
          },
          "geo": {
           "bgcolor": "white",
           "lakecolor": "white",
           "landcolor": "#E5ECF6",
           "showlakes": true,
           "showland": true,
           "subunitcolor": "white"
          },
          "hoverlabel": {
           "align": "left"
          },
          "hovermode": "closest",
          "mapbox": {
           "style": "light"
          },
          "paper_bgcolor": "white",
          "plot_bgcolor": "#E5ECF6",
          "polar": {
           "angularaxis": {
            "gridcolor": "white",
            "linecolor": "white",
            "ticks": ""
           },
           "bgcolor": "#E5ECF6",
           "radialaxis": {
            "gridcolor": "white",
            "linecolor": "white",
            "ticks": ""
           }
          },
          "scene": {
           "xaxis": {
            "backgroundcolor": "#E5ECF6",
            "gridcolor": "white",
            "gridwidth": 2,
            "linecolor": "white",
            "showbackground": true,
            "ticks": "",
            "zerolinecolor": "white"
           },
           "yaxis": {
            "backgroundcolor": "#E5ECF6",
            "gridcolor": "white",
            "gridwidth": 2,
            "linecolor": "white",
            "showbackground": true,
            "ticks": "",
            "zerolinecolor": "white"
           },
           "zaxis": {
            "backgroundcolor": "#E5ECF6",
            "gridcolor": "white",
            "gridwidth": 2,
            "linecolor": "white",
            "showbackground": true,
            "ticks": "",
            "zerolinecolor": "white"
           }
          },
          "shapedefaults": {
           "line": {
            "color": "#2a3f5f"
           }
          },
          "ternary": {
           "aaxis": {
            "gridcolor": "white",
            "linecolor": "white",
            "ticks": ""
           },
           "baxis": {
            "gridcolor": "white",
            "linecolor": "white",
            "ticks": ""
           },
           "bgcolor": "#E5ECF6",
           "caxis": {
            "gridcolor": "white",
            "linecolor": "white",
            "ticks": ""
           }
          },
          "title": {
           "x": 0.05
          },
          "xaxis": {
           "automargin": true,
           "gridcolor": "white",
           "linecolor": "white",
           "ticks": "",
           "title": {
            "standoff": 15
           },
           "zerolinecolor": "white",
           "zerolinewidth": 2
          },
          "yaxis": {
           "automargin": true,
           "gridcolor": "white",
           "linecolor": "white",
           "ticks": "",
           "title": {
            "standoff": 15
           },
           "zerolinecolor": "white",
           "zerolinewidth": 2
          }
         }
        },
        "title": {
         "text": "Export/Import Growth Rate of Indian Trade from 2010 to 2018"
        },
        "xaxis": {
         "title": {
          "text": "Year"
         }
        },
        "yaxis": {
         "title": {
          "text": "Growth Rate"
         }
        }
       }
      },
      "text/html": [
       "<div>\n",
       "        \n",
       "        \n",
       "            <div id=\"7b561ab0-6ee5-412f-90a5-f11f9780c3c0\" class=\"plotly-graph-div\" style=\"height:525px; width:100%;\"></div>\n",
       "            <script type=\"text/javascript\">\n",
       "                require([\"plotly\"], function(Plotly) {\n",
       "                    window.PLOTLYENV=window.PLOTLYENV || {};\n",
       "                    \n",
       "                if (document.getElementById(\"7b561ab0-6ee5-412f-90a5-f11f9780c3c0\")) {\n",
       "                    Plotly.newPlot(\n",
       "                        '7b561ab0-6ee5-412f-90a5-f11f9780c3c0',\n",
       "                        [{\"line\": {\"color\": \"deepskyblue\"}, \"name\": \"Growth Rate(E)\", \"opacity\": 0.8, \"text\": [null, 0.1882396556920971, -0.009376154220532174, 0.0356967204509282, -0.002275436074608006, -0.14338043977667658, 0.04567035592869284, 0.08168319960621506, 0.08265364391376506], \"type\": \"scatter\", \"x\": [2010, 2011, 2012, 2013, 2014, 2015, 2016, 2017, 2018], \"y\": [null, 0.1882396556920971, -0.009376154220532174, 0.0356967204509282, -0.002275436074608006, -0.14338043977667658, 0.04567035592869284, 0.08168319960621506, 0.08265364391376506]}, {\"line\": {\"color\": \"dimgray\"}, \"name\": \"Growth Rate(I)\", \"opacity\": 0.8, \"text\": [null, 0.3160142277667892, 0.025368736995657004, -0.09036068039613632, -0.015628995371233745, -0.0463102136856256, -0.07767673398108266, 0.16661122317960975, 0.09957281205237334], \"type\": \"scatter\", \"x\": [2010, 2011, 2012, 2013, 2014, 2015, 2016, 2017, 2018], \"y\": [null, 0.3160142277667892, 0.025368736995657004, -0.09036068039613632, -0.015628995371233745, -0.0463102136856256, -0.07767673398108266, 0.16661122317960975, 0.09957281205237334]}],\n",
       "                        {\"hovermode\": \"closest\", \"template\": {\"data\": {\"bar\": [{\"error_x\": {\"color\": \"#2a3f5f\"}, \"error_y\": {\"color\": \"#2a3f5f\"}, \"marker\": {\"line\": {\"color\": \"#E5ECF6\", \"width\": 0.5}}, \"type\": \"bar\"}], \"barpolar\": [{\"marker\": {\"line\": {\"color\": \"#E5ECF6\", \"width\": 0.5}}, \"type\": \"barpolar\"}], \"carpet\": [{\"aaxis\": {\"endlinecolor\": \"#2a3f5f\", \"gridcolor\": \"white\", \"linecolor\": \"white\", \"minorgridcolor\": \"white\", \"startlinecolor\": \"#2a3f5f\"}, \"baxis\": {\"endlinecolor\": \"#2a3f5f\", \"gridcolor\": \"white\", \"linecolor\": \"white\", \"minorgridcolor\": \"white\", \"startlinecolor\": \"#2a3f5f\"}, \"type\": \"carpet\"}], \"choropleth\": [{\"colorbar\": {\"outlinewidth\": 0, \"ticks\": \"\"}, \"type\": \"choropleth\"}], \"contour\": [{\"colorbar\": {\"outlinewidth\": 0, \"ticks\": \"\"}, \"colorscale\": [[0.0, \"#0d0887\"], [0.1111111111111111, \"#46039f\"], [0.2222222222222222, \"#7201a8\"], [0.3333333333333333, \"#9c179e\"], [0.4444444444444444, \"#bd3786\"], [0.5555555555555556, \"#d8576b\"], [0.6666666666666666, \"#ed7953\"], [0.7777777777777778, \"#fb9f3a\"], [0.8888888888888888, \"#fdca26\"], [1.0, \"#f0f921\"]], \"type\": \"contour\"}], \"contourcarpet\": [{\"colorbar\": {\"outlinewidth\": 0, \"ticks\": \"\"}, \"type\": \"contourcarpet\"}], \"heatmap\": [{\"colorbar\": {\"outlinewidth\": 0, \"ticks\": \"\"}, \"colorscale\": [[0.0, \"#0d0887\"], [0.1111111111111111, \"#46039f\"], [0.2222222222222222, \"#7201a8\"], [0.3333333333333333, \"#9c179e\"], [0.4444444444444444, \"#bd3786\"], [0.5555555555555556, \"#d8576b\"], [0.6666666666666666, \"#ed7953\"], [0.7777777777777778, \"#fb9f3a\"], [0.8888888888888888, \"#fdca26\"], [1.0, \"#f0f921\"]], \"type\": \"heatmap\"}], \"heatmapgl\": [{\"colorbar\": {\"outlinewidth\": 0, \"ticks\": \"\"}, \"colorscale\": [[0.0, \"#0d0887\"], [0.1111111111111111, \"#46039f\"], [0.2222222222222222, \"#7201a8\"], [0.3333333333333333, \"#9c179e\"], [0.4444444444444444, \"#bd3786\"], [0.5555555555555556, \"#d8576b\"], [0.6666666666666666, \"#ed7953\"], [0.7777777777777778, \"#fb9f3a\"], [0.8888888888888888, \"#fdca26\"], [1.0, \"#f0f921\"]], \"type\": \"heatmapgl\"}], \"histogram\": [{\"marker\": {\"colorbar\": {\"outlinewidth\": 0, \"ticks\": \"\"}}, \"type\": \"histogram\"}], \"histogram2d\": [{\"colorbar\": {\"outlinewidth\": 0, \"ticks\": \"\"}, \"colorscale\": [[0.0, \"#0d0887\"], [0.1111111111111111, \"#46039f\"], [0.2222222222222222, \"#7201a8\"], [0.3333333333333333, \"#9c179e\"], [0.4444444444444444, \"#bd3786\"], [0.5555555555555556, \"#d8576b\"], [0.6666666666666666, \"#ed7953\"], [0.7777777777777778, \"#fb9f3a\"], [0.8888888888888888, \"#fdca26\"], [1.0, \"#f0f921\"]], \"type\": \"histogram2d\"}], \"histogram2dcontour\": [{\"colorbar\": {\"outlinewidth\": 0, \"ticks\": \"\"}, \"colorscale\": [[0.0, \"#0d0887\"], [0.1111111111111111, \"#46039f\"], [0.2222222222222222, \"#7201a8\"], [0.3333333333333333, \"#9c179e\"], [0.4444444444444444, \"#bd3786\"], [0.5555555555555556, \"#d8576b\"], [0.6666666666666666, \"#ed7953\"], [0.7777777777777778, \"#fb9f3a\"], [0.8888888888888888, \"#fdca26\"], [1.0, \"#f0f921\"]], \"type\": \"histogram2dcontour\"}], \"mesh3d\": [{\"colorbar\": {\"outlinewidth\": 0, \"ticks\": \"\"}, \"type\": \"mesh3d\"}], \"parcoords\": [{\"line\": {\"colorbar\": {\"outlinewidth\": 0, \"ticks\": \"\"}}, \"type\": \"parcoords\"}], \"pie\": [{\"automargin\": true, \"type\": \"pie\"}], \"scatter\": [{\"marker\": {\"colorbar\": {\"outlinewidth\": 0, \"ticks\": \"\"}}, \"type\": \"scatter\"}], \"scatter3d\": [{\"line\": {\"colorbar\": {\"outlinewidth\": 0, \"ticks\": \"\"}}, \"marker\": {\"colorbar\": {\"outlinewidth\": 0, \"ticks\": \"\"}}, \"type\": \"scatter3d\"}], \"scattercarpet\": [{\"marker\": {\"colorbar\": {\"outlinewidth\": 0, \"ticks\": \"\"}}, \"type\": \"scattercarpet\"}], \"scattergeo\": [{\"marker\": {\"colorbar\": {\"outlinewidth\": 0, \"ticks\": \"\"}}, \"type\": \"scattergeo\"}], \"scattergl\": [{\"marker\": {\"colorbar\": {\"outlinewidth\": 0, \"ticks\": \"\"}}, \"type\": \"scattergl\"}], \"scattermapbox\": [{\"marker\": {\"colorbar\": {\"outlinewidth\": 0, \"ticks\": \"\"}}, \"type\": \"scattermapbox\"}], \"scatterpolar\": [{\"marker\": {\"colorbar\": {\"outlinewidth\": 0, \"ticks\": \"\"}}, \"type\": \"scatterpolar\"}], \"scatterpolargl\": [{\"marker\": {\"colorbar\": {\"outlinewidth\": 0, \"ticks\": \"\"}}, \"type\": \"scatterpolargl\"}], \"scatterternary\": [{\"marker\": {\"colorbar\": {\"outlinewidth\": 0, \"ticks\": \"\"}}, \"type\": \"scatterternary\"}], \"surface\": [{\"colorbar\": {\"outlinewidth\": 0, \"ticks\": \"\"}, \"colorscale\": [[0.0, \"#0d0887\"], [0.1111111111111111, \"#46039f\"], [0.2222222222222222, \"#7201a8\"], [0.3333333333333333, \"#9c179e\"], [0.4444444444444444, \"#bd3786\"], [0.5555555555555556, \"#d8576b\"], [0.6666666666666666, \"#ed7953\"], [0.7777777777777778, \"#fb9f3a\"], [0.8888888888888888, \"#fdca26\"], [1.0, \"#f0f921\"]], \"type\": \"surface\"}], \"table\": [{\"cells\": {\"fill\": {\"color\": \"#EBF0F8\"}, \"line\": {\"color\": \"white\"}}, \"header\": {\"fill\": {\"color\": \"#C8D4E3\"}, \"line\": {\"color\": \"white\"}}, \"type\": \"table\"}]}, \"layout\": {\"annotationdefaults\": {\"arrowcolor\": \"#2a3f5f\", \"arrowhead\": 0, \"arrowwidth\": 1}, \"coloraxis\": {\"colorbar\": {\"outlinewidth\": 0, \"ticks\": \"\"}}, \"colorscale\": {\"diverging\": [[0, \"#8e0152\"], [0.1, \"#c51b7d\"], [0.2, \"#de77ae\"], [0.3, \"#f1b6da\"], [0.4, \"#fde0ef\"], [0.5, \"#f7f7f7\"], [0.6, \"#e6f5d0\"], [0.7, \"#b8e186\"], [0.8, \"#7fbc41\"], [0.9, \"#4d9221\"], [1, \"#276419\"]], \"sequential\": [[0.0, \"#0d0887\"], [0.1111111111111111, \"#46039f\"], [0.2222222222222222, \"#7201a8\"], [0.3333333333333333, \"#9c179e\"], [0.4444444444444444, \"#bd3786\"], [0.5555555555555556, \"#d8576b\"], [0.6666666666666666, \"#ed7953\"], [0.7777777777777778, \"#fb9f3a\"], [0.8888888888888888, \"#fdca26\"], [1.0, \"#f0f921\"]], \"sequentialminus\": [[0.0, \"#0d0887\"], [0.1111111111111111, \"#46039f\"], [0.2222222222222222, \"#7201a8\"], [0.3333333333333333, \"#9c179e\"], [0.4444444444444444, \"#bd3786\"], [0.5555555555555556, \"#d8576b\"], [0.6666666666666666, \"#ed7953\"], [0.7777777777777778, \"#fb9f3a\"], [0.8888888888888888, \"#fdca26\"], [1.0, \"#f0f921\"]]}, \"colorway\": [\"#636efa\", \"#EF553B\", \"#00cc96\", \"#ab63fa\", \"#FFA15A\", \"#19d3f3\", \"#FF6692\", \"#B6E880\", \"#FF97FF\", \"#FECB52\"], \"font\": {\"color\": \"#2a3f5f\"}, \"geo\": {\"bgcolor\": \"white\", \"lakecolor\": \"white\", \"landcolor\": \"#E5ECF6\", \"showlakes\": true, \"showland\": true, \"subunitcolor\": \"white\"}, \"hoverlabel\": {\"align\": \"left\"}, \"hovermode\": \"closest\", \"mapbox\": {\"style\": \"light\"}, \"paper_bgcolor\": \"white\", \"plot_bgcolor\": \"#E5ECF6\", \"polar\": {\"angularaxis\": {\"gridcolor\": \"white\", \"linecolor\": \"white\", \"ticks\": \"\"}, \"bgcolor\": \"#E5ECF6\", \"radialaxis\": {\"gridcolor\": \"white\", \"linecolor\": \"white\", \"ticks\": \"\"}}, \"scene\": {\"xaxis\": {\"backgroundcolor\": \"#E5ECF6\", \"gridcolor\": \"white\", \"gridwidth\": 2, \"linecolor\": \"white\", \"showbackground\": true, \"ticks\": \"\", \"zerolinecolor\": \"white\"}, \"yaxis\": {\"backgroundcolor\": \"#E5ECF6\", \"gridcolor\": \"white\", \"gridwidth\": 2, \"linecolor\": \"white\", \"showbackground\": true, \"ticks\": \"\", \"zerolinecolor\": \"white\"}, \"zaxis\": {\"backgroundcolor\": \"#E5ECF6\", \"gridcolor\": \"white\", \"gridwidth\": 2, \"linecolor\": \"white\", \"showbackground\": true, \"ticks\": \"\", \"zerolinecolor\": \"white\"}}, \"shapedefaults\": {\"line\": {\"color\": \"#2a3f5f\"}}, \"ternary\": {\"aaxis\": {\"gridcolor\": \"white\", \"linecolor\": \"white\", \"ticks\": \"\"}, \"baxis\": {\"gridcolor\": \"white\", \"linecolor\": \"white\", \"ticks\": \"\"}, \"bgcolor\": \"#E5ECF6\", \"caxis\": {\"gridcolor\": \"white\", \"linecolor\": \"white\", \"ticks\": \"\"}}, \"title\": {\"x\": 0.05}, \"xaxis\": {\"automargin\": true, \"gridcolor\": \"white\", \"linecolor\": \"white\", \"ticks\": \"\", \"title\": {\"standoff\": 15}, \"zerolinecolor\": \"white\", \"zerolinewidth\": 2}, \"yaxis\": {\"automargin\": true, \"gridcolor\": \"white\", \"linecolor\": \"white\", \"ticks\": \"\", \"title\": {\"standoff\": 15}, \"zerolinecolor\": \"white\", \"zerolinewidth\": 2}}}, \"title\": {\"text\": \"Export/Import Growth Rate of Indian Trade from 2010 to 2018\"}, \"xaxis\": {\"title\": {\"text\": \"Year\"}}, \"yaxis\": {\"title\": {\"text\": \"Growth Rate\"}}},\n",
       "                        {\"responsive\": true}\n",
       "                    ).then(function(){\n",
       "                            \n",
       "var gd = document.getElementById('7b561ab0-6ee5-412f-90a5-f11f9780c3c0');\n",
       "var x = new MutationObserver(function (mutations, observer) {{\n",
       "        var display = window.getComputedStyle(gd).display;\n",
       "        if (!display || display === 'none') {{\n",
       "            console.log([gd, 'removed!']);\n",
       "            Plotly.purge(gd);\n",
       "            observer.disconnect();\n",
       "        }}\n",
       "}});\n",
       "\n",
       "// Listen for the removal of the full notebook cells\n",
       "var notebookContainer = gd.closest('#notebook-container');\n",
       "if (notebookContainer) {{\n",
       "    x.observe(notebookContainer, {childList: true});\n",
       "}}\n",
       "\n",
       "// Listen for the clearing of the current output cell\n",
       "var outputEl = gd.closest('.output');\n",
       "if (outputEl) {{\n",
       "    x.observe(outputEl, {childList: true});\n",
       "}}\n",
       "\n",
       "                        })\n",
       "                };\n",
       "                });\n",
       "            </script>\n",
       "        </div>"
      ]
     },
     "metadata": {},
     "output_type": "display_data"
    }
   ],
   "source": [
    "trace1 = go.Scatter(\n",
    "                x = total_year.index,\n",
    "                y = total_year['Growth Rate(E)'],\n",
    "                name = \"Growth Rate(E)\",\n",
    "                line_color='deepskyblue',\n",
    "                opacity=0.8,\n",
    "                text = total_year['Growth Rate(E)'])\n",
    "# create trace2 \n",
    "trace2 = go.Scatter(\n",
    "                x = total_year.index,\n",
    "                y = total_year['Growth Rate(I)'],\n",
    "                name = \"Growth Rate(I)\",\n",
    "                line_color='dimgray',\n",
    "                opacity=0.8,\n",
    "                text = total_year['Growth Rate(I)'])\n",
    "\n",
    "layout = go.Layout(hovermode= 'closest', title = 'Export/Import Growth Rate of Indian Trade from 2010 to 2018' , xaxis = dict(title = 'Year'), yaxis = dict(title = 'Growth Rate'))\n",
    "fig = go.Figure(data = [trace1, trace2], layout = layout)\n",
    "fig.show()"
   ]
  },
  {
   "cell_type": "code",
   "execution_count": 78,
   "metadata": {},
   "outputs": [
    {
     "data": {
      "application/vnd.plotly.v1+json": {
       "config": {
        "plotlyServerURL": "https://plot.ly"
       },
       "data": [
        {
         "marker": {
          "color": "rgb(55, 83, 109)",
          "line": {
           "color": "rgb(0,0,0)",
           "width": 1.5
          }
         },
         "name": "Export",
         "text": [
          284525.38495751313,
          338084.3454575768,
          334914.4144950189,
          346869.76072423387,
          346080.4807574913,
          296459.30922835856,
          309998.7113991921,
          335320.3980200818,
          363035.8507950556
         ],
         "type": "bar",
         "x": [
          2010,
          2011,
          2012,
          2013,
          2014,
          2015,
          2016,
          2017,
          2018
         ],
         "y": [
          284525.38495751313,
          338084.3454575768,
          334914.4144950189,
          346869.76072423387,
          346080.4807574913,
          296459.30922835856,
          309998.7113991921,
          335320.3980200818,
          363035.8507950556
         ]
        },
        {
         "marker": {
          "color": "rgb(26, 118, 255)",
          "line": {
           "color": "rgb(0,0,0)",
           "width": 1.5
          }
         },
         "name": "Import",
         "text": [
          434742.8547886356,
          572127.7823217957,
          586641.9415594258,
          533632.5765712056,
          525292.4355020347,
          500966.0305664928,
          462052.62547662045,
          539035.7785806303,
          592709.0868507441
         ],
         "type": "bar",
         "x": [
          2010,
          2011,
          2012,
          2013,
          2014,
          2015,
          2016,
          2017,
          2018
         ],
         "y": [
          434742.8547886356,
          572127.7823217957,
          586641.9415594258,
          533632.5765712056,
          525292.4355020347,
          500966.0305664928,
          462052.62547662045,
          539035.7785806303,
          592709.0868507441
         ]
        },
        {
         "marker": {
          "color": "crimson",
          "line": {
           "color": "rgb(0,0,0)",
           "width": 1.5
          }
         },
         "name": "Trade Deficit",
         "text": [
          -150217.4698311225,
          -234043.4368642189,
          -251727.5270644069,
          -186762.81584697176,
          -179211.95474454341,
          -204506.72133813426,
          -152053.91407742834,
          -203715.3805605485,
          -229673.23605568847
         ],
         "type": "bar",
         "x": [
          2010,
          2011,
          2012,
          2013,
          2014,
          2015,
          2016,
          2017,
          2018
         ],
         "y": [
          -150217.4698311225,
          -234043.4368642189,
          -251727.5270644069,
          -186762.81584697176,
          -179211.95474454341,
          -204506.72133813426,
          -152053.91407742834,
          -203715.3805605485,
          -229673.23605568847
         ]
        }
       ],
       "layout": {
        "hovermode": "closest",
        "template": {
         "data": {
          "bar": [
           {
            "error_x": {
             "color": "#2a3f5f"
            },
            "error_y": {
             "color": "#2a3f5f"
            },
            "marker": {
             "line": {
              "color": "#E5ECF6",
              "width": 0.5
             }
            },
            "type": "bar"
           }
          ],
          "barpolar": [
           {
            "marker": {
             "line": {
              "color": "#E5ECF6",
              "width": 0.5
             }
            },
            "type": "barpolar"
           }
          ],
          "carpet": [
           {
            "aaxis": {
             "endlinecolor": "#2a3f5f",
             "gridcolor": "white",
             "linecolor": "white",
             "minorgridcolor": "white",
             "startlinecolor": "#2a3f5f"
            },
            "baxis": {
             "endlinecolor": "#2a3f5f",
             "gridcolor": "white",
             "linecolor": "white",
             "minorgridcolor": "white",
             "startlinecolor": "#2a3f5f"
            },
            "type": "carpet"
           }
          ],
          "choropleth": [
           {
            "colorbar": {
             "outlinewidth": 0,
             "ticks": ""
            },
            "type": "choropleth"
           }
          ],
          "contour": [
           {
            "colorbar": {
             "outlinewidth": 0,
             "ticks": ""
            },
            "colorscale": [
             [
              0,
              "#0d0887"
             ],
             [
              0.1111111111111111,
              "#46039f"
             ],
             [
              0.2222222222222222,
              "#7201a8"
             ],
             [
              0.3333333333333333,
              "#9c179e"
             ],
             [
              0.4444444444444444,
              "#bd3786"
             ],
             [
              0.5555555555555556,
              "#d8576b"
             ],
             [
              0.6666666666666666,
              "#ed7953"
             ],
             [
              0.7777777777777778,
              "#fb9f3a"
             ],
             [
              0.8888888888888888,
              "#fdca26"
             ],
             [
              1,
              "#f0f921"
             ]
            ],
            "type": "contour"
           }
          ],
          "contourcarpet": [
           {
            "colorbar": {
             "outlinewidth": 0,
             "ticks": ""
            },
            "type": "contourcarpet"
           }
          ],
          "heatmap": [
           {
            "colorbar": {
             "outlinewidth": 0,
             "ticks": ""
            },
            "colorscale": [
             [
              0,
              "#0d0887"
             ],
             [
              0.1111111111111111,
              "#46039f"
             ],
             [
              0.2222222222222222,
              "#7201a8"
             ],
             [
              0.3333333333333333,
              "#9c179e"
             ],
             [
              0.4444444444444444,
              "#bd3786"
             ],
             [
              0.5555555555555556,
              "#d8576b"
             ],
             [
              0.6666666666666666,
              "#ed7953"
             ],
             [
              0.7777777777777778,
              "#fb9f3a"
             ],
             [
              0.8888888888888888,
              "#fdca26"
             ],
             [
              1,
              "#f0f921"
             ]
            ],
            "type": "heatmap"
           }
          ],
          "heatmapgl": [
           {
            "colorbar": {
             "outlinewidth": 0,
             "ticks": ""
            },
            "colorscale": [
             [
              0,
              "#0d0887"
             ],
             [
              0.1111111111111111,
              "#46039f"
             ],
             [
              0.2222222222222222,
              "#7201a8"
             ],
             [
              0.3333333333333333,
              "#9c179e"
             ],
             [
              0.4444444444444444,
              "#bd3786"
             ],
             [
              0.5555555555555556,
              "#d8576b"
             ],
             [
              0.6666666666666666,
              "#ed7953"
             ],
             [
              0.7777777777777778,
              "#fb9f3a"
             ],
             [
              0.8888888888888888,
              "#fdca26"
             ],
             [
              1,
              "#f0f921"
             ]
            ],
            "type": "heatmapgl"
           }
          ],
          "histogram": [
           {
            "marker": {
             "colorbar": {
              "outlinewidth": 0,
              "ticks": ""
             }
            },
            "type": "histogram"
           }
          ],
          "histogram2d": [
           {
            "colorbar": {
             "outlinewidth": 0,
             "ticks": ""
            },
            "colorscale": [
             [
              0,
              "#0d0887"
             ],
             [
              0.1111111111111111,
              "#46039f"
             ],
             [
              0.2222222222222222,
              "#7201a8"
             ],
             [
              0.3333333333333333,
              "#9c179e"
             ],
             [
              0.4444444444444444,
              "#bd3786"
             ],
             [
              0.5555555555555556,
              "#d8576b"
             ],
             [
              0.6666666666666666,
              "#ed7953"
             ],
             [
              0.7777777777777778,
              "#fb9f3a"
             ],
             [
              0.8888888888888888,
              "#fdca26"
             ],
             [
              1,
              "#f0f921"
             ]
            ],
            "type": "histogram2d"
           }
          ],
          "histogram2dcontour": [
           {
            "colorbar": {
             "outlinewidth": 0,
             "ticks": ""
            },
            "colorscale": [
             [
              0,
              "#0d0887"
             ],
             [
              0.1111111111111111,
              "#46039f"
             ],
             [
              0.2222222222222222,
              "#7201a8"
             ],
             [
              0.3333333333333333,
              "#9c179e"
             ],
             [
              0.4444444444444444,
              "#bd3786"
             ],
             [
              0.5555555555555556,
              "#d8576b"
             ],
             [
              0.6666666666666666,
              "#ed7953"
             ],
             [
              0.7777777777777778,
              "#fb9f3a"
             ],
             [
              0.8888888888888888,
              "#fdca26"
             ],
             [
              1,
              "#f0f921"
             ]
            ],
            "type": "histogram2dcontour"
           }
          ],
          "mesh3d": [
           {
            "colorbar": {
             "outlinewidth": 0,
             "ticks": ""
            },
            "type": "mesh3d"
           }
          ],
          "parcoords": [
           {
            "line": {
             "colorbar": {
              "outlinewidth": 0,
              "ticks": ""
             }
            },
            "type": "parcoords"
           }
          ],
          "pie": [
           {
            "automargin": true,
            "type": "pie"
           }
          ],
          "scatter": [
           {
            "marker": {
             "colorbar": {
              "outlinewidth": 0,
              "ticks": ""
             }
            },
            "type": "scatter"
           }
          ],
          "scatter3d": [
           {
            "line": {
             "colorbar": {
              "outlinewidth": 0,
              "ticks": ""
             }
            },
            "marker": {
             "colorbar": {
              "outlinewidth": 0,
              "ticks": ""
             }
            },
            "type": "scatter3d"
           }
          ],
          "scattercarpet": [
           {
            "marker": {
             "colorbar": {
              "outlinewidth": 0,
              "ticks": ""
             }
            },
            "type": "scattercarpet"
           }
          ],
          "scattergeo": [
           {
            "marker": {
             "colorbar": {
              "outlinewidth": 0,
              "ticks": ""
             }
            },
            "type": "scattergeo"
           }
          ],
          "scattergl": [
           {
            "marker": {
             "colorbar": {
              "outlinewidth": 0,
              "ticks": ""
             }
            },
            "type": "scattergl"
           }
          ],
          "scattermapbox": [
           {
            "marker": {
             "colorbar": {
              "outlinewidth": 0,
              "ticks": ""
             }
            },
            "type": "scattermapbox"
           }
          ],
          "scatterpolar": [
           {
            "marker": {
             "colorbar": {
              "outlinewidth": 0,
              "ticks": ""
             }
            },
            "type": "scatterpolar"
           }
          ],
          "scatterpolargl": [
           {
            "marker": {
             "colorbar": {
              "outlinewidth": 0,
              "ticks": ""
             }
            },
            "type": "scatterpolargl"
           }
          ],
          "scatterternary": [
           {
            "marker": {
             "colorbar": {
              "outlinewidth": 0,
              "ticks": ""
             }
            },
            "type": "scatterternary"
           }
          ],
          "surface": [
           {
            "colorbar": {
             "outlinewidth": 0,
             "ticks": ""
            },
            "colorscale": [
             [
              0,
              "#0d0887"
             ],
             [
              0.1111111111111111,
              "#46039f"
             ],
             [
              0.2222222222222222,
              "#7201a8"
             ],
             [
              0.3333333333333333,
              "#9c179e"
             ],
             [
              0.4444444444444444,
              "#bd3786"
             ],
             [
              0.5555555555555556,
              "#d8576b"
             ],
             [
              0.6666666666666666,
              "#ed7953"
             ],
             [
              0.7777777777777778,
              "#fb9f3a"
             ],
             [
              0.8888888888888888,
              "#fdca26"
             ],
             [
              1,
              "#f0f921"
             ]
            ],
            "type": "surface"
           }
          ],
          "table": [
           {
            "cells": {
             "fill": {
              "color": "#EBF0F8"
             },
             "line": {
              "color": "white"
             }
            },
            "header": {
             "fill": {
              "color": "#C8D4E3"
             },
             "line": {
              "color": "white"
             }
            },
            "type": "table"
           }
          ]
         },
         "layout": {
          "annotationdefaults": {
           "arrowcolor": "#2a3f5f",
           "arrowhead": 0,
           "arrowwidth": 1
          },
          "coloraxis": {
           "colorbar": {
            "outlinewidth": 0,
            "ticks": ""
           }
          },
          "colorscale": {
           "diverging": [
            [
             0,
             "#8e0152"
            ],
            [
             0.1,
             "#c51b7d"
            ],
            [
             0.2,
             "#de77ae"
            ],
            [
             0.3,
             "#f1b6da"
            ],
            [
             0.4,
             "#fde0ef"
            ],
            [
             0.5,
             "#f7f7f7"
            ],
            [
             0.6,
             "#e6f5d0"
            ],
            [
             0.7,
             "#b8e186"
            ],
            [
             0.8,
             "#7fbc41"
            ],
            [
             0.9,
             "#4d9221"
            ],
            [
             1,
             "#276419"
            ]
           ],
           "sequential": [
            [
             0,
             "#0d0887"
            ],
            [
             0.1111111111111111,
             "#46039f"
            ],
            [
             0.2222222222222222,
             "#7201a8"
            ],
            [
             0.3333333333333333,
             "#9c179e"
            ],
            [
             0.4444444444444444,
             "#bd3786"
            ],
            [
             0.5555555555555556,
             "#d8576b"
            ],
            [
             0.6666666666666666,
             "#ed7953"
            ],
            [
             0.7777777777777778,
             "#fb9f3a"
            ],
            [
             0.8888888888888888,
             "#fdca26"
            ],
            [
             1,
             "#f0f921"
            ]
           ],
           "sequentialminus": [
            [
             0,
             "#0d0887"
            ],
            [
             0.1111111111111111,
             "#46039f"
            ],
            [
             0.2222222222222222,
             "#7201a8"
            ],
            [
             0.3333333333333333,
             "#9c179e"
            ],
            [
             0.4444444444444444,
             "#bd3786"
            ],
            [
             0.5555555555555556,
             "#d8576b"
            ],
            [
             0.6666666666666666,
             "#ed7953"
            ],
            [
             0.7777777777777778,
             "#fb9f3a"
            ],
            [
             0.8888888888888888,
             "#fdca26"
            ],
            [
             1,
             "#f0f921"
            ]
           ]
          },
          "colorway": [
           "#636efa",
           "#EF553B",
           "#00cc96",
           "#ab63fa",
           "#FFA15A",
           "#19d3f3",
           "#FF6692",
           "#B6E880",
           "#FF97FF",
           "#FECB52"
          ],
          "font": {
           "color": "#2a3f5f"
          },
          "geo": {
           "bgcolor": "white",
           "lakecolor": "white",
           "landcolor": "#E5ECF6",
           "showlakes": true,
           "showland": true,
           "subunitcolor": "white"
          },
          "hoverlabel": {
           "align": "left"
          },
          "hovermode": "closest",
          "mapbox": {
           "style": "light"
          },
          "paper_bgcolor": "white",
          "plot_bgcolor": "#E5ECF6",
          "polar": {
           "angularaxis": {
            "gridcolor": "white",
            "linecolor": "white",
            "ticks": ""
           },
           "bgcolor": "#E5ECF6",
           "radialaxis": {
            "gridcolor": "white",
            "linecolor": "white",
            "ticks": ""
           }
          },
          "scene": {
           "xaxis": {
            "backgroundcolor": "#E5ECF6",
            "gridcolor": "white",
            "gridwidth": 2,
            "linecolor": "white",
            "showbackground": true,
            "ticks": "",
            "zerolinecolor": "white"
           },
           "yaxis": {
            "backgroundcolor": "#E5ECF6",
            "gridcolor": "white",
            "gridwidth": 2,
            "linecolor": "white",
            "showbackground": true,
            "ticks": "",
            "zerolinecolor": "white"
           },
           "zaxis": {
            "backgroundcolor": "#E5ECF6",
            "gridcolor": "white",
            "gridwidth": 2,
            "linecolor": "white",
            "showbackground": true,
            "ticks": "",
            "zerolinecolor": "white"
           }
          },
          "shapedefaults": {
           "line": {
            "color": "#2a3f5f"
           }
          },
          "ternary": {
           "aaxis": {
            "gridcolor": "white",
            "linecolor": "white",
            "ticks": ""
           },
           "baxis": {
            "gridcolor": "white",
            "linecolor": "white",
            "ticks": ""
           },
           "bgcolor": "#E5ECF6",
           "caxis": {
            "gridcolor": "white",
            "linecolor": "white",
            "ticks": ""
           }
          },
          "title": {
           "x": 0.05
          },
          "xaxis": {
           "automargin": true,
           "gridcolor": "white",
           "linecolor": "white",
           "ticks": "",
           "title": {
            "standoff": 15
           },
           "zerolinecolor": "white",
           "zerolinewidth": 2
          },
          "yaxis": {
           "automargin": true,
           "gridcolor": "white",
           "linecolor": "white",
           "ticks": "",
           "title": {
            "standoff": 15
           },
           "zerolinecolor": "white",
           "zerolinewidth": 2
          }
         }
        },
        "title": {
         "text": "Export/Import and Trade Deficit of Indian Trade from 2010 to 2018"
        },
        "xaxis": {
         "title": {
          "text": "Year"
         }
        },
        "yaxis": {
         "title": {
          "text": "USD (millions)"
         }
        }
       }
      },
      "text/html": [
       "<div>\n",
       "        \n",
       "        \n",
       "            <div id=\"bf28a923-8d1d-4379-9b03-96eb2010326c\" class=\"plotly-graph-div\" style=\"height:525px; width:100%;\"></div>\n",
       "            <script type=\"text/javascript\">\n",
       "                require([\"plotly\"], function(Plotly) {\n",
       "                    window.PLOTLYENV=window.PLOTLYENV || {};\n",
       "                    \n",
       "                if (document.getElementById(\"bf28a923-8d1d-4379-9b03-96eb2010326c\")) {\n",
       "                    Plotly.newPlot(\n",
       "                        'bf28a923-8d1d-4379-9b03-96eb2010326c',\n",
       "                        [{\"marker\": {\"color\": \"rgb(55, 83, 109)\", \"line\": {\"color\": \"rgb(0,0,0)\", \"width\": 1.5}}, \"name\": \"Export\", \"text\": [284525.38495751313, 338084.3454575768, 334914.4144950189, 346869.76072423387, 346080.4807574913, 296459.30922835856, 309998.7113991921, 335320.3980200818, 363035.8507950556], \"type\": \"bar\", \"x\": [2010, 2011, 2012, 2013, 2014, 2015, 2016, 2017, 2018], \"y\": [284525.38495751313, 338084.3454575768, 334914.4144950189, 346869.76072423387, 346080.4807574913, 296459.30922835856, 309998.7113991921, 335320.3980200818, 363035.8507950556]}, {\"marker\": {\"color\": \"rgb(26, 118, 255)\", \"line\": {\"color\": \"rgb(0,0,0)\", \"width\": 1.5}}, \"name\": \"Import\", \"text\": [434742.8547886356, 572127.7823217957, 586641.9415594258, 533632.5765712056, 525292.4355020347, 500966.0305664928, 462052.62547662045, 539035.7785806303, 592709.0868507441], \"type\": \"bar\", \"x\": [2010, 2011, 2012, 2013, 2014, 2015, 2016, 2017, 2018], \"y\": [434742.8547886356, 572127.7823217957, 586641.9415594258, 533632.5765712056, 525292.4355020347, 500966.0305664928, 462052.62547662045, 539035.7785806303, 592709.0868507441]}, {\"marker\": {\"color\": \"crimson\", \"line\": {\"color\": \"rgb(0,0,0)\", \"width\": 1.5}}, \"name\": \"Trade Deficit\", \"text\": [-150217.4698311225, -234043.4368642189, -251727.5270644069, -186762.81584697176, -179211.95474454341, -204506.72133813426, -152053.91407742834, -203715.3805605485, -229673.23605568847], \"type\": \"bar\", \"x\": [2010, 2011, 2012, 2013, 2014, 2015, 2016, 2017, 2018], \"y\": [-150217.4698311225, -234043.4368642189, -251727.5270644069, -186762.81584697176, -179211.95474454341, -204506.72133813426, -152053.91407742834, -203715.3805605485, -229673.23605568847]}],\n",
       "                        {\"hovermode\": \"closest\", \"template\": {\"data\": {\"bar\": [{\"error_x\": {\"color\": \"#2a3f5f\"}, \"error_y\": {\"color\": \"#2a3f5f\"}, \"marker\": {\"line\": {\"color\": \"#E5ECF6\", \"width\": 0.5}}, \"type\": \"bar\"}], \"barpolar\": [{\"marker\": {\"line\": {\"color\": \"#E5ECF6\", \"width\": 0.5}}, \"type\": \"barpolar\"}], \"carpet\": [{\"aaxis\": {\"endlinecolor\": \"#2a3f5f\", \"gridcolor\": \"white\", \"linecolor\": \"white\", \"minorgridcolor\": \"white\", \"startlinecolor\": \"#2a3f5f\"}, \"baxis\": {\"endlinecolor\": \"#2a3f5f\", \"gridcolor\": \"white\", \"linecolor\": \"white\", \"minorgridcolor\": \"white\", \"startlinecolor\": \"#2a3f5f\"}, \"type\": \"carpet\"}], \"choropleth\": [{\"colorbar\": {\"outlinewidth\": 0, \"ticks\": \"\"}, \"type\": \"choropleth\"}], \"contour\": [{\"colorbar\": {\"outlinewidth\": 0, \"ticks\": \"\"}, \"colorscale\": [[0.0, \"#0d0887\"], [0.1111111111111111, \"#46039f\"], [0.2222222222222222, \"#7201a8\"], [0.3333333333333333, \"#9c179e\"], [0.4444444444444444, \"#bd3786\"], [0.5555555555555556, \"#d8576b\"], [0.6666666666666666, \"#ed7953\"], [0.7777777777777778, \"#fb9f3a\"], [0.8888888888888888, \"#fdca26\"], [1.0, \"#f0f921\"]], \"type\": \"contour\"}], \"contourcarpet\": [{\"colorbar\": {\"outlinewidth\": 0, \"ticks\": \"\"}, \"type\": \"contourcarpet\"}], \"heatmap\": [{\"colorbar\": {\"outlinewidth\": 0, \"ticks\": \"\"}, \"colorscale\": [[0.0, \"#0d0887\"], [0.1111111111111111, \"#46039f\"], [0.2222222222222222, \"#7201a8\"], [0.3333333333333333, \"#9c179e\"], [0.4444444444444444, \"#bd3786\"], [0.5555555555555556, \"#d8576b\"], [0.6666666666666666, \"#ed7953\"], [0.7777777777777778, \"#fb9f3a\"], [0.8888888888888888, \"#fdca26\"], [1.0, \"#f0f921\"]], \"type\": \"heatmap\"}], \"heatmapgl\": [{\"colorbar\": {\"outlinewidth\": 0, \"ticks\": \"\"}, \"colorscale\": [[0.0, \"#0d0887\"], [0.1111111111111111, \"#46039f\"], [0.2222222222222222, \"#7201a8\"], [0.3333333333333333, \"#9c179e\"], [0.4444444444444444, \"#bd3786\"], [0.5555555555555556, \"#d8576b\"], [0.6666666666666666, \"#ed7953\"], [0.7777777777777778, \"#fb9f3a\"], [0.8888888888888888, \"#fdca26\"], [1.0, \"#f0f921\"]], \"type\": \"heatmapgl\"}], \"histogram\": [{\"marker\": {\"colorbar\": {\"outlinewidth\": 0, \"ticks\": \"\"}}, \"type\": \"histogram\"}], \"histogram2d\": [{\"colorbar\": {\"outlinewidth\": 0, \"ticks\": \"\"}, \"colorscale\": [[0.0, \"#0d0887\"], [0.1111111111111111, \"#46039f\"], [0.2222222222222222, \"#7201a8\"], [0.3333333333333333, \"#9c179e\"], [0.4444444444444444, \"#bd3786\"], [0.5555555555555556, \"#d8576b\"], [0.6666666666666666, \"#ed7953\"], [0.7777777777777778, \"#fb9f3a\"], [0.8888888888888888, \"#fdca26\"], [1.0, \"#f0f921\"]], \"type\": \"histogram2d\"}], \"histogram2dcontour\": [{\"colorbar\": {\"outlinewidth\": 0, \"ticks\": \"\"}, \"colorscale\": [[0.0, \"#0d0887\"], [0.1111111111111111, \"#46039f\"], [0.2222222222222222, \"#7201a8\"], [0.3333333333333333, \"#9c179e\"], [0.4444444444444444, \"#bd3786\"], [0.5555555555555556, \"#d8576b\"], [0.6666666666666666, \"#ed7953\"], [0.7777777777777778, \"#fb9f3a\"], [0.8888888888888888, \"#fdca26\"], [1.0, \"#f0f921\"]], \"type\": \"histogram2dcontour\"}], \"mesh3d\": [{\"colorbar\": {\"outlinewidth\": 0, \"ticks\": \"\"}, \"type\": \"mesh3d\"}], \"parcoords\": [{\"line\": {\"colorbar\": {\"outlinewidth\": 0, \"ticks\": \"\"}}, \"type\": \"parcoords\"}], \"pie\": [{\"automargin\": true, \"type\": \"pie\"}], \"scatter\": [{\"marker\": {\"colorbar\": {\"outlinewidth\": 0, \"ticks\": \"\"}}, \"type\": \"scatter\"}], \"scatter3d\": [{\"line\": {\"colorbar\": {\"outlinewidth\": 0, \"ticks\": \"\"}}, \"marker\": {\"colorbar\": {\"outlinewidth\": 0, \"ticks\": \"\"}}, \"type\": \"scatter3d\"}], \"scattercarpet\": [{\"marker\": {\"colorbar\": {\"outlinewidth\": 0, \"ticks\": \"\"}}, \"type\": \"scattercarpet\"}], \"scattergeo\": [{\"marker\": {\"colorbar\": {\"outlinewidth\": 0, \"ticks\": \"\"}}, \"type\": \"scattergeo\"}], \"scattergl\": [{\"marker\": {\"colorbar\": {\"outlinewidth\": 0, \"ticks\": \"\"}}, \"type\": \"scattergl\"}], \"scattermapbox\": [{\"marker\": {\"colorbar\": {\"outlinewidth\": 0, \"ticks\": \"\"}}, \"type\": \"scattermapbox\"}], \"scatterpolar\": [{\"marker\": {\"colorbar\": {\"outlinewidth\": 0, \"ticks\": \"\"}}, \"type\": \"scatterpolar\"}], \"scatterpolargl\": [{\"marker\": {\"colorbar\": {\"outlinewidth\": 0, \"ticks\": \"\"}}, \"type\": \"scatterpolargl\"}], \"scatterternary\": [{\"marker\": {\"colorbar\": {\"outlinewidth\": 0, \"ticks\": \"\"}}, \"type\": \"scatterternary\"}], \"surface\": [{\"colorbar\": {\"outlinewidth\": 0, \"ticks\": \"\"}, \"colorscale\": [[0.0, \"#0d0887\"], [0.1111111111111111, \"#46039f\"], [0.2222222222222222, \"#7201a8\"], [0.3333333333333333, \"#9c179e\"], [0.4444444444444444, \"#bd3786\"], [0.5555555555555556, \"#d8576b\"], [0.6666666666666666, \"#ed7953\"], [0.7777777777777778, \"#fb9f3a\"], [0.8888888888888888, \"#fdca26\"], [1.0, \"#f0f921\"]], \"type\": \"surface\"}], \"table\": [{\"cells\": {\"fill\": {\"color\": \"#EBF0F8\"}, \"line\": {\"color\": \"white\"}}, \"header\": {\"fill\": {\"color\": \"#C8D4E3\"}, \"line\": {\"color\": \"white\"}}, \"type\": \"table\"}]}, \"layout\": {\"annotationdefaults\": {\"arrowcolor\": \"#2a3f5f\", \"arrowhead\": 0, \"arrowwidth\": 1}, \"coloraxis\": {\"colorbar\": {\"outlinewidth\": 0, \"ticks\": \"\"}}, \"colorscale\": {\"diverging\": [[0, \"#8e0152\"], [0.1, \"#c51b7d\"], [0.2, \"#de77ae\"], [0.3, \"#f1b6da\"], [0.4, \"#fde0ef\"], [0.5, \"#f7f7f7\"], [0.6, \"#e6f5d0\"], [0.7, \"#b8e186\"], [0.8, \"#7fbc41\"], [0.9, \"#4d9221\"], [1, \"#276419\"]], \"sequential\": [[0.0, \"#0d0887\"], [0.1111111111111111, \"#46039f\"], [0.2222222222222222, \"#7201a8\"], [0.3333333333333333, \"#9c179e\"], [0.4444444444444444, \"#bd3786\"], [0.5555555555555556, \"#d8576b\"], [0.6666666666666666, \"#ed7953\"], [0.7777777777777778, \"#fb9f3a\"], [0.8888888888888888, \"#fdca26\"], [1.0, \"#f0f921\"]], \"sequentialminus\": [[0.0, \"#0d0887\"], [0.1111111111111111, \"#46039f\"], [0.2222222222222222, \"#7201a8\"], [0.3333333333333333, \"#9c179e\"], [0.4444444444444444, \"#bd3786\"], [0.5555555555555556, \"#d8576b\"], [0.6666666666666666, \"#ed7953\"], [0.7777777777777778, \"#fb9f3a\"], [0.8888888888888888, \"#fdca26\"], [1.0, \"#f0f921\"]]}, \"colorway\": [\"#636efa\", \"#EF553B\", \"#00cc96\", \"#ab63fa\", \"#FFA15A\", \"#19d3f3\", \"#FF6692\", \"#B6E880\", \"#FF97FF\", \"#FECB52\"], \"font\": {\"color\": \"#2a3f5f\"}, \"geo\": {\"bgcolor\": \"white\", \"lakecolor\": \"white\", \"landcolor\": \"#E5ECF6\", \"showlakes\": true, \"showland\": true, \"subunitcolor\": \"white\"}, \"hoverlabel\": {\"align\": \"left\"}, \"hovermode\": \"closest\", \"mapbox\": {\"style\": \"light\"}, \"paper_bgcolor\": \"white\", \"plot_bgcolor\": \"#E5ECF6\", \"polar\": {\"angularaxis\": {\"gridcolor\": \"white\", \"linecolor\": \"white\", \"ticks\": \"\"}, \"bgcolor\": \"#E5ECF6\", \"radialaxis\": {\"gridcolor\": \"white\", \"linecolor\": \"white\", \"ticks\": \"\"}}, \"scene\": {\"xaxis\": {\"backgroundcolor\": \"#E5ECF6\", \"gridcolor\": \"white\", \"gridwidth\": 2, \"linecolor\": \"white\", \"showbackground\": true, \"ticks\": \"\", \"zerolinecolor\": \"white\"}, \"yaxis\": {\"backgroundcolor\": \"#E5ECF6\", \"gridcolor\": \"white\", \"gridwidth\": 2, \"linecolor\": \"white\", \"showbackground\": true, \"ticks\": \"\", \"zerolinecolor\": \"white\"}, \"zaxis\": {\"backgroundcolor\": \"#E5ECF6\", \"gridcolor\": \"white\", \"gridwidth\": 2, \"linecolor\": \"white\", \"showbackground\": true, \"ticks\": \"\", \"zerolinecolor\": \"white\"}}, \"shapedefaults\": {\"line\": {\"color\": \"#2a3f5f\"}}, \"ternary\": {\"aaxis\": {\"gridcolor\": \"white\", \"linecolor\": \"white\", \"ticks\": \"\"}, \"baxis\": {\"gridcolor\": \"white\", \"linecolor\": \"white\", \"ticks\": \"\"}, \"bgcolor\": \"#E5ECF6\", \"caxis\": {\"gridcolor\": \"white\", \"linecolor\": \"white\", \"ticks\": \"\"}}, \"title\": {\"x\": 0.05}, \"xaxis\": {\"automargin\": true, \"gridcolor\": \"white\", \"linecolor\": \"white\", \"ticks\": \"\", \"title\": {\"standoff\": 15}, \"zerolinecolor\": \"white\", \"zerolinewidth\": 2}, \"yaxis\": {\"automargin\": true, \"gridcolor\": \"white\", \"linecolor\": \"white\", \"ticks\": \"\", \"title\": {\"standoff\": 15}, \"zerolinecolor\": \"white\", \"zerolinewidth\": 2}}}, \"title\": {\"text\": \"Export/Import and Trade Deficit of Indian Trade from 2010 to 2018\"}, \"xaxis\": {\"title\": {\"text\": \"Year\"}}, \"yaxis\": {\"title\": {\"text\": \"USD (millions)\"}}},\n",
       "                        {\"responsive\": true}\n",
       "                    ).then(function(){\n",
       "                            \n",
       "var gd = document.getElementById('bf28a923-8d1d-4379-9b03-96eb2010326c');\n",
       "var x = new MutationObserver(function (mutations, observer) {{\n",
       "        var display = window.getComputedStyle(gd).display;\n",
       "        if (!display || display === 'none') {{\n",
       "            console.log([gd, 'removed!']);\n",
       "            Plotly.purge(gd);\n",
       "            observer.disconnect();\n",
       "        }}\n",
       "}});\n",
       "\n",
       "// Listen for the removal of the full notebook cells\n",
       "var notebookContainer = gd.closest('#notebook-container');\n",
       "if (notebookContainer) {{\n",
       "    x.observe(notebookContainer, {childList: true});\n",
       "}}\n",
       "\n",
       "// Listen for the clearing of the current output cell\n",
       "var outputEl = gd.closest('.output');\n",
       "if (outputEl) {{\n",
       "    x.observe(outputEl, {childList: true});\n",
       "}}\n",
       "\n",
       "                        })\n",
       "                };\n",
       "                });\n",
       "            </script>\n",
       "        </div>"
      ]
     },
     "metadata": {},
     "output_type": "display_data"
    }
   ],
   "source": [
    "trace1 = go.Bar(\n",
    "                x = total_year.index,\n",
    "                y = total_year.Export,\n",
    "                name = \"Export\",\n",
    "                marker = dict(color = 'rgb(55, 83, 109)',\n",
    "                             line=dict(color='rgb(0,0,0)',width=1.5)),\n",
    "                text = total_year.Export)\n",
    "# create trace2 \n",
    "trace2 = go.Bar(\n",
    "                x = total_year.index,\n",
    "                y = total_year.Import,\n",
    "                name = \"Import\",\n",
    "                marker = dict(color = 'rgb(26, 118, 255)',\n",
    "                              line=dict(color='rgb(0,0,0)',width=1.5)),\n",
    "                text = total_year.Import)\n",
    "# create trace3\n",
    "trace3 = go.Bar(\n",
    "                x = total_year.index,\n",
    "                y = total_year['Trade Deficit'],\n",
    "                name = \"Trade Deficit\",\n",
    "                marker = dict(color = 'crimson',\n",
    "                              line=dict(color='rgb(0,0,0)',width=1.5)),\n",
    "                text = total_year['Trade Deficit'])\n",
    "\n",
    "layout = go.Layout(hovermode= 'closest', title = 'Export/Import and Trade Deficit of Indian Trade from 2010 to 2018' , xaxis = dict(title = 'Year'), yaxis = dict(title = 'USD (millions)'))\n",
    "fig = go.Figure(data = [trace1, trace2, trace3], layout = layout)\n",
    "fig.show()"
   ]
  },
  {
   "cell_type": "code",
   "execution_count": 79,
   "metadata": {},
   "outputs": [
    {
     "name": "stdout",
     "output_type": "stream",
     "text": [
      "**Commodity Composition of Exports**\n"
     ]
    },
    {
     "data": {
      "text/html": [
       "<div>\n",
       "<style scoped>\n",
       "    .dataframe tbody tr th:only-of-type {\n",
       "        vertical-align: middle;\n",
       "    }\n",
       "\n",
       "    .dataframe tbody tr th {\n",
       "        vertical-align: top;\n",
       "    }\n",
       "\n",
       "    .dataframe thead th {\n",
       "        text-align: right;\n",
       "    }\n",
       "</style>\n",
       "<table border=\"1\" class=\"dataframe\">\n",
       "  <thead>\n",
       "    <tr style=\"text-align: right;\">\n",
       "      <th>year</th>\n",
       "      <th>2010</th>\n",
       "      <th>2011</th>\n",
       "      <th>2012</th>\n",
       "      <th>2013</th>\n",
       "      <th>2014</th>\n",
       "      <th>2015</th>\n",
       "      <th>2016</th>\n",
       "      <th>2017</th>\n",
       "      <th>2018</th>\n",
       "    </tr>\n",
       "    <tr>\n",
       "      <th>Commodity</th>\n",
       "      <th></th>\n",
       "      <th></th>\n",
       "      <th></th>\n",
       "      <th></th>\n",
       "      <th></th>\n",
       "      <th></th>\n",
       "      <th></th>\n",
       "      <th></th>\n",
       "      <th></th>\n",
       "    </tr>\n",
       "  </thead>\n",
       "  <tbody>\n",
       "    <tr>\n",
       "      <th>ZINC AND ARTICLES THEREOF.</th>\n",
       "      <td>12.834076</td>\n",
       "      <td>9.950408</td>\n",
       "      <td>7.784493</td>\n",
       "      <td>8.787265</td>\n",
       "      <td>9.693512</td>\n",
       "      <td>9.448512</td>\n",
       "      <td>9.783146</td>\n",
       "      <td>11.758034</td>\n",
       "      <td>9.235967</td>\n",
       "    </tr>\n",
       "    <tr>\n",
       "      <th>FERTILISERS.</th>\n",
       "      <td>7.271354</td>\n",
       "      <td>6.539612</td>\n",
       "      <td>5.953152</td>\n",
       "      <td>5.445927</td>\n",
       "      <td>6.978951</td>\n",
       "      <td>4.766041</td>\n",
       "      <td>5.999453</td>\n",
       "      <td>5.691416</td>\n",
       "      <td>5.367322</td>\n",
       "    </tr>\n",
       "    <tr>\n",
       "      <th>RESIDUES AND WASTE FROM THE FOOD INDUSTRIES; PREPARED ANIMAL FODER.</th>\n",
       "      <td>25.008446</td>\n",
       "      <td>21.247016</td>\n",
       "      <td>25.980711</td>\n",
       "      <td>24.563476</td>\n",
       "      <td>13.687637</td>\n",
       "      <td>8.352451</td>\n",
       "      <td>10.080593</td>\n",
       "      <td>11.836543</td>\n",
       "      <td>14.581776</td>\n",
       "    </tr>\n",
       "    <tr>\n",
       "      <th>COFFEE, TEA, MATE AND SPICES.</th>\n",
       "      <td>14.437242</td>\n",
       "      <td>18.765842</td>\n",
       "      <td>16.873089</td>\n",
       "      <td>17.128858</td>\n",
       "      <td>17.849539</td>\n",
       "      <td>18.211930</td>\n",
       "      <td>18.515905</td>\n",
       "      <td>19.072076</td>\n",
       "      <td>18.676935</td>\n",
       "    </tr>\n",
       "    <tr>\n",
       "      <th>LIVE ANIMALS.</th>\n",
       "      <td>13.947528</td>\n",
       "      <td>6.844122</td>\n",
       "      <td>9.478547</td>\n",
       "      <td>7.591285</td>\n",
       "      <td>10.816560</td>\n",
       "      <td>6.159856</td>\n",
       "      <td>9.538315</td>\n",
       "      <td>16.925830</td>\n",
       "      <td>8.376619</td>\n",
       "    </tr>\n",
       "  </tbody>\n",
       "</table>\n",
       "</div>"
      ],
      "text/plain": [
       "year                                                     2010       2011  \\\n",
       "Commodity                                                                  \n",
       "ZINC AND ARTICLES THEREOF.                          12.834076   9.950408   \n",
       "FERTILISERS.                                         7.271354   6.539612   \n",
       "RESIDUES AND WASTE FROM THE FOOD INDUSTRIES; PR...  25.008446  21.247016   \n",
       "COFFEE, TEA, MATE AND SPICES.                       14.437242  18.765842   \n",
       "LIVE ANIMALS.                                       13.947528   6.844122   \n",
       "\n",
       "year                                                     2012       2013  \\\n",
       "Commodity                                                                  \n",
       "ZINC AND ARTICLES THEREOF.                           7.784493   8.787265   \n",
       "FERTILISERS.                                         5.953152   5.445927   \n",
       "RESIDUES AND WASTE FROM THE FOOD INDUSTRIES; PR...  25.980711  24.563476   \n",
       "COFFEE, TEA, MATE AND SPICES.                       16.873089  17.128858   \n",
       "LIVE ANIMALS.                                        9.478547   7.591285   \n",
       "\n",
       "year                                                     2014       2015  \\\n",
       "Commodity                                                                  \n",
       "ZINC AND ARTICLES THEREOF.                           9.693512   9.448512   \n",
       "FERTILISERS.                                         6.978951   4.766041   \n",
       "RESIDUES AND WASTE FROM THE FOOD INDUSTRIES; PR...  13.687637   8.352451   \n",
       "COFFEE, TEA, MATE AND SPICES.                       17.849539  18.211930   \n",
       "LIVE ANIMALS.                                       10.816560   6.159856   \n",
       "\n",
       "year                                                     2016       2017  \\\n",
       "Commodity                                                                  \n",
       "ZINC AND ARTICLES THEREOF.                           9.783146  11.758034   \n",
       "FERTILISERS.                                         5.999453   5.691416   \n",
       "RESIDUES AND WASTE FROM THE FOOD INDUSTRIES; PR...  10.080593  11.836543   \n",
       "COFFEE, TEA, MATE AND SPICES.                       18.515905  19.072076   \n",
       "LIVE ANIMALS.                                        9.538315  16.925830   \n",
       "\n",
       "year                                                     2018  \n",
       "Commodity                                                      \n",
       "ZINC AND ARTICLES THEREOF.                           9.235967  \n",
       "FERTILISERS.                                         5.367322  \n",
       "RESIDUES AND WASTE FROM THE FOOD INDUSTRIES; PR...  14.581776  \n",
       "COFFEE, TEA, MATE AND SPICES.                       18.676935  \n",
       "LIVE ANIMALS.                                        8.376619  "
      ]
     },
     "metadata": {},
     "output_type": "display_data"
    },
    {
     "name": "stdout",
     "output_type": "stream",
     "text": [
      "**Commodity Composition of Imports**\n"
     ]
    },
    {
     "data": {
      "text/html": [
       "<div>\n",
       "<style scoped>\n",
       "    .dataframe tbody tr th:only-of-type {\n",
       "        vertical-align: middle;\n",
       "    }\n",
       "\n",
       "    .dataframe tbody tr th {\n",
       "        vertical-align: top;\n",
       "    }\n",
       "\n",
       "    .dataframe thead th {\n",
       "        text-align: right;\n",
       "    }\n",
       "</style>\n",
       "<table border=\"1\" class=\"dataframe\">\n",
       "  <thead>\n",
       "    <tr style=\"text-align: right;\">\n",
       "      <th>year</th>\n",
       "      <th>2010</th>\n",
       "      <th>2011</th>\n",
       "      <th>2012</th>\n",
       "      <th>2013</th>\n",
       "      <th>2014</th>\n",
       "      <th>2015</th>\n",
       "      <th>2016</th>\n",
       "      <th>2017</th>\n",
       "      <th>2018</th>\n",
       "    </tr>\n",
       "    <tr>\n",
       "      <th>Commodity</th>\n",
       "      <th></th>\n",
       "      <th></th>\n",
       "      <th></th>\n",
       "      <th></th>\n",
       "      <th></th>\n",
       "      <th></th>\n",
       "      <th></th>\n",
       "      <th></th>\n",
       "      <th></th>\n",
       "    </tr>\n",
       "  </thead>\n",
       "  <tbody>\n",
       "    <tr>\n",
       "      <th>ANIMAL OR VEGETABLE FATS AND OILS AND THEIR CLEAVAGE PRODUCTS; PRE. EDIBLE FATS; ANIMAL OR VEGETABLE WAXEX.</th>\n",
       "      <td>108.414285</td>\n",
       "      <td>146.479399</td>\n",
       "      <td>166.620865</td>\n",
       "      <td>140.008893</td>\n",
       "      <td>161.699698</td>\n",
       "      <td>197.933306</td>\n",
       "      <td>176.079714</td>\n",
       "      <td>180.319012</td>\n",
       "      <td>143.487220</td>\n",
       "    </tr>\n",
       "    <tr>\n",
       "      <th>NUCLEAR REACTORS, BOILERS, MACHINERY AND MECHANICAL APPLIANCES; PARTS THEREOF.</th>\n",
       "      <td>162.858085</td>\n",
       "      <td>203.050067</td>\n",
       "      <td>194.635210</td>\n",
       "      <td>174.131910</td>\n",
       "      <td>177.068275</td>\n",
       "      <td>165.177643</td>\n",
       "      <td>185.902527</td>\n",
       "      <td>211.528864</td>\n",
       "      <td>232.084006</td>\n",
       "    </tr>\n",
       "    <tr>\n",
       "      <th>WOOL, FINE OR COARSE ANIMAL HAIR, HORSEHAIR YARN AND WOVEN FABRIC.</th>\n",
       "      <td>12.449472</td>\n",
       "      <td>12.467442</td>\n",
       "      <td>14.995732</td>\n",
       "      <td>11.150411</td>\n",
       "      <td>8.790482</td>\n",
       "      <td>13.384898</td>\n",
       "      <td>10.929171</td>\n",
       "      <td>12.418901</td>\n",
       "      <td>11.177359</td>\n",
       "    </tr>\n",
       "    <tr>\n",
       "      <th>CERAMIC PRODUCTS.</th>\n",
       "      <td>12.382561</td>\n",
       "      <td>13.507312</td>\n",
       "      <td>20.105227</td>\n",
       "      <td>16.500072</td>\n",
       "      <td>19.062575</td>\n",
       "      <td>13.866267</td>\n",
       "      <td>15.748105</td>\n",
       "      <td>17.549047</td>\n",
       "      <td>17.386402</td>\n",
       "    </tr>\n",
       "    <tr>\n",
       "      <th>PRINTED BOOKDS, NEWSPAPERS, PICTURES AND OTHER PRODUCTS OF THE PRINTING INDUSTRY; MANUSCRIPTS, TYPESCRIPTS AND PLANS.</th>\n",
       "      <td>14.146389</td>\n",
       "      <td>16.270254</td>\n",
       "      <td>14.361716</td>\n",
       "      <td>19.499974</td>\n",
       "      <td>9.992016</td>\n",
       "      <td>12.122564</td>\n",
       "      <td>13.685430</td>\n",
       "      <td>13.857509</td>\n",
       "      <td>17.059819</td>\n",
       "    </tr>\n",
       "  </tbody>\n",
       "</table>\n",
       "</div>"
      ],
      "text/plain": [
       "year                                                      2010        2011  \\\n",
       "Commodity                                                                    \n",
       "ANIMAL OR VEGETABLE FATS AND OILS AND THEIR CLE...  108.414285  146.479399   \n",
       "NUCLEAR REACTORS, BOILERS, MACHINERY AND MECHAN...  162.858085  203.050067   \n",
       "WOOL, FINE OR COARSE ANIMAL HAIR, HORSEHAIR YAR...   12.449472   12.467442   \n",
       "CERAMIC PRODUCTS.                                    12.382561   13.507312   \n",
       "PRINTED BOOKDS, NEWSPAPERS, PICTURES AND OTHER ...   14.146389   16.270254   \n",
       "\n",
       "year                                                      2012        2013  \\\n",
       "Commodity                                                                    \n",
       "ANIMAL OR VEGETABLE FATS AND OILS AND THEIR CLE...  166.620865  140.008893   \n",
       "NUCLEAR REACTORS, BOILERS, MACHINERY AND MECHAN...  194.635210  174.131910   \n",
       "WOOL, FINE OR COARSE ANIMAL HAIR, HORSEHAIR YAR...   14.995732   11.150411   \n",
       "CERAMIC PRODUCTS.                                    20.105227   16.500072   \n",
       "PRINTED BOOKDS, NEWSPAPERS, PICTURES AND OTHER ...   14.361716   19.499974   \n",
       "\n",
       "year                                                      2014        2015  \\\n",
       "Commodity                                                                    \n",
       "ANIMAL OR VEGETABLE FATS AND OILS AND THEIR CLE...  161.699698  197.933306   \n",
       "NUCLEAR REACTORS, BOILERS, MACHINERY AND MECHAN...  177.068275  165.177643   \n",
       "WOOL, FINE OR COARSE ANIMAL HAIR, HORSEHAIR YAR...    8.790482   13.384898   \n",
       "CERAMIC PRODUCTS.                                    19.062575   13.866267   \n",
       "PRINTED BOOKDS, NEWSPAPERS, PICTURES AND OTHER ...    9.992016   12.122564   \n",
       "\n",
       "year                                                      2016        2017  \\\n",
       "Commodity                                                                    \n",
       "ANIMAL OR VEGETABLE FATS AND OILS AND THEIR CLE...  176.079714  180.319012   \n",
       "NUCLEAR REACTORS, BOILERS, MACHINERY AND MECHAN...  185.902527  211.528864   \n",
       "WOOL, FINE OR COARSE ANIMAL HAIR, HORSEHAIR YAR...   10.929171   12.418901   \n",
       "CERAMIC PRODUCTS.                                    15.748105   17.549047   \n",
       "PRINTED BOOKDS, NEWSPAPERS, PICTURES AND OTHER ...   13.685430   13.857509   \n",
       "\n",
       "year                                                      2018  \n",
       "Commodity                                                       \n",
       "ANIMAL OR VEGETABLE FATS AND OILS AND THEIR CLE...  143.487220  \n",
       "NUCLEAR REACTORS, BOILERS, MACHINERY AND MECHAN...  232.084006  \n",
       "WOOL, FINE OR COARSE ANIMAL HAIR, HORSEHAIR YAR...   11.177359  \n",
       "CERAMIC PRODUCTS.                                    17.386402  \n",
       "PRINTED BOOKDS, NEWSPAPERS, PICTURES AND OTHER ...   17.059819  "
      ]
     },
     "metadata": {},
     "output_type": "display_data"
    }
   ],
   "source": [
    "'''Create pivot table of export/import (commodity wise)'''\n",
    "exp_comm_table = pd.pivot_table(data_export, values = 'value', index = 'Commodity', columns = 'year')\n",
    "imp_comm_table = pd.pivot_table(data_import, values = 'value', index = 'Commodity', columns = 'year')\n",
    "print('**Commodity Composition of Exports**')\n",
    "display(exp_comm_table.sample(n=5))\n",
    "print('**Commodity Composition of Imports**')\n",
    "display(imp_comm_table.sample(n=5))"
   ]
  },
  {
   "cell_type": "code",
   "execution_count": 80,
   "metadata": {},
   "outputs": [
    {
     "name": "stdout",
     "output_type": "stream",
     "text": [
      "**Trend of the Most Exporting Goods(In Values) From 2010 to 2018**\n"
     ]
    },
    {
     "data": {
      "image/png": "[encoded data removed]",
      "text/plain": [
       "<Figure size 1080x1368 with 4 Axes>"
      ]
     },
     "metadata": {
      "needs_background": "light"
     },
     "output_type": "display_data"
    }
   ],
   "source": [
    "print('**Trend of the Most Exporting Goods(In Values) From 2010 to 2018**')\n",
    "plt.figure(figsize=(15,19))\n",
    " \n",
    "plt.subplot(411)\n",
    "g = exp_comm_table.loc[\"MINERAL FUELS, MINERAL OILS AND PRODUCTS OF THEIR DISTILLATION; BITUMINOUS SUBSTANCES; MINERAL WAXES.\"].plot(color='green', linewidth=3)\n",
    "g.set_ylabel('USD (millions)', fontsize = 15)\n",
    "g.set_xlabel('Year', fontsize = 15)\n",
    "g.set_title('Trend of Petroleum products', size = 20)\n",
    "\n",
    "plt.subplot(412)\n",
    "g1 = exp_comm_table.loc[\"NATURAL OR CULTURED PEARLS,PRECIOUS OR SEMIPRECIOUS STONES,PRE.METALS,CLAD WITH PRE.METAL AND ARTCLS THEREOF;IMIT.JEWLRY;COIN.\"].plot(color='green', linewidth=3)\n",
    "g1.set_ylabel('USD (millions)', fontsize = 15)\n",
    "g1.set_xlabel('Year', fontsize = 15)\n",
    "g1.set_title('Trend of Gems & Jewellery', size = 20)\n",
    "\n",
    "plt.subplot(413)\n",
    "g2 = exp_comm_table.loc[\"VEHICLES OTHER THAN RAILWAY OR TRAMWAY ROLLING STOCK, AND PARTS AND ACCESSORIES THEREOF.\"].plot(color='green', linewidth=3)\n",
    "g2.set_ylabel('USD (millions)', fontsize = 15)\n",
    "g2.set_xlabel('Year', fontsize = 15)\n",
    "g2.set_title('Trend of Transport Equipment', size = 20)\n",
    "\n",
    "\n",
    "plt.subplot(414)\n",
    "g3 = exp_comm_table.loc[\"NUCLEAR REACTORS, BOILERS, MACHINERY AND MECHANICAL APPLIANCES; PARTS THEREOF.\"].plot(color='green', linewidth=3)\n",
    "g3.set_ylabel('USD (millions)', fontsize = 15)\n",
    "g3.set_xlabel('Year', fontsize = 15)\n",
    "g3.set_title('Trend of Machinery & Nuclear Reactors', size = 20)\n",
    "\n",
    "plt.subplots_adjust(hspace = 0.4)\n",
    "plt.show()"
   ]
  },
  {
   "cell_type": "code",
   "execution_count": 81,
   "metadata": {},
   "outputs": [
    {
     "name": "stdout",
     "output_type": "stream",
     "text": [
      "**Trend of the Most Importing Goods(In Values) From 2010 to 2018**\n"
     ]
    },
    {
     "data": {
      "image/png": "[encoded data removed]",
      "text/plain": [
       "<Figure size 1080x1368 with 4 Axes>"
      ]
     },
     "metadata": {
      "needs_background": "light"
     },
     "output_type": "display_data"
    }
   ],
   "source": [
    "print('**Trend of the Most Importing Goods(In Values) From 2010 to 2018**')\n",
    "plt.figure(figsize=(15,19))\n",
    " \n",
    "plt.subplot(411)\n",
    "g = imp_comm_table.loc[\"MINERAL FUELS, MINERAL OILS AND PRODUCTS OF THEIR DISTILLATION; BITUMINOUS SUBSTANCES; MINERAL WAXES.\"].plot(color='red', linewidth=3)\n",
    "g.set_ylabel('USD (millions)', fontsize = 15)\n",
    "g.set_xlabel('Year', fontsize = 15)\n",
    "g.set_title('Trend of Petroleum products', size = 20)\n",
    "\n",
    "plt.subplot(412)\n",
    "g1 = imp_comm_table.loc[\"NATURAL OR CULTURED PEARLS,PRECIOUS OR SEMIPRECIOUS STONES,PRE.METALS,CLAD WITH PRE.METAL AND ARTCLS THEREOF;IMIT.JEWLRY;COIN.\"].plot(color='red', linewidth=3)\n",
    "g1.set_ylabel('USD (millions)', fontsize = 15)\n",
    "g1.set_xlabel('Year', fontsize = 15)\n",
    "g1.set_title('Trend of Gems & Jewellery', size = 20)\n",
    "\n",
    "plt.subplot(413)\n",
    "g2 = imp_comm_table.loc[\"ELECTRICAL MACHINERY AND EQUIPMENT AND PARTS THEREOF; SOUND RECORDERS AND REPRODUCERS, TELEVISION IMAGE AND SOUND RECORDERS AND REPRODUCERS,AND PARTS.\"].plot(color='red', linewidth=3)\n",
    "g2.set_ylabel('USD (millions)', fontsize = 15)\n",
    "g2.set_xlabel('Year', fontsize = 15)\n",
    "g2.set_title('Trend of Electrical Equipment', size = 20)\n",
    "\n",
    "\n",
    "plt.subplot(414)\n",
    "g3 = imp_comm_table.loc[\"NUCLEAR REACTORS, BOILERS, MACHINERY AND MECHANICAL APPLIANCES; PARTS THEREOF.\"].plot(color='red', linewidth=3)\n",
    "g3.set_ylabel('USD (millions)', fontsize = 15)\n",
    "g3.set_xlabel('Year', fontsize = 15)\n",
    "g3.set_title('Trend of Machinery & Nuclear Reactors', size = 20)\n",
    "\n",
    "plt.subplots_adjust(hspace = 0.4)\n",
    "plt.show()"
   ]
  },
  {
   "cell_type": "code",
   "execution_count": 82,
   "metadata": {},
   "outputs": [],
   "source": [
    "'''Coverting dataset in Country wise'''\n",
    "exp_country = data_export.groupby('country').agg({'value':'sum'})\n",
    "exp_country = exp_country.rename(columns={'value': 'Export'})\n",
    "exp_country = exp_country.sort_values(by = 'Export', ascending = False)\n",
    "exp_country = exp_country[:20]\n",
    "\n",
    "imp_country = data_import.groupby('country').agg({'value':'sum'})\n",
    "imp_country = imp_country.rename(columns={'value': 'Import'})\n",
    "imp_country = imp_country.sort_values(by = 'Import', ascending = False)\n",
    "imp_country = imp_country[:20]"
   ]
  },
  {
   "cell_type": "code",
   "execution_count": 83,
   "metadata": {},
   "outputs": [
    {
     "name": "stdout",
     "output_type": "stream",
     "text": [
      "**Direction of Foreign Trade Export/Import and Trade Balance of India**\n"
     ]
    },
    {
     "data": {
      "text/html": [
       "<div>\n",
       "<style scoped>\n",
       "    .dataframe tbody tr th:only-of-type {\n",
       "        vertical-align: middle;\n",
       "    }\n",
       "\n",
       "    .dataframe tbody tr th {\n",
       "        vertical-align: top;\n",
       "    }\n",
       "\n",
       "    .dataframe thead th {\n",
       "        text-align: right;\n",
       "    }\n",
       "</style>\n",
       "<table border=\"1\" class=\"dataframe\">\n",
       "  <thead>\n",
       "    <tr style=\"text-align: right;\">\n",
       "      <th></th>\n",
       "      <th>Export</th>\n",
       "      <th>Import</th>\n",
       "      <th>Trade Deficit</th>\n",
       "    </tr>\n",
       "  </thead>\n",
       "  <tbody>\n",
       "    <tr>\n",
       "      <th>USA</th>\n",
       "      <td>360738.976975</td>\n",
       "      <td>219588.467125</td>\n",
       "      <td>141150.509850</td>\n",
       "    </tr>\n",
       "    <tr>\n",
       "      <th>U ARAB EMTS</th>\n",
       "      <td>289374.880000</td>\n",
       "      <td>257969.838473</td>\n",
       "      <td>31405.041527</td>\n",
       "    </tr>\n",
       "    <tr>\n",
       "      <th>HONG KONG</th>\n",
       "      <td>116361.952704</td>\n",
       "      <td>85912.474148</td>\n",
       "      <td>30449.478556</td>\n",
       "    </tr>\n",
       "    <tr>\n",
       "      <th>SINGAPORE</th>\n",
       "      <td>101916.946121</td>\n",
       "      <td>76664.487048</td>\n",
       "      <td>25252.459072</td>\n",
       "    </tr>\n",
       "    <tr>\n",
       "      <th>BELGIUM</th>\n",
       "      <td>54572.999217</td>\n",
       "      <td>92645.955573</td>\n",
       "      <td>-38072.956356</td>\n",
       "    </tr>\n",
       "    <tr>\n",
       "      <th>MALAYSIA</th>\n",
       "      <td>43528.674804</td>\n",
       "      <td>85389.408499</td>\n",
       "      <td>-41860.733695</td>\n",
       "    </tr>\n",
       "    <tr>\n",
       "      <th>JAPAN</th>\n",
       "      <td>48361.345729</td>\n",
       "      <td>97501.334199</td>\n",
       "      <td>-49139.988469</td>\n",
       "    </tr>\n",
       "    <tr>\n",
       "      <th>GERMANY</th>\n",
       "      <td>69071.128292</td>\n",
       "      <td>120225.892824</td>\n",
       "      <td>-51154.764533</td>\n",
       "    </tr>\n",
       "    <tr>\n",
       "      <th>INDONESIA</th>\n",
       "      <td>42644.900071</td>\n",
       "      <td>129910.519898</td>\n",
       "      <td>-87265.619828</td>\n",
       "    </tr>\n",
       "    <tr>\n",
       "      <th>SAUDI ARAB</th>\n",
       "      <td>66297.939608</td>\n",
       "      <td>246356.819720</td>\n",
       "      <td>-180058.880112</td>\n",
       "    </tr>\n",
       "    <tr>\n",
       "      <th>CHINA P RP</th>\n",
       "      <td>122323.627900</td>\n",
       "      <td>532489.317125</td>\n",
       "      <td>-410165.689225</td>\n",
       "    </tr>\n",
       "  </tbody>\n",
       "</table>\n",
       "</div>"
      ],
      "text/plain": [
       "                    Export         Import  Trade Deficit\n",
       "USA          360738.976975  219588.467125  141150.509850\n",
       "U ARAB EMTS  289374.880000  257969.838473   31405.041527\n",
       "HONG KONG    116361.952704   85912.474148   30449.478556\n",
       "SINGAPORE    101916.946121   76664.487048   25252.459072\n",
       "BELGIUM       54572.999217   92645.955573  -38072.956356\n",
       "MALAYSIA      43528.674804   85389.408499  -41860.733695\n",
       "JAPAN         48361.345729   97501.334199  -49139.988469\n",
       "GERMANY       69071.128292  120225.892824  -51154.764533\n",
       "INDONESIA     42644.900071  129910.519898  -87265.619828\n",
       "SAUDI ARAB    66297.939608  246356.819720 -180058.880112\n",
       "CHINA P RP   122323.627900  532489.317125 -410165.689225"
      ]
     },
     "metadata": {},
     "output_type": "display_data"
    },
    {
     "name": "stdout",
     "output_type": "stream",
     "text": [
      "**Descriptive statistics**\n"
     ]
    },
    {
     "data": {
      "text/html": [
       "<div>\n",
       "<style scoped>\n",
       "    .dataframe tbody tr th:only-of-type {\n",
       "        vertical-align: middle;\n",
       "    }\n",
       "\n",
       "    .dataframe tbody tr th {\n",
       "        vertical-align: top;\n",
       "    }\n",
       "\n",
       "    .dataframe thead th {\n",
       "        text-align: right;\n",
       "    }\n",
       "</style>\n",
       "<table border=\"1\" class=\"dataframe\">\n",
       "  <thead>\n",
       "    <tr style=\"text-align: right;\">\n",
       "      <th></th>\n",
       "      <th>Export</th>\n",
       "      <th>Import</th>\n",
       "      <th>Trade Deficit</th>\n",
       "    </tr>\n",
       "  </thead>\n",
       "  <tbody>\n",
       "    <tr>\n",
       "      <th>count</th>\n",
       "      <td>11.000000</td>\n",
       "      <td>11.000000</td>\n",
       "      <td>11.000000</td>\n",
       "    </tr>\n",
       "    <tr>\n",
       "      <th>mean</th>\n",
       "      <td>119563.033766</td>\n",
       "      <td>176786.774057</td>\n",
       "      <td>-57223.740292</td>\n",
       "    </tr>\n",
       "    <tr>\n",
       "      <th>std</th>\n",
       "      <td>106634.310469</td>\n",
       "      <td>136082.853161</td>\n",
       "      <td>142464.128915</td>\n",
       "    </tr>\n",
       "    <tr>\n",
       "      <th>min</th>\n",
       "      <td>42644.900071</td>\n",
       "      <td>76664.487048</td>\n",
       "      <td>-410165.689225</td>\n",
       "    </tr>\n",
       "    <tr>\n",
       "      <th>25%</th>\n",
       "      <td>51467.172473</td>\n",
       "      <td>89279.214860</td>\n",
       "      <td>-69210.192180</td>\n",
       "    </tr>\n",
       "    <tr>\n",
       "      <th>50%</th>\n",
       "      <td>69071.128292</td>\n",
       "      <td>120225.892824</td>\n",
       "      <td>-41860.733695</td>\n",
       "    </tr>\n",
       "    <tr>\n",
       "      <th>75%</th>\n",
       "      <td>119342.790302</td>\n",
       "      <td>232972.643423</td>\n",
       "      <td>27850.968814</td>\n",
       "    </tr>\n",
       "    <tr>\n",
       "      <th>max</th>\n",
       "      <td>360738.976975</td>\n",
       "      <td>532489.317125</td>\n",
       "      <td>141150.509850</td>\n",
       "    </tr>\n",
       "  </tbody>\n",
       "</table>\n",
       "</div>"
      ],
      "text/plain": [
       "              Export         Import  Trade Deficit\n",
       "count      11.000000      11.000000      11.000000\n",
       "mean   119563.033766  176786.774057  -57223.740292\n",
       "std    106634.310469  136082.853161  142464.128915\n",
       "min     42644.900071   76664.487048 -410165.689225\n",
       "25%     51467.172473   89279.214860  -69210.192180\n",
       "50%     69071.128292  120225.892824  -41860.733695\n",
       "75%    119342.790302  232972.643423   27850.968814\n",
       "max    360738.976975  532489.317125  141150.509850"
      ]
     },
     "metadata": {},
     "output_type": "display_data"
    }
   ],
   "source": [
    "'''Calculating trade deficit'''\n",
    "total_country = pd.concat([exp_country, imp_country], axis = 1)\n",
    "total_country['Trade Deficit'] = exp_country.Export - imp_country.Import\n",
    "total_country = total_country.sort_values(by = 'Trade Deficit', ascending = False)\n",
    "total_country = total_country[:11]\n",
    "\n",
    "print('**Direction of Foreign Trade Export/Import and Trade Balance of India**')\n",
    "display(total_country)\n",
    "print('**Descriptive statistics**')\n",
    "display(total_country.describe())"
   ]
  },
  {
   "cell_type": "code",
   "execution_count": 84,
   "metadata": {},
   "outputs": [
    {
     "data": {
      "application/vnd.plotly.v1+json": {
       "config": {
        "plotlyServerURL": "https://plot.ly"
       },
       "data": [
        {
         "marker": {
          "color": "rgb(55, 83, 109)",
          "line": {
           "color": "rgb(0,0,0)",
           "width": 1.5
          }
         },
         "name": "Export",
         "text": [
          284525.38495751313,
          338084.3454575768,
          334914.4144950189,
          346869.76072423387,
          346080.4807574913,
          296459.30922835856,
          309998.7113991921,
          335320.3980200818,
          363035.8507950556
         ],
         "type": "bar",
         "x": [
          "USA",
          "U ARAB EMTS",
          "HONG KONG",
          "SINGAPORE",
          "BELGIUM",
          "MALAYSIA",
          "JAPAN",
          "GERMANY",
          "INDONESIA",
          "SAUDI ARAB",
          "CHINA P RP"
         ],
         "y": [
          360738.9769749976,
          289374.8799999995,
          116361.95270415094,
          101916.94612082772,
          54572.99921665228,
          43528.67480416315,
          48361.34572915389,
          69071.12829166159,
          42644.9000708216,
          66297.93960832617,
          122323.62789998768
         ]
        },
        {
         "marker": {
          "color": "rgb(26, 118, 255)",
          "line": {
           "color": "rgb(0,0,0)",
           "width": 1.5
          }
         },
         "name": "Import",
         "text": [
          434742.8547886356,
          572127.7823217957,
          586641.9415594258,
          533632.5765712056,
          525292.4355020347,
          500966.0305664928,
          462052.62547662045,
          539035.7785806303,
          592709.0868507441
         ],
         "type": "bar",
         "x": [
          "USA",
          "U ARAB EMTS",
          "HONG KONG",
          "SINGAPORE",
          "BELGIUM",
          "MALAYSIA",
          "JAPAN",
          "GERMANY",
          "INDONESIA",
          "SAUDI ARAB",
          "CHINA P RP"
         ],
         "y": [
          219588.46712470546,
          257969.83847341023,
          85912.47414776214,
          76664.48704846881,
          92645.95557270313,
          85389.40849882214,
          97501.33419858658,
          120225.89282447005,
          129910.51989835076,
          246356.8197204655,
          532489.3171247056
         ]
        },
        {
         "marker": {
          "color": "crimson",
          "line": {
           "color": "rgb(0,0,0)",
           "width": 1.5
          }
         },
         "name": "Trade Deficit",
         "text": [
          -150217.4698311225,
          -234043.4368642189,
          -251727.5270644069,
          -186762.81584697176,
          -179211.95474454341,
          -204506.72133813426,
          -152053.91407742834,
          -203715.3805605485,
          -229673.23605568847
         ],
         "type": "bar",
         "x": [
          "USA",
          "U ARAB EMTS",
          "HONG KONG",
          "SINGAPORE",
          "BELGIUM",
          "MALAYSIA",
          "JAPAN",
          "GERMANY",
          "INDONESIA",
          "SAUDI ARAB",
          "CHINA P RP"
         ],
         "y": [
          141150.50985029215,
          31405.04152658925,
          30449.4785563888,
          25252.459072358906,
          -38072.95635605085,
          -41860.73369465899,
          -49139.9884694327,
          -51154.76453280846,
          -87265.61982752915,
          -180058.88011213933,
          -410165.68922471796
         ]
        }
       ],
       "layout": {
        "hovermode": "closest",
        "template": {
         "data": {
          "bar": [
           {
            "error_x": {
             "color": "#2a3f5f"
            },
            "error_y": {
             "color": "#2a3f5f"
            },
            "marker": {
             "line": {
              "color": "#E5ECF6",
              "width": 0.5
             }
            },
            "type": "bar"
           }
          ],
          "barpolar": [
           {
            "marker": {
             "line": {
              "color": "#E5ECF6",
              "width": 0.5
             }
            },
            "type": "barpolar"
           }
          ],
          "carpet": [
           {
            "aaxis": {
             "endlinecolor": "#2a3f5f",
             "gridcolor": "white",
             "linecolor": "white",
             "minorgridcolor": "white",
             "startlinecolor": "#2a3f5f"
            },
            "baxis": {
             "endlinecolor": "#2a3f5f",
             "gridcolor": "white",
             "linecolor": "white",
             "minorgridcolor": "white",
             "startlinecolor": "#2a3f5f"
            },
            "type": "carpet"
           }
          ],
          "choropleth": [
           {
            "colorbar": {
             "outlinewidth": 0,
             "ticks": ""
            },
            "type": "choropleth"
           }
          ],
          "contour": [
           {
            "colorbar": {
             "outlinewidth": 0,
             "ticks": ""
            },
            "colorscale": [
             [
              0,
              "#0d0887"
             ],
             [
              0.1111111111111111,
              "#46039f"
             ],
             [
              0.2222222222222222,
              "#7201a8"
             ],
             [
              0.3333333333333333,
              "#9c179e"
             ],
             [
              0.4444444444444444,
              "#bd3786"
             ],
             [
              0.5555555555555556,
              "#d8576b"
             ],
             [
              0.6666666666666666,
              "#ed7953"
             ],
             [
              0.7777777777777778,
              "#fb9f3a"
             ],
             [
              0.8888888888888888,
              "#fdca26"
             ],
             [
              1,
              "#f0f921"
             ]
            ],
            "type": "contour"
           }
          ],
          "contourcarpet": [
           {
            "colorbar": {
             "outlinewidth": 0,
             "ticks": ""
            },
            "type": "contourcarpet"
           }
          ],
          "heatmap": [
           {
            "colorbar": {
             "outlinewidth": 0,
             "ticks": ""
            },
            "colorscale": [
             [
              0,
              "#0d0887"
             ],
             [
              0.1111111111111111,
              "#46039f"
             ],
             [
              0.2222222222222222,
              "#7201a8"
             ],
             [
              0.3333333333333333,
              "#9c179e"
             ],
             [
              0.4444444444444444,
              "#bd3786"
             ],
             [
              0.5555555555555556,
              "#d8576b"
             ],
             [
              0.6666666666666666,
              "#ed7953"
             ],
             [
              0.7777777777777778,
              "#fb9f3a"
             ],
             [
              0.8888888888888888,
              "#fdca26"
             ],
             [
              1,
              "#f0f921"
             ]
            ],
            "type": "heatmap"
           }
          ],
          "heatmapgl": [
           {
            "colorbar": {
             "outlinewidth": 0,
             "ticks": ""
            },
            "colorscale": [
             [
              0,
              "#0d0887"
             ],
             [
              0.1111111111111111,
              "#46039f"
             ],
             [
              0.2222222222222222,
              "#7201a8"
             ],
             [
              0.3333333333333333,
              "#9c179e"
             ],
             [
              0.4444444444444444,
              "#bd3786"
             ],
             [
              0.5555555555555556,
              "#d8576b"
             ],
             [
              0.6666666666666666,
              "#ed7953"
             ],
             [
              0.7777777777777778,
              "#fb9f3a"
             ],
             [
              0.8888888888888888,
              "#fdca26"
             ],
             [
              1,
              "#f0f921"
             ]
            ],
            "type": "heatmapgl"
           }
          ],
          "histogram": [
           {
            "marker": {
             "colorbar": {
              "outlinewidth": 0,
              "ticks": ""
             }
            },
            "type": "histogram"
           }
          ],
          "histogram2d": [
           {
            "colorbar": {
             "outlinewidth": 0,
             "ticks": ""
            },
            "colorscale": [
             [
              0,
              "#0d0887"
             ],
             [
              0.1111111111111111,
              "#46039f"
             ],
             [
              0.2222222222222222,
              "#7201a8"
             ],
             [
              0.3333333333333333,
              "#9c179e"
             ],
             [
              0.4444444444444444,
              "#bd3786"
             ],
             [
              0.5555555555555556,
              "#d8576b"
             ],
             [
              0.6666666666666666,
              "#ed7953"
             ],
             [
              0.7777777777777778,
              "#fb9f3a"
             ],
             [
              0.8888888888888888,
              "#fdca26"
             ],
             [
              1,
              "#f0f921"
             ]
            ],
            "type": "histogram2d"
           }
          ],
          "histogram2dcontour": [
           {
            "colorbar": {
             "outlinewidth": 0,
             "ticks": ""
            },
            "colorscale": [
             [
              0,
              "#0d0887"
             ],
             [
              0.1111111111111111,
              "#46039f"
             ],
             [
              0.2222222222222222,
              "#7201a8"
             ],
             [
              0.3333333333333333,
              "#9c179e"
             ],
             [
              0.4444444444444444,
              "#bd3786"
             ],
             [
              0.5555555555555556,
              "#d8576b"
             ],
             [
              0.6666666666666666,
              "#ed7953"
             ],
             [
              0.7777777777777778,
              "#fb9f3a"
             ],
             [
              0.8888888888888888,
              "#fdca26"
             ],
             [
              1,
              "#f0f921"
             ]
            ],
            "type": "histogram2dcontour"
           }
          ],
          "mesh3d": [
           {
            "colorbar": {
             "outlinewidth": 0,
             "ticks": ""
            },
            "type": "mesh3d"
           }
          ],
          "parcoords": [
           {
            "line": {
             "colorbar": {
              "outlinewidth": 0,
              "ticks": ""
             }
            },
            "type": "parcoords"
           }
          ],
          "pie": [
           {
            "automargin": true,
            "type": "pie"
           }
          ],
          "scatter": [
           {
            "marker": {
             "colorbar": {
              "outlinewidth": 0,
              "ticks": ""
             }
            },
            "type": "scatter"
           }
          ],
          "scatter3d": [
           {
            "line": {
             "colorbar": {
              "outlinewidth": 0,
              "ticks": ""
             }
            },
            "marker": {
             "colorbar": {
              "outlinewidth": 0,
              "ticks": ""
             }
            },
            "type": "scatter3d"
           }
          ],
          "scattercarpet": [
           {
            "marker": {
             "colorbar": {
              "outlinewidth": 0,
              "ticks": ""
             }
            },
            "type": "scattercarpet"
           }
          ],
          "scattergeo": [
           {
            "marker": {
             "colorbar": {
              "outlinewidth": 0,
              "ticks": ""
             }
            },
            "type": "scattergeo"
           }
          ],
          "scattergl": [
           {
            "marker": {
             "colorbar": {
              "outlinewidth": 0,
              "ticks": ""
             }
            },
            "type": "scattergl"
           }
          ],
          "scattermapbox": [
           {
            "marker": {
             "colorbar": {
              "outlinewidth": 0,
              "ticks": ""
             }
            },
            "type": "scattermapbox"
           }
          ],
          "scatterpolar": [
           {
            "marker": {
             "colorbar": {
              "outlinewidth": 0,
              "ticks": ""
             }
            },
            "type": "scatterpolar"
           }
          ],
          "scatterpolargl": [
           {
            "marker": {
             "colorbar": {
              "outlinewidth": 0,
              "ticks": ""
             }
            },
            "type": "scatterpolargl"
           }
          ],
          "scatterternary": [
           {
            "marker": {
             "colorbar": {
              "outlinewidth": 0,
              "ticks": ""
             }
            },
            "type": "scatterternary"
           }
          ],
          "surface": [
           {
            "colorbar": {
             "outlinewidth": 0,
             "ticks": ""
            },
            "colorscale": [
             [
              0,
              "#0d0887"
             ],
             [
              0.1111111111111111,
              "#46039f"
             ],
             [
              0.2222222222222222,
              "#7201a8"
             ],
             [
              0.3333333333333333,
              "#9c179e"
             ],
             [
              0.4444444444444444,
              "#bd3786"
             ],
             [
              0.5555555555555556,
              "#d8576b"
             ],
             [
              0.6666666666666666,
              "#ed7953"
             ],
             [
              0.7777777777777778,
              "#fb9f3a"
             ],
             [
              0.8888888888888888,
              "#fdca26"
             ],
             [
              1,
              "#f0f921"
             ]
            ],
            "type": "surface"
           }
          ],
          "table": [
           {
            "cells": {
             "fill": {
              "color": "#EBF0F8"
             },
             "line": {
              "color": "white"
             }
            },
            "header": {
             "fill": {
              "color": "#C8D4E3"
             },
             "line": {
              "color": "white"
             }
            },
            "type": "table"
           }
          ]
         },
         "layout": {
          "annotationdefaults": {
           "arrowcolor": "#2a3f5f",
           "arrowhead": 0,
           "arrowwidth": 1
          },
          "coloraxis": {
           "colorbar": {
            "outlinewidth": 0,
            "ticks": ""
           }
          },
          "colorscale": {
           "diverging": [
            [
             0,
             "#8e0152"
            ],
            [
             0.1,
             "#c51b7d"
            ],
            [
             0.2,
             "#de77ae"
            ],
            [
             0.3,
             "#f1b6da"
            ],
            [
             0.4,
             "#fde0ef"
            ],
            [
             0.5,
             "#f7f7f7"
            ],
            [
             0.6,
             "#e6f5d0"
            ],
            [
             0.7,
             "#b8e186"
            ],
            [
             0.8,
             "#7fbc41"
            ],
            [
             0.9,
             "#4d9221"
            ],
            [
             1,
             "#276419"
            ]
           ],
           "sequential": [
            [
             0,
             "#0d0887"
            ],
            [
             0.1111111111111111,
             "#46039f"
            ],
            [
             0.2222222222222222,
             "#7201a8"
            ],
            [
             0.3333333333333333,
             "#9c179e"
            ],
            [
             0.4444444444444444,
             "#bd3786"
            ],
            [
             0.5555555555555556,
             "#d8576b"
            ],
            [
             0.6666666666666666,
             "#ed7953"
            ],
            [
             0.7777777777777778,
             "#fb9f3a"
            ],
            [
             0.8888888888888888,
             "#fdca26"
            ],
            [
             1,
             "#f0f921"
            ]
           ],
           "sequentialminus": [
            [
             0,
             "#0d0887"
            ],
            [
             0.1111111111111111,
             "#46039f"
            ],
            [
             0.2222222222222222,
             "#7201a8"
            ],
            [
             0.3333333333333333,
             "#9c179e"
            ],
            [
             0.4444444444444444,
             "#bd3786"
            ],
            [
             0.5555555555555556,
             "#d8576b"
            ],
            [
             0.6666666666666666,
             "#ed7953"
            ],
            [
             0.7777777777777778,
             "#fb9f3a"
            ],
            [
             0.8888888888888888,
             "#fdca26"
            ],
            [
             1,
             "#f0f921"
            ]
           ]
          },
          "colorway": [
           "#636efa",
           "#EF553B",
           "#00cc96",
           "#ab63fa",
           "#FFA15A",
           "#19d3f3",
           "#FF6692",
           "#B6E880",
           "#FF97FF",
           "#FECB52"
          ],
          "font": {
           "color": "#2a3f5f"
          },
          "geo": {
           "bgcolor": "white",
           "lakecolor": "white",
           "landcolor": "#E5ECF6",
           "showlakes": true,
           "showland": true,
           "subunitcolor": "white"
          },
          "hoverlabel": {
           "align": "left"
          },
          "hovermode": "closest",
          "mapbox": {
           "style": "light"
          },
          "paper_bgcolor": "white",
          "plot_bgcolor": "#E5ECF6",
          "polar": {
           "angularaxis": {
            "gridcolor": "white",
            "linecolor": "white",
            "ticks": ""
           },
           "bgcolor": "#E5ECF6",
           "radialaxis": {
            "gridcolor": "white",
            "linecolor": "white",
            "ticks": ""
           }
          },
          "scene": {
           "xaxis": {
            "backgroundcolor": "#E5ECF6",
            "gridcolor": "white",
            "gridwidth": 2,
            "linecolor": "white",
            "showbackground": true,
            "ticks": "",
            "zerolinecolor": "white"
           },
           "yaxis": {
            "backgroundcolor": "#E5ECF6",
            "gridcolor": "white",
            "gridwidth": 2,
            "linecolor": "white",
            "showbackground": true,
            "ticks": "",
            "zerolinecolor": "white"
           },
           "zaxis": {
            "backgroundcolor": "#E5ECF6",
            "gridcolor": "white",
            "gridwidth": 2,
            "linecolor": "white",
            "showbackground": true,
            "ticks": "",
            "zerolinecolor": "white"
           }
          },
          "shapedefaults": {
           "line": {
            "color": "#2a3f5f"
           }
          },
          "ternary": {
           "aaxis": {
            "gridcolor": "white",
            "linecolor": "white",
            "ticks": ""
           },
           "baxis": {
            "gridcolor": "white",
            "linecolor": "white",
            "ticks": ""
           },
           "bgcolor": "#E5ECF6",
           "caxis": {
            "gridcolor": "white",
            "linecolor": "white",
            "ticks": ""
           }
          },
          "title": {
           "x": 0.05
          },
          "xaxis": {
           "automargin": true,
           "gridcolor": "white",
           "linecolor": "white",
           "ticks": "",
           "title": {
            "standoff": 15
           },
           "zerolinecolor": "white",
           "zerolinewidth": 2
          },
          "yaxis": {
           "automargin": true,
           "gridcolor": "white",
           "linecolor": "white",
           "ticks": "",
           "title": {
            "standoff": 15
           },
           "zerolinecolor": "white",
           "zerolinewidth": 2
          }
         }
        },
        "title": {
         "text": "Export/Import and Trade Deficit of Indian Trade from 2010 to 2018(Country Wise)"
        },
        "xaxis": {
         "title": {
          "text": "Country"
         }
        },
        "yaxis": {
         "title": {
          "text": "USD (millions)"
         }
        }
       }
      },
      "text/html": [
       "<div>\n",
       "        \n",
       "        \n",
       "            <div id=\"697bc4ee-00e9-40b3-b9d1-768dfe3d8541\" class=\"plotly-graph-div\" style=\"height:525px; width:100%;\"></div>\n",
       "            <script type=\"text/javascript\">\n",
       "                require([\"plotly\"], function(Plotly) {\n",
       "                    window.PLOTLYENV=window.PLOTLYENV || {};\n",
       "                    \n",
       "                if (document.getElementById(\"697bc4ee-00e9-40b3-b9d1-768dfe3d8541\")) {\n",
       "                    Plotly.newPlot(\n",
       "                        '697bc4ee-00e9-40b3-b9d1-768dfe3d8541',\n",
       "                        [{\"marker\": {\"color\": \"rgb(55, 83, 109)\", \"line\": {\"color\": \"rgb(0,0,0)\", \"width\": 1.5}}, \"name\": \"Export\", \"text\": [284525.38495751313, 338084.3454575768, 334914.4144950189, 346869.76072423387, 346080.4807574913, 296459.30922835856, 309998.7113991921, 335320.3980200818, 363035.8507950556], \"type\": \"bar\", \"x\": [\"USA\", \"U ARAB EMTS\", \"HONG KONG\", \"SINGAPORE\", \"BELGIUM\", \"MALAYSIA\", \"JAPAN\", \"GERMANY\", \"INDONESIA\", \"SAUDI ARAB\", \"CHINA P RP\"], \"y\": [360738.9769749976, 289374.8799999995, 116361.95270415094, 101916.94612082772, 54572.99921665228, 43528.67480416315, 48361.34572915389, 69071.12829166159, 42644.9000708216, 66297.93960832617, 122323.62789998768]}, {\"marker\": {\"color\": \"rgb(26, 118, 255)\", \"line\": {\"color\": \"rgb(0,0,0)\", \"width\": 1.5}}, \"name\": \"Import\", \"text\": [434742.8547886356, 572127.7823217957, 586641.9415594258, 533632.5765712056, 525292.4355020347, 500966.0305664928, 462052.62547662045, 539035.7785806303, 592709.0868507441], \"type\": \"bar\", \"x\": [\"USA\", \"U ARAB EMTS\", \"HONG KONG\", \"SINGAPORE\", \"BELGIUM\", \"MALAYSIA\", \"JAPAN\", \"GERMANY\", \"INDONESIA\", \"SAUDI ARAB\", \"CHINA P RP\"], \"y\": [219588.46712470546, 257969.83847341023, 85912.47414776214, 76664.48704846881, 92645.95557270313, 85389.40849882214, 97501.33419858658, 120225.89282447005, 129910.51989835076, 246356.8197204655, 532489.3171247056]}, {\"marker\": {\"color\": \"crimson\", \"line\": {\"color\": \"rgb(0,0,0)\", \"width\": 1.5}}, \"name\": \"Trade Deficit\", \"text\": [-150217.4698311225, -234043.4368642189, -251727.5270644069, -186762.81584697176, -179211.95474454341, -204506.72133813426, -152053.91407742834, -203715.3805605485, -229673.23605568847], \"type\": \"bar\", \"x\": [\"USA\", \"U ARAB EMTS\", \"HONG KONG\", \"SINGAPORE\", \"BELGIUM\", \"MALAYSIA\", \"JAPAN\", \"GERMANY\", \"INDONESIA\", \"SAUDI ARAB\", \"CHINA P RP\"], \"y\": [141150.50985029215, 31405.04152658925, 30449.4785563888, 25252.459072358906, -38072.95635605085, -41860.73369465899, -49139.9884694327, -51154.76453280846, -87265.61982752915, -180058.88011213933, -410165.68922471796]}],\n",
       "                        {\"hovermode\": \"closest\", \"template\": {\"data\": {\"bar\": [{\"error_x\": {\"color\": \"#2a3f5f\"}, \"error_y\": {\"color\": \"#2a3f5f\"}, \"marker\": {\"line\": {\"color\": \"#E5ECF6\", \"width\": 0.5}}, \"type\": \"bar\"}], \"barpolar\": [{\"marker\": {\"line\": {\"color\": \"#E5ECF6\", \"width\": 0.5}}, \"type\": \"barpolar\"}], \"carpet\": [{\"aaxis\": {\"endlinecolor\": \"#2a3f5f\", \"gridcolor\": \"white\", \"linecolor\": \"white\", \"minorgridcolor\": \"white\", \"startlinecolor\": \"#2a3f5f\"}, \"baxis\": {\"endlinecolor\": \"#2a3f5f\", \"gridcolor\": \"white\", \"linecolor\": \"white\", \"minorgridcolor\": \"white\", \"startlinecolor\": \"#2a3f5f\"}, \"type\": \"carpet\"}], \"choropleth\": [{\"colorbar\": {\"outlinewidth\": 0, \"ticks\": \"\"}, \"type\": \"choropleth\"}], \"contour\": [{\"colorbar\": {\"outlinewidth\": 0, \"ticks\": \"\"}, \"colorscale\": [[0.0, \"#0d0887\"], [0.1111111111111111, \"#46039f\"], [0.2222222222222222, \"#7201a8\"], [0.3333333333333333, \"#9c179e\"], [0.4444444444444444, \"#bd3786\"], [0.5555555555555556, \"#d8576b\"], [0.6666666666666666, \"#ed7953\"], [0.7777777777777778, \"#fb9f3a\"], [0.8888888888888888, \"#fdca26\"], [1.0, \"#f0f921\"]], \"type\": \"contour\"}], \"contourcarpet\": [{\"colorbar\": {\"outlinewidth\": 0, \"ticks\": \"\"}, \"type\": \"contourcarpet\"}], \"heatmap\": [{\"colorbar\": {\"outlinewidth\": 0, \"ticks\": \"\"}, \"colorscale\": [[0.0, \"#0d0887\"], [0.1111111111111111, \"#46039f\"], [0.2222222222222222, \"#7201a8\"], [0.3333333333333333, \"#9c179e\"], [0.4444444444444444, \"#bd3786\"], [0.5555555555555556, \"#d8576b\"], [0.6666666666666666, \"#ed7953\"], [0.7777777777777778, \"#fb9f3a\"], [0.8888888888888888, \"#fdca26\"], [1.0, \"#f0f921\"]], \"type\": \"heatmap\"}], \"heatmapgl\": [{\"colorbar\": {\"outlinewidth\": 0, \"ticks\": \"\"}, \"colorscale\": [[0.0, \"#0d0887\"], [0.1111111111111111, \"#46039f\"], [0.2222222222222222, \"#7201a8\"], [0.3333333333333333, \"#9c179e\"], [0.4444444444444444, \"#bd3786\"], [0.5555555555555556, \"#d8576b\"], [0.6666666666666666, \"#ed7953\"], [0.7777777777777778, \"#fb9f3a\"], [0.8888888888888888, \"#fdca26\"], [1.0, \"#f0f921\"]], \"type\": \"heatmapgl\"}], \"histogram\": [{\"marker\": {\"colorbar\": {\"outlinewidth\": 0, \"ticks\": \"\"}}, \"type\": \"histogram\"}], \"histogram2d\": [{\"colorbar\": {\"outlinewidth\": 0, \"ticks\": \"\"}, \"colorscale\": [[0.0, \"#0d0887\"], [0.1111111111111111, \"#46039f\"], [0.2222222222222222, \"#7201a8\"], [0.3333333333333333, \"#9c179e\"], [0.4444444444444444, \"#bd3786\"], [0.5555555555555556, \"#d8576b\"], [0.6666666666666666, \"#ed7953\"], [0.7777777777777778, \"#fb9f3a\"], [0.8888888888888888, \"#fdca26\"], [1.0, \"#f0f921\"]], \"type\": \"histogram2d\"}], \"histogram2dcontour\": [{\"colorbar\": {\"outlinewidth\": 0, \"ticks\": \"\"}, \"colorscale\": [[0.0, \"#0d0887\"], [0.1111111111111111, \"#46039f\"], [0.2222222222222222, \"#7201a8\"], [0.3333333333333333, \"#9c179e\"], [0.4444444444444444, \"#bd3786\"], [0.5555555555555556, \"#d8576b\"], [0.6666666666666666, \"#ed7953\"], [0.7777777777777778, \"#fb9f3a\"], [0.8888888888888888, \"#fdca26\"], [1.0, \"#f0f921\"]], \"type\": \"histogram2dcontour\"}], \"mesh3d\": [{\"colorbar\": {\"outlinewidth\": 0, \"ticks\": \"\"}, \"type\": \"mesh3d\"}], \"parcoords\": [{\"line\": {\"colorbar\": {\"outlinewidth\": 0, \"ticks\": \"\"}}, \"type\": \"parcoords\"}], \"pie\": [{\"automargin\": true, \"type\": \"pie\"}], \"scatter\": [{\"marker\": {\"colorbar\": {\"outlinewidth\": 0, \"ticks\": \"\"}}, \"type\": \"scatter\"}], \"scatter3d\": [{\"line\": {\"colorbar\": {\"outlinewidth\": 0, \"ticks\": \"\"}}, \"marker\": {\"colorbar\": {\"outlinewidth\": 0, \"ticks\": \"\"}}, \"type\": \"scatter3d\"}], \"scattercarpet\": [{\"marker\": {\"colorbar\": {\"outlinewidth\": 0, \"ticks\": \"\"}}, \"type\": \"scattercarpet\"}], \"scattergeo\": [{\"marker\": {\"colorbar\": {\"outlinewidth\": 0, \"ticks\": \"\"}}, \"type\": \"scattergeo\"}], \"scattergl\": [{\"marker\": {\"colorbar\": {\"outlinewidth\": 0, \"ticks\": \"\"}}, \"type\": \"scattergl\"}], \"scattermapbox\": [{\"marker\": {\"colorbar\": {\"outlinewidth\": 0, \"ticks\": \"\"}}, \"type\": \"scattermapbox\"}], \"scatterpolar\": [{\"marker\": {\"colorbar\": {\"outlinewidth\": 0, \"ticks\": \"\"}}, \"type\": \"scatterpolar\"}], \"scatterpolargl\": [{\"marker\": {\"colorbar\": {\"outlinewidth\": 0, \"ticks\": \"\"}}, \"type\": \"scatterpolargl\"}], \"scatterternary\": [{\"marker\": {\"colorbar\": {\"outlinewidth\": 0, \"ticks\": \"\"}}, \"type\": \"scatterternary\"}], \"surface\": [{\"colorbar\": {\"outlinewidth\": 0, \"ticks\": \"\"}, \"colorscale\": [[0.0, \"#0d0887\"], [0.1111111111111111, \"#46039f\"], [0.2222222222222222, \"#7201a8\"], [0.3333333333333333, \"#9c179e\"], [0.4444444444444444, \"#bd3786\"], [0.5555555555555556, \"#d8576b\"], [0.6666666666666666, \"#ed7953\"], [0.7777777777777778, \"#fb9f3a\"], [0.8888888888888888, \"#fdca26\"], [1.0, \"#f0f921\"]], \"type\": \"surface\"}], \"table\": [{\"cells\": {\"fill\": {\"color\": \"#EBF0F8\"}, \"line\": {\"color\": \"white\"}}, \"header\": {\"fill\": {\"color\": \"#C8D4E3\"}, \"line\": {\"color\": \"white\"}}, \"type\": \"table\"}]}, \"layout\": {\"annotationdefaults\": {\"arrowcolor\": \"#2a3f5f\", \"arrowhead\": 0, \"arrowwidth\": 1}, \"coloraxis\": {\"colorbar\": {\"outlinewidth\": 0, \"ticks\": \"\"}}, \"colorscale\": {\"diverging\": [[0, \"#8e0152\"], [0.1, \"#c51b7d\"], [0.2, \"#de77ae\"], [0.3, \"#f1b6da\"], [0.4, \"#fde0ef\"], [0.5, \"#f7f7f7\"], [0.6, \"#e6f5d0\"], [0.7, \"#b8e186\"], [0.8, \"#7fbc41\"], [0.9, \"#4d9221\"], [1, \"#276419\"]], \"sequential\": [[0.0, \"#0d0887\"], [0.1111111111111111, \"#46039f\"], [0.2222222222222222, \"#7201a8\"], [0.3333333333333333, \"#9c179e\"], [0.4444444444444444, \"#bd3786\"], [0.5555555555555556, \"#d8576b\"], [0.6666666666666666, \"#ed7953\"], [0.7777777777777778, \"#fb9f3a\"], [0.8888888888888888, \"#fdca26\"], [1.0, \"#f0f921\"]], \"sequentialminus\": [[0.0, \"#0d0887\"], [0.1111111111111111, \"#46039f\"], [0.2222222222222222, \"#7201a8\"], [0.3333333333333333, \"#9c179e\"], [0.4444444444444444, \"#bd3786\"], [0.5555555555555556, \"#d8576b\"], [0.6666666666666666, \"#ed7953\"], [0.7777777777777778, \"#fb9f3a\"], [0.8888888888888888, \"#fdca26\"], [1.0, \"#f0f921\"]]}, \"colorway\": [\"#636efa\", \"#EF553B\", \"#00cc96\", \"#ab63fa\", \"#FFA15A\", \"#19d3f3\", \"#FF6692\", \"#B6E880\", \"#FF97FF\", \"#FECB52\"], \"font\": {\"color\": \"#2a3f5f\"}, \"geo\": {\"bgcolor\": \"white\", \"lakecolor\": \"white\", \"landcolor\": \"#E5ECF6\", \"showlakes\": true, \"showland\": true, \"subunitcolor\": \"white\"}, \"hoverlabel\": {\"align\": \"left\"}, \"hovermode\": \"closest\", \"mapbox\": {\"style\": \"light\"}, \"paper_bgcolor\": \"white\", \"plot_bgcolor\": \"#E5ECF6\", \"polar\": {\"angularaxis\": {\"gridcolor\": \"white\", \"linecolor\": \"white\", \"ticks\": \"\"}, \"bgcolor\": \"#E5ECF6\", \"radialaxis\": {\"gridcolor\": \"white\", \"linecolor\": \"white\", \"ticks\": \"\"}}, \"scene\": {\"xaxis\": {\"backgroundcolor\": \"#E5ECF6\", \"gridcolor\": \"white\", \"gridwidth\": 2, \"linecolor\": \"white\", \"showbackground\": true, \"ticks\": \"\", \"zerolinecolor\": \"white\"}, \"yaxis\": {\"backgroundcolor\": \"#E5ECF6\", \"gridcolor\": \"white\", \"gridwidth\": 2, \"linecolor\": \"white\", \"showbackground\": true, \"ticks\": \"\", \"zerolinecolor\": \"white\"}, \"zaxis\": {\"backgroundcolor\": \"#E5ECF6\", \"gridcolor\": \"white\", \"gridwidth\": 2, \"linecolor\": \"white\", \"showbackground\": true, \"ticks\": \"\", \"zerolinecolor\": \"white\"}}, \"shapedefaults\": {\"line\": {\"color\": \"#2a3f5f\"}}, \"ternary\": {\"aaxis\": {\"gridcolor\": \"white\", \"linecolor\": \"white\", \"ticks\": \"\"}, \"baxis\": {\"gridcolor\": \"white\", \"linecolor\": \"white\", \"ticks\": \"\"}, \"bgcolor\": \"#E5ECF6\", \"caxis\": {\"gridcolor\": \"white\", \"linecolor\": \"white\", \"ticks\": \"\"}}, \"title\": {\"x\": 0.05}, \"xaxis\": {\"automargin\": true, \"gridcolor\": \"white\", \"linecolor\": \"white\", \"ticks\": \"\", \"title\": {\"standoff\": 15}, \"zerolinecolor\": \"white\", \"zerolinewidth\": 2}, \"yaxis\": {\"automargin\": true, \"gridcolor\": \"white\", \"linecolor\": \"white\", \"ticks\": \"\", \"title\": {\"standoff\": 15}, \"zerolinecolor\": \"white\", \"zerolinewidth\": 2}}}, \"title\": {\"text\": \"Export/Import and Trade Deficit of Indian Trade from 2010 to 2018(Country Wise)\"}, \"xaxis\": {\"title\": {\"text\": \"Country\"}}, \"yaxis\": {\"title\": {\"text\": \"USD (millions)\"}}},\n",
       "                        {\"responsive\": true}\n",
       "                    ).then(function(){\n",
       "                            \n",
       "var gd = document.getElementById('697bc4ee-00e9-40b3-b9d1-768dfe3d8541');\n",
       "var x = new MutationObserver(function (mutations, observer) {{\n",
       "        var display = window.getComputedStyle(gd).display;\n",
       "        if (!display || display === 'none') {{\n",
       "            console.log([gd, 'removed!']);\n",
       "            Plotly.purge(gd);\n",
       "            observer.disconnect();\n",
       "        }}\n",
       "}});\n",
       "\n",
       "// Listen for the removal of the full notebook cells\n",
       "var notebookContainer = gd.closest('#notebook-container');\n",
       "if (notebookContainer) {{\n",
       "    x.observe(notebookContainer, {childList: true});\n",
       "}}\n",
       "\n",
       "// Listen for the clearing of the current output cell\n",
       "var outputEl = gd.closest('.output');\n",
       "if (outputEl) {{\n",
       "    x.observe(outputEl, {childList: true});\n",
       "}}\n",
       "\n",
       "                        })\n",
       "                };\n",
       "                });\n",
       "            </script>\n",
       "        </div>"
      ]
     },
     "metadata": {},
     "output_type": "display_data"
    }
   ],
   "source": [
    "'''Visualization of Export/Import and Trade Deficit'''\n",
    "trace1 = go.Bar(\n",
    "                x = total_country.index,\n",
    "                y = total_country.Export,\n",
    "                name = \"Export\",\n",
    "                marker = dict(color = 'rgb(55, 83, 109)',\n",
    "                             line=dict(color='rgb(0,0,0)',width=1.5)),\n",
    "                text = total_year.Export)\n",
    "# create trace2 \n",
    "trace2 = go.Bar(\n",
    "                x = total_country.index,\n",
    "                y = total_country.Import,\n",
    "                name = \"Import\",\n",
    "                marker = dict(color = 'rgb(26, 118, 255)',\n",
    "                              line=dict(color='rgb(0,0,0)',width=1.5)),\n",
    "                text = total_year.Import)\n",
    "# create trace3\n",
    "trace3 = go.Bar(\n",
    "                x = total_country.index,\n",
    "                y = total_country['Trade Deficit'],\n",
    "                name = \"Trade Deficit\",\n",
    "                marker = dict(color = 'crimson',\n",
    "                              line=dict(color='rgb(0,0,0)',width=1.5)),\n",
    "                text = total_year['Trade Deficit'])\n",
    "\n",
    "layout = go.Layout(hovermode= 'closest', title = 'Export/Import and Trade Deficit of Indian Trade from 2010 to 2018(Country Wise)' , xaxis = dict(title = 'Country'), yaxis = dict(title = 'USD (millions)'))\n",
    "fig = go.Figure(data = [trace1, trace2, trace3], layout = layout)\n",
    "fig.show()"
   ]
  },
  {
   "cell_type": "code",
   "execution_count": 85,
   "metadata": {},
   "outputs": [
    {
     "name": "stdout",
     "output_type": "stream",
     "text": [
      "**Direction of Foreign Trade Export in India**\n"
     ]
    },
    {
     "data": {
      "text/html": [
       "<div>\n",
       "<style scoped>\n",
       "    .dataframe tbody tr th:only-of-type {\n",
       "        vertical-align: middle;\n",
       "    }\n",
       "\n",
       "    .dataframe tbody tr th {\n",
       "        vertical-align: top;\n",
       "    }\n",
       "\n",
       "    .dataframe thead th {\n",
       "        text-align: right;\n",
       "    }\n",
       "</style>\n",
       "<table border=\"1\" class=\"dataframe\">\n",
       "  <thead>\n",
       "    <tr style=\"text-align: right;\">\n",
       "      <th>year</th>\n",
       "      <th>2010</th>\n",
       "      <th>2011</th>\n",
       "      <th>2012</th>\n",
       "      <th>2013</th>\n",
       "      <th>2014</th>\n",
       "      <th>2015</th>\n",
       "      <th>2016</th>\n",
       "      <th>2017</th>\n",
       "      <th>2018</th>\n",
       "    </tr>\n",
       "    <tr>\n",
       "      <th>country</th>\n",
       "      <th></th>\n",
       "      <th></th>\n",
       "      <th></th>\n",
       "      <th></th>\n",
       "      <th></th>\n",
       "      <th></th>\n",
       "      <th></th>\n",
       "      <th></th>\n",
       "      <th></th>\n",
       "    </tr>\n",
       "  </thead>\n",
       "  <tbody>\n",
       "    <tr>\n",
       "      <th>VIRGIN IS US</th>\n",
       "      <td>5.943044</td>\n",
       "      <td>4.131820</td>\n",
       "      <td>9.716958</td>\n",
       "      <td>4.297659</td>\n",
       "      <td>6.915318</td>\n",
       "      <td>9.004988</td>\n",
       "      <td>7.825036</td>\n",
       "      <td>10.065537</td>\n",
       "      <td>6.132920</td>\n",
       "    </tr>\n",
       "    <tr>\n",
       "      <th>SLOVENIA</th>\n",
       "      <td>4.890903</td>\n",
       "      <td>4.399592</td>\n",
       "      <td>5.312769</td>\n",
       "      <td>4.375359</td>\n",
       "      <td>4.979317</td>\n",
       "      <td>6.372365</td>\n",
       "      <td>4.909205</td>\n",
       "      <td>5.058428</td>\n",
       "      <td>6.738870</td>\n",
       "    </tr>\n",
       "    <tr>\n",
       "      <th>OMAN</th>\n",
       "      <td>12.429163</td>\n",
       "      <td>13.915158</td>\n",
       "      <td>27.183607</td>\n",
       "      <td>29.657665</td>\n",
       "      <td>24.973151</td>\n",
       "      <td>22.574876</td>\n",
       "      <td>28.497893</td>\n",
       "      <td>24.890408</td>\n",
       "      <td>23.358935</td>\n",
       "    </tr>\n",
       "    <tr>\n",
       "      <th>NEUTRAL ZONE</th>\n",
       "      <td>NaN</td>\n",
       "      <td>3.092547</td>\n",
       "      <td>21.567829</td>\n",
       "      <td>NaN</td>\n",
       "      <td>NaN</td>\n",
       "      <td>NaN</td>\n",
       "      <td>NaN</td>\n",
       "      <td>NaN</td>\n",
       "      <td>NaN</td>\n",
       "    </tr>\n",
       "    <tr>\n",
       "      <th>SAMOA</th>\n",
       "      <td>4.919187</td>\n",
       "      <td>5.306229</td>\n",
       "      <td>8.137936</td>\n",
       "      <td>2.587180</td>\n",
       "      <td>3.742068</td>\n",
       "      <td>6.728138</td>\n",
       "      <td>5.936378</td>\n",
       "      <td>4.250870</td>\n",
       "      <td>6.820884</td>\n",
       "    </tr>\n",
       "  </tbody>\n",
       "</table>\n",
       "</div>"
      ],
      "text/plain": [
       "year               2010       2011       2012       2013       2014  \\\n",
       "country                                                               \n",
       "VIRGIN IS US   5.943044   4.131820   9.716958   4.297659   6.915318   \n",
       "SLOVENIA       4.890903   4.399592   5.312769   4.375359   4.979317   \n",
       "OMAN          12.429163  13.915158  27.183607  29.657665  24.973151   \n",
       "NEUTRAL ZONE        NaN   3.092547  21.567829        NaN        NaN   \n",
       "SAMOA          4.919187   5.306229   8.137936   2.587180   3.742068   \n",
       "\n",
       "year               2015       2016       2017       2018  \n",
       "country                                                   \n",
       "VIRGIN IS US   9.004988   7.825036  10.065537   6.132920  \n",
       "SLOVENIA       6.372365   4.909205   5.058428   6.738870  \n",
       "OMAN          22.574876  28.497893  24.890408  23.358935  \n",
       "NEUTRAL ZONE        NaN        NaN        NaN        NaN  \n",
       "SAMOA          6.728138   5.936378   4.250870   6.820884  "
      ]
     },
     "metadata": {},
     "output_type": "display_data"
    },
    {
     "name": "stdout",
     "output_type": "stream",
     "text": [
      "**Direction of Foreign Trade Import in India**\n"
     ]
    },
    {
     "data": {
      "text/html": [
       "<div>\n",
       "<style scoped>\n",
       "    .dataframe tbody tr th:only-of-type {\n",
       "        vertical-align: middle;\n",
       "    }\n",
       "\n",
       "    .dataframe tbody tr th {\n",
       "        vertical-align: top;\n",
       "    }\n",
       "\n",
       "    .dataframe thead th {\n",
       "        text-align: right;\n",
       "    }\n",
       "</style>\n",
       "<table border=\"1\" class=\"dataframe\">\n",
       "  <thead>\n",
       "    <tr style=\"text-align: right;\">\n",
       "      <th>year</th>\n",
       "      <th>2010</th>\n",
       "      <th>2011</th>\n",
       "      <th>2012</th>\n",
       "      <th>2013</th>\n",
       "      <th>2014</th>\n",
       "      <th>2015</th>\n",
       "      <th>2016</th>\n",
       "      <th>2017</th>\n",
       "      <th>2018</th>\n",
       "    </tr>\n",
       "    <tr>\n",
       "      <th>country</th>\n",
       "      <th></th>\n",
       "      <th></th>\n",
       "      <th></th>\n",
       "      <th></th>\n",
       "      <th></th>\n",
       "      <th></th>\n",
       "      <th></th>\n",
       "      <th></th>\n",
       "      <th></th>\n",
       "    </tr>\n",
       "  </thead>\n",
       "  <tbody>\n",
       "    <tr>\n",
       "      <th>KUWAIT</th>\n",
       "      <td>155.355469</td>\n",
       "      <td>254.598823</td>\n",
       "      <td>287.271334</td>\n",
       "      <td>315.161904</td>\n",
       "      <td>267.446375</td>\n",
       "      <td>105.629742</td>\n",
       "      <td>101.403241</td>\n",
       "      <td>144.614555</td>\n",
       "      <td>143.381984</td>\n",
       "    </tr>\n",
       "    <tr>\n",
       "      <th>FAROE IS.</th>\n",
       "      <td>38.888855</td>\n",
       "      <td>41.587617</td>\n",
       "      <td>62.361425</td>\n",
       "      <td>31.180712</td>\n",
       "      <td>41.597617</td>\n",
       "      <td>0.020000</td>\n",
       "      <td>20.787142</td>\n",
       "      <td>41.577617</td>\n",
       "      <td>20.797142</td>\n",
       "    </tr>\n",
       "    <tr>\n",
       "      <th>ARMENIA</th>\n",
       "      <td>21.257808</td>\n",
       "      <td>19.661208</td>\n",
       "      <td>17.141298</td>\n",
       "      <td>26.125594</td>\n",
       "      <td>19.735713</td>\n",
       "      <td>37.507897</td>\n",
       "      <td>20.875475</td>\n",
       "      <td>18.379243</td>\n",
       "      <td>20.837142</td>\n",
       "    </tr>\n",
       "    <tr>\n",
       "      <th>GABON</th>\n",
       "      <td>37.882697</td>\n",
       "      <td>18.535793</td>\n",
       "      <td>34.880476</td>\n",
       "      <td>59.682970</td>\n",
       "      <td>57.916428</td>\n",
       "      <td>25.252029</td>\n",
       "      <td>22.428066</td>\n",
       "      <td>37.931512</td>\n",
       "      <td>50.257968</td>\n",
       "    </tr>\n",
       "    <tr>\n",
       "      <th>MACAO</th>\n",
       "      <td>29.115332</td>\n",
       "      <td>14.453406</td>\n",
       "      <td>17.075389</td>\n",
       "      <td>32.533141</td>\n",
       "      <td>31.307935</td>\n",
       "      <td>21.247697</td>\n",
       "      <td>18.100050</td>\n",
       "      <td>40.242512</td>\n",
       "      <td>3.812857</td>\n",
       "    </tr>\n",
       "  </tbody>\n",
       "</table>\n",
       "</div>"
      ],
      "text/plain": [
       "year             2010        2011        2012        2013        2014  \\\n",
       "country                                                                 \n",
       "KUWAIT     155.355469  254.598823  287.271334  315.161904  267.446375   \n",
       "FAROE IS.   38.888855   41.587617   62.361425   31.180712   41.597617   \n",
       "ARMENIA     21.257808   19.661208   17.141298   26.125594   19.735713   \n",
       "GABON       37.882697   18.535793   34.880476   59.682970   57.916428   \n",
       "MACAO       29.115332   14.453406   17.075389   32.533141   31.307935   \n",
       "\n",
       "year             2015        2016        2017        2018  \n",
       "country                                                    \n",
       "KUWAIT     105.629742  101.403241  144.614555  143.381984  \n",
       "FAROE IS.    0.020000   20.787142   41.577617   20.797142  \n",
       "ARMENIA     37.507897   20.875475   18.379243   20.837142  \n",
       "GABON       25.252029   22.428066   37.931512   50.257968  \n",
       "MACAO       21.247697   18.100050   40.242512    3.812857  "
      ]
     },
     "metadata": {},
     "output_type": "display_data"
    }
   ],
   "source": [
    "'''Create pivot table of export/import (country wise)'''\n",
    "exp_country_table = pd.pivot_table(data_export, values = 'value', index = 'country', columns = 'year')\n",
    "imp_country_table = pd.pivot_table(data_import, values = 'value', index = 'country', columns = 'year')\n",
    "print('**Direction of Foreign Trade Export in India**')\n",
    "display(exp_country_table.sample(n=5))\n",
    "print('**Direction of Foreign Trade Import in India**')\n",
    "display(imp_country_table.sample(n=5))"
   ]
  },
  {
   "cell_type": "code",
   "execution_count": 86,
   "metadata": {},
   "outputs": [
    {
     "name": "stdout",
     "output_type": "stream",
     "text": [
      "Trend of the Direction of Foreign Trade Export in India From 2010 to 2018\n"
     ]
    },
    {
     "data": {
      "image/png": "[encoded data removed]",
      "text/plain": [
       "<Figure size 1080x1368 with 4 Axes>"
      ]
     },
     "metadata": {
      "needs_background": "light"
     },
     "output_type": "display_data"
    }
   ],
   "source": [
    "print('Trend of the Direction of Foreign Trade Export in India From 2010 to 2018')\n",
    "plt.figure(figsize=(15,19))\n",
    " \n",
    "plt.subplot(411)\n",
    "g = exp_country_table.loc[\"USA\"].plot(color='purple', linewidth=3)\n",
    "g.set_ylabel('USD (millions)', fontsize = 15)\n",
    "g.set_xlabel('Year', fontsize = 15)\n",
    "g.set_title('Trend of Export to the USA', size = 20)\n",
    "\n",
    "plt.subplot(412)\n",
    "g1 = exp_country_table.loc[\"U ARAB EMTS\"].plot(color='purple', linewidth=3)\n",
    "g1.set_ylabel('USD (millions)', fontsize = 15)\n",
    "g1.set_xlabel('Year', fontsize = 15)\n",
    "g1.set_title('Trend of Export to the UAE', size = 20)\n",
    "\n",
    "plt.subplot(413)\n",
    "g2 = exp_country_table.loc[\"CHINA P RP\"].plot(color='purple', linewidth=3)\n",
    "g2.set_ylabel('USD (millions)', fontsize = 15)\n",
    "g2.set_xlabel('Year', fontsize = 15)\n",
    "g2.set_title('Trend of Export to the China', size = 20)\n",
    "\n",
    "\n",
    "plt.subplot(414)\n",
    "g3 = exp_country_table.loc[\"HONG KONG\"].plot(color='purple', linewidth=3)\n",
    "g3.set_ylabel('USD (millions)', fontsize = 15)\n",
    "g3.set_xlabel('Year', fontsize = 15)\n",
    "g3.set_title('Trend of Export to the Hong Kong', size = 20)\n",
    "\n",
    "plt.subplots_adjust(hspace = 0.4)\n",
    "plt.show()"
   ]
  },
  {
   "cell_type": "code",
   "execution_count": 87,
   "metadata": {},
   "outputs": [
    {
     "name": "stdout",
     "output_type": "stream",
     "text": [
      "**Trend of the Direction of Foreign Trade Import in India From 2010 to 2018**\n"
     ]
    },
    {
     "data": {
      "image/png": "[encoded data removed]",
      "text/plain": [
       "<Figure size 1080x1368 with 4 Axes>"
      ]
     },
     "metadata": {
      "needs_background": "light"
     },
     "output_type": "display_data"
    }
   ],
   "source": [
    "print('**Trend of the Direction of Foreign Trade Import in India From 2010 to 2018**')\n",
    "plt.figure(figsize=(15,19))\n",
    " \n",
    "plt.subplot(411)\n",
    "g = imp_country_table.loc[\"USA\"].plot(color='coral', linewidth=3)\n",
    "g.set_ylabel('USD (millions)', fontsize = 15)\n",
    "g.set_xlabel('Year', fontsize = 15)\n",
    "g.set_title('Trend of Import From the USA', size = 20)\n",
    "\n",
    "plt.subplot(412)\n",
    "g1 = imp_country_table.loc[\"U ARAB EMTS\"].plot(color='coral', linewidth=3)\n",
    "g1.set_ylabel('USD (millions)', fontsize = 15)\n",
    "g1.set_xlabel('Year', fontsize = 15)\n",
    "g1.set_title('Trend of Import From the UAE', size = 20)\n",
    "\n",
    "plt.subplot(413)\n",
    "g2 = imp_country_table.loc[\"CHINA P RP\"].plot(color='coral', linewidth=3)\n",
    "g2.set_ylabel('USD (millions)', fontsize = 15)\n",
    "g2.set_xlabel('Year', fontsize = 15)\n",
    "g2.set_title('Trend of Import From the China', size = 20)\n",
    "\n",
    "\n",
    "plt.subplot(414)\n",
    "g3 = imp_country_table.loc[\"SAUDI ARAB\"].plot(color='coral', linewidth=3)\n",
    "g3.set_ylabel('USD (millions)', fontsize = 15)\n",
    "g3.set_xlabel('Year', fontsize = 15)\n",
    "g3.set_title('Trend of Import From the Saudi Arab', size = 20)\n",
    "\n",
    "plt.subplots_adjust(hspace = 0.4)\n",
    "plt.show()"
   ]
  },
  {
   "cell_type": "code",
   "execution_count": 88,
   "metadata": {},
   "outputs": [
    {
     "data": {
      "application/vnd.plotly.v1+json": {
       "config": {
        "linkText": "Export to plot.ly",
        "plotlyServerURL": "https://plot.ly",
        "showLink": false
       },
       "data": [
        {
         "colorscale": [
          [
           0,
           "rgb(84,48,5)"
          ],
          [
           0.1,
           "rgb(140,81,10)"
          ],
          [
           0.2,
           "rgb(191,129,45)"
          ],
          [
           0.3,
           "rgb(223,194,125)"
          ],
          [
           0.4,
           "rgb(246,232,195)"
          ],
          [
           0.5,
           "rgb(245,245,245)"
          ],
          [
           0.6,
           "rgb(199,234,229)"
          ],
          [
           0.7,
           "rgb(128,205,193)"
          ],
          [
           0.8,
           "rgb(53,151,143)"
          ],
          [
           0.9,
           "rgb(1,102,94)"
          ],
          [
           1,
           "rgb(0,60,48)"
          ]
         ],
         "locationmode": "country names",
         "locations": [
          "AFGHANISTAN TIS",
          "ALBANIA",
          "ALGERIA",
          "AMERI SAMOA",
          "ANDORRA",
          "ANGOLA",
          "ANGUILLA",
          "ANTARTICA",
          "ANTIGUA",
          "ARGENTINA",
          "ARMENIA",
          "ARUBA",
          "AUSTRALIA",
          "AUSTRIA",
          "AZERBAIJAN",
          "BAHAMAS",
          "BAHARAIN IS",
          "BANGLADESH PR",
          "BARBADOS",
          "BELARUS",
          "BELGIUM",
          "BELIZE",
          "BENIN",
          "BERMUDA",
          "BHUTAN",
          "BOLIVIA",
          "BOSNIA-HRZGOVIN",
          "BOTSWANA",
          "BR VIRGN IS",
          "BRAZIL",
          "BRUNEI",
          "BULGARIA",
          "BURKINA FASO",
          "BURUNDI",
          "C AFRI REP",
          "CAMBODIA",
          "CAMEROON",
          "CANADA",
          "CANARY IS",
          "CAPE VERDE IS",
          "CAYMAN IS",
          "CHAD",
          "CHANNEL IS",
          "CHILE",
          "CHINA P RP",
          "CHRISTMAS IS.",
          "COCOS IS",
          "COLOMBIA",
          "COMOROS",
          "CONGO D. REP.",
          "CONGO P REP",
          "COOK IS",
          "COSTA RICA",
          "COTE D' IVOIRE",
          "CROATIA",
          "CUBA",
          "CURACAO",
          "CYPRUS",
          "CZECH REPUBLIC",
          "DENMARK",
          "DJIBOUTI",
          "DOMINIC REP",
          "DOMINICA",
          "ECUADOR",
          "EGYPT A RP",
          "EL SALVADOR",
          "EQUTL GUINEA",
          "ERITREA",
          "ESTONIA",
          "ETHIOPIA",
          "FALKLAND IS",
          "FAROE IS.",
          "FIJI IS",
          "FINLAND",
          "FR GUIANA",
          "FR POLYNESIA",
          "FR S ANT TR",
          "FRANCE",
          "GABON",
          "GAMBIA",
          "GEORGIA",
          "GERMANY",
          "GHANA",
          "GIBRALTAR",
          "GREECE",
          "GREENLAND",
          "GRENADA",
          "GUADELOUPE",
          "GUAM",
          "GUATEMALA",
          "GUERNSEY",
          "GUINEA",
          "GUINEA BISSAU",
          "GUYANA",
          "HAITI",
          "HEARD MACDONALD",
          "HONDURAS",
          "HONG KONG",
          "HUNGARY",
          "ICELAND",
          "INDONESIA",
          "INSTALLATIONS IN INTERNATIONAL WATERS   ",
          "IRAN",
          "IRAQ",
          "IRELAND",
          "ISRAEL",
          "ITALY",
          "JAMAICA",
          "JAPAN",
          "JERSEY         ",
          "JORDAN",
          "KAZAKHSTAN",
          "KENYA",
          "KIRIBATI REP",
          "KOREA DP RP",
          "KOREA RP",
          "KUWAIT",
          "KYRGHYZSTAN",
          "LAO PD RP",
          "LATVIA",
          "LEBANON",
          "LESOTHO",
          "LIBERIA",
          "LIBYA",
          "LIECHTENSTEIN",
          "LITHUANIA",
          "LUXEMBOURG",
          "MACAO",
          "MACEDONIA",
          "MADAGASCAR",
          "MALAWI",
          "MALAYSIA",
          "MALDIVES",
          "MALI",
          "MALTA",
          "MARSHALL ISLAND",
          "MARTINIQUE",
          "MAURITANIA",
          "MAURITIUS",
          "MAYOTTE",
          "MEXICO",
          "MICRONESIA",
          "MOLDOVA",
          "MONACO",
          "MONGOLIA",
          "MONTENEGRO",
          "MONTSERRAT",
          "MOROCCO",
          "MOZAMBIQUE",
          "MYANMAR",
          "N. MARIANA IS.",
          "NAMIBIA",
          "NAURU RP",
          "NEPAL",
          "NETHERLAND",
          "NETHERLANDANTIL",
          "NEUTRAL ZONE",
          "NEW CALEDONIA",
          "NEW ZEALAND",
          "NICARAGUA",
          "NIGER",
          "NIGERIA",
          "NIUE IS",
          "NORFOLK IS",
          "NORWAY",
          "OMAN",
          "PACIFIC IS",
          "PAKISTAN IR",
          "PALAU",
          "PANAMA C Z",
          "PANAMA REPUBLIC",
          "PAPUA N GNA",
          "PARAGUAY",
          "PERU",
          "PHILIPPINES",
          "PITCAIRN IS.",
          "POLAND",
          "PORTUGAL",
          "PUERTO RICO",
          "QATAR",
          "REUNION",
          "ROMANIA",
          "RUSSIA",
          "RWANDA",
          "SAHARWI A.DM RP",
          "SAMOA",
          "SAN MARINO",
          "SAO TOME",
          "SAUDI ARAB",
          "SENEGAL",
          "SERBIA",
          "SEYCHELLES",
          "SIERRA LEONE",
          "SINGAPORE",
          "SINT MAARTEN (DUTCH PART)",
          "SLOVAK REP",
          "SLOVENIA",
          "SOLOMON IS",
          "SOMALIA",
          "SOUTH AFRICA",
          "SOUTH SUDAN ",
          "SPAIN",
          "SRI LANKA DSR",
          "ST HELENA",
          "ST KITT N A",
          "ST LUCIA",
          "ST PIERRE",
          "ST VINCENT",
          "STATE OF PALEST",
          "SUDAN",
          "SURINAME",
          "SWAZILAND",
          "SWEDEN",
          "SWITZERLAND",
          "SYRIA",
          "TAIWAN",
          "TAJIKISTAN",
          "TANZANIA REP",
          "THAILAND",
          "TIMOR LESTE",
          "TOGO",
          "TOKELAU IS",
          "TONGA",
          "TRINIDAD",
          "TUNISIA",
          "TURKEY",
          "TURKMENISTAN",
          "TURKS C IS",
          "TUVALU",
          "U ARAB EMTS",
          "UGANDA",
          "UK",
          "UKRAINE",
          "UNION OF SERBIA & MONTENEGRO",
          "UNSPECIFIED",
          "URUGUAY",
          "US MINOR OUTLYING ISLANDS               ",
          "USA",
          "UZBEKISTAN",
          "VANUATU REP",
          "VATICAN CITY",
          "VENEZUELA",
          "VIETNAM SOC REP",
          "VIRGIN IS US",
          "WALLIS F IS",
          "YEMEN REPUBLC",
          "ZAMBIA",
          "ZIMBABWE"
         ],
         "reversescale": true,
         "text": [
          "AFGHANISTAN TIS",
          "ALBANIA",
          "ALGERIA",
          "AMERI SAMOA",
          "ANDORRA",
          "ANGOLA",
          "ANGUILLA",
          "ANTARTICA",
          "ANTIGUA",
          "ARGENTINA",
          "ARMENIA",
          "ARUBA",
          "AUSTRALIA",
          "AUSTRIA",
          "AZERBAIJAN",
          "BAHAMAS",
          "BAHARAIN IS",
          "BANGLADESH PR",
          "BARBADOS",
          "BELARUS",
          "BELGIUM",
          "BELIZE",
          "BENIN",
          "BERMUDA",
          "BHUTAN",
          "BOLIVIA",
          "BOSNIA-HRZGOVIN",
          "BOTSWANA",
          "BR VIRGN IS",
          "BRAZIL",
          "BRUNEI",
          "BULGARIA",
          "BURKINA FASO",
          "BURUNDI",
          "C AFRI REP",
          "CAMBODIA",
          "CAMEROON",
          "CANADA",
          "CANARY IS",
          "CAPE VERDE IS",
          "CAYMAN IS",
          "CHAD",
          "CHANNEL IS",
          "CHILE",
          "CHINA P RP",
          "CHRISTMAS IS.",
          "COCOS IS",
          "COLOMBIA",
          "COMOROS",
          "CONGO D. REP.",
          "CONGO P REP",
          "COOK IS",
          "COSTA RICA",
          "COTE D' IVOIRE",
          "CROATIA",
          "CUBA",
          "CURACAO",
          "CYPRUS",
          "CZECH REPUBLIC",
          "DENMARK",
          "DJIBOUTI",
          "DOMINIC REP",
          "DOMINICA",
          "ECUADOR",
          "EGYPT A RP",
          "EL SALVADOR",
          "EQUTL GUINEA",
          "ERITREA",
          "ESTONIA",
          "ETHIOPIA",
          "FALKLAND IS",
          "FAROE IS.",
          "FIJI IS",
          "FINLAND",
          "FR GUIANA",
          "FR POLYNESIA",
          "FR S ANT TR",
          "FRANCE",
          "GABON",
          "GAMBIA",
          "GEORGIA",
          "GERMANY",
          "GHANA",
          "GIBRALTAR",
          "GREECE",
          "GREENLAND",
          "GRENADA",
          "GUADELOUPE",
          "GUAM",
          "GUATEMALA",
          "GUERNSEY",
          "GUINEA",
          "GUINEA BISSAU",
          "GUYANA",
          "HAITI",
          "HEARD MACDONALD",
          "HONDURAS",
          "HONG KONG",
          "HUNGARY",
          "ICELAND",
          "INDONESIA",
          "INSTALLATIONS IN INTERNATIONAL WATERS   ",
          "IRAN",
          "IRAQ",
          "IRELAND",
          "ISRAEL",
          "ITALY",
          "JAMAICA",
          "JAPAN",
          "JERSEY         ",
          "JORDAN",
          "KAZAKHSTAN",
          "KENYA",
          "KIRIBATI REP",
          "KOREA DP RP",
          "KOREA RP",
          "KUWAIT",
          "KYRGHYZSTAN",
          "LAO PD RP",
          "LATVIA",
          "LEBANON",
          "LESOTHO",
          "LIBERIA",
          "LIBYA",
          "LIECHTENSTEIN",
          "LITHUANIA",
          "LUXEMBOURG",
          "MACAO",
          "MACEDONIA",
          "MADAGASCAR",
          "MALAWI",
          "MALAYSIA",
          "MALDIVES",
          "MALI",
          "MALTA",
          "MARSHALL ISLAND",
          "MARTINIQUE",
          "MAURITANIA",
          "MAURITIUS",
          "MAYOTTE",
          "MEXICO",
          "MICRONESIA",
          "MOLDOVA",
          "MONACO",
          "MONGOLIA",
          "MONTENEGRO",
          "MONTSERRAT",
          "MOROCCO",
          "MOZAMBIQUE",
          "MYANMAR",
          "N. MARIANA IS.",
          "NAMIBIA",
          "NAURU RP",
          "NEPAL",
          "NETHERLAND",
          "NETHERLANDANTIL",
          "NEUTRAL ZONE",
          "NEW CALEDONIA",
          "NEW ZEALAND",
          "NICARAGUA",
          "NIGER",
          "NIGERIA",
          "NIUE IS",
          "NORFOLK IS",
          "NORWAY",
          "OMAN",
          "PACIFIC IS",
          "PAKISTAN IR",
          "PALAU",
          "PANAMA C Z",
          "PANAMA REPUBLIC",
          "PAPUA N GNA",
          "PARAGUAY",
          "PERU",
          "PHILIPPINES",
          "PITCAIRN IS.",
          "POLAND",
          "PORTUGAL",
          "PUERTO RICO",
          "QATAR",
          "REUNION",
          "ROMANIA",
          "RUSSIA",
          "RWANDA",
          "SAHARWI A.DM RP",
          "SAMOA",
          "SAN MARINO",
          "SAO TOME",
          "SAUDI ARAB",
          "SENEGAL",
          "SERBIA",
          "SEYCHELLES",
          "SIERRA LEONE",
          "SINGAPORE",
          "SINT MAARTEN (DUTCH PART)",
          "SLOVAK REP",
          "SLOVENIA",
          "SOLOMON IS",
          "SOMALIA",
          "SOUTH AFRICA",
          "SOUTH SUDAN ",
          "SPAIN",
          "SRI LANKA DSR",
          "ST HELENA",
          "ST KITT N A",
          "ST LUCIA",
          "ST PIERRE",
          "ST VINCENT",
          "STATE OF PALEST",
          "SUDAN",
          "SURINAME",
          "SWAZILAND",
          "SWEDEN",
          "SWITZERLAND",
          "SYRIA",
          "TAIWAN",
          "TAJIKISTAN",
          "TANZANIA REP",
          "THAILAND",
          "TIMOR LESTE",
          "TOGO",
          "TOKELAU IS",
          "TONGA",
          "TRINIDAD",
          "TUNISIA",
          "TURKEY",
          "TURKMENISTAN",
          "TURKS C IS",
          "TUVALU",
          "U ARAB EMTS",
          "UGANDA",
          "UK",
          "UKRAINE",
          "UNION OF SERBIA & MONTENEGRO",
          "UNSPECIFIED",
          "URUGUAY",
          "US MINOR OUTLYING ISLANDS               ",
          "USA",
          "UZBEKISTAN",
          "VANUATU REP",
          "VATICAN CITY",
          "VENEZUELA",
          "VIETNAM SOC REP",
          "VIRGIN IS US",
          "WALLIS F IS",
          "YEMEN REPUBLC",
          "ZAMBIA",
          "ZIMBABWE"
         ],
         "type": "choropleth",
         "z": [
          5903.284945806304,
          2180.7502832864025,
          9332.199287473977,
          1146.4949458062974,
          1451.3245541324895,
          4938.945408301704,
          1791.2998207909945,
          496.62007082160085,
          1720.5785041263678,
          5842.815799975515,
          2466.759429117189,
          2417.4712082772244,
          25587.96829166156,
          4621.210141643206,
          2480.168966621779,
          9863.899037443382,
          5835.149216652397,
          55709.886120827745,
          1895.0676499571466,
          2219.0663332925224,
          54572.99921665228,
          2694.446012440321,
          5605.4927749724575,
          1919.4989666217766,
          4825.127579135547,
          1836.3940916370784,
          2353.4242332802833,
          2203.12369996327,
          2345.0255499449086,
          40221.0644833109,
          2905.5806749602098,
          2899.0132374678747,
          2517.385870797118,
          2011.756333292522,
          2525.286866609538,
          2572.5845541324907,
          3255.34238329865,
          19330.621779160032,
          194.2804624954089,
          1587.6215291294277,
          1990.672454120247,
          2236.9867957879333,
          129.50697499693928,
          6918.10316664626,
          122323.62789998768,
          303.1996083261917,
          217.4182916615655,
          9024.587508313965,
          2466.0377207787546,
          3020.871066634026,
          3247.874554132494,
          756.0740208154792,
          2257.24757913555,
          4817.762845794054,
          2385.122774972454,
          2392.533770784871,
          43.14565833231309,
          1798.576262470919,
          4395.425799975519,
          7631.271458307838,
          4848.664554132492,
          2603.226262470923,
          2543.1460124403184,
          3462.1488958001814,
          23283.408362483136,
          1836.5975791355468,
          2139.158112452559,
          2201.9815999510292,
          2223.7480416309586,
          7267.352774972457,
          173.95263332925236,
          704.5005333170097,
          1472.4636291416664,
          3809.747116640141,
          1793.0906749602098,
          1744.248504126367,
          129.4969749969393,
          45307.59224165537,
          2419.8981124525635,
          2379.2228457940555,
          2302.4845541324885,
          69071.12829166159,
          7435.894945806313,
          6454.184624954074,
          4666.983166646268,
          551.7157291539139,
          2367.713379111066,
          2095.313770784871,
          1992.0602832864029,
          3422.57323746787,
          64.73348749846964,
          3782.1745541324976,
          2636.026012440319,
          1952.1941624586784,
          2629.90811245256,
          173.13263332925234,
          2521.563237467864,
          116361.95270415094,
          4321.782774972464,
          2304.7137707848733,
          42644.9000708216,
          143.11782916615655,
          29781.773629141648,
          11127.679749969402,
          5711.3367249663315,
          31264.915729153894,
          45089.490070821594,
          1766.7667249663311,
          48361.34572915389,
          21.567829166156546,
          8445.412312477047,
          3351.8193582955896,
          25796.329608326207,
          1753.0041624586806,
          3183.8367957879373,
          38540.64789998767,
          12103.859608326225,
          2692.976866609541,
          2243.1546249540893,
          2284.9232374678645,
          3004.969679147796,
          2236.740283286404,
          3151.276333292533,
          2976.1493582955877,
          1389.1210666340194,
          1980.790141643199,
          1735.7571874617395,
          3282.832204089648,
          1841.566333292523,
          3064.522383298652,
          3447.7033082894723,
          43528.67480416315,
          2132.788362483168,
          2895.9546249540927,
          5145.401991624848,
          1585.0523832986457,
          2441.3990374433783,
          2222.482845794053,
          11289.84533748011,
          110.87914583078273,
          23852.318824978567,
          1189.1706041386108,
          2424.203379111066,
          1843.7254791233067,
          1889.4563332925218,
          1325.8292874739839,
          2504.718183274162,
          4627.552312477045,
          10878.830604138631,
          8226.168824978577,
          777.601849981636,
          2662.6511374556267,
          953.8744833108885,
          39948.10131666457,
          66861.55177916006,
          2130.456333292522,
          345.2452666585048,
          2296.8129166156555,
          3490.1596791478005,
          1992.9967249663325,
          2931.938574947971,
          22716.741387486236,
          151.0648041630958,
          1104.0192874739844,
          3972.0319208032456,
          20187.030924990835,
          164.5169749969393,
          18450.25053331701,
          669.1427041508532,
          864.953166646262,
          3632.7528457940625,
          1688.055408301704,
          2621.0706749602114,
          7062.0871166401475,
          12837.000533317016,
          280.84177916003506,
          10466.237508313949,
          6455.813166646258,
          2454.2236999632737,
          9266.749216652403,
          1642.5962624709225,
          4317.7397499694,
          18827.887508313957,
          2506.780674960213,
          560.9535583200704,
          1746.8463332925226,
          475.3122416554441,
          1410.8688958001749,
          66297.93960832617,
          5903.305408301699,
          1139.6753374801049,
          2042.4928457940534,
          2557.082845794056,
          101916.94612082772,
          21.577829166156548,
          2658.321529129434,
          3898.4650166279025,
          1874.703308289462,
          4278.797579135556,
          39409.97394999385,
          340.82743749234817,
          29645.90526665851,
          41796.77177916006,
          798.6796791477927,
          2193.2007457818136,
          2720.098645769573,
          323.6574374923482,
          2206.4485749479686,
          87.75131666462619,
          8166.250604138619,
          1688.9358707971112,
          2959.0194999387927,
          7322.884020815484,
          10919.976654144775,
          3764.870212464808,
          21881.54487498475,
          2557.6098916126007,
          18598.05836248315,
          30825.752241655453,
          2279.1885041263677,
          5494.933699963268,
          338.7474374923481,
          1367.7432374678626,
          1579.7661916493212,
          3985.2458707971227,
          39857.02007082156,
          2839.2477207787524,
          1577.8815291294286,
          518.0478999877573,
          289374.8799999995,
          5250.809679147807,
          80115.15263332923,
          4701.653629141671,
          2546.9012082772265,
          64804.893841606456,
          2734.71757913555,
          650.1648749846964,
          360738.9769749976,
          2865.0419916248443,
          1984.0824541202458,
          172.8926333292524,
          3362.9476499571524,
          48840.71658332307,
          1817.1141624586812,
          453.31441248928763,
          8400.276262470928,
          3434.282312477049,
          2859.8367249663397
         ]
        }
       ],
       "layout": {
        "template": {
         "data": {
          "bar": [
           {
            "error_x": {
             "color": "#2a3f5f"
            },
            "error_y": {
             "color": "#2a3f5f"
            },
            "marker": {
             "line": {
              "color": "#E5ECF6",
              "width": 0.5
             }
            },
            "type": "bar"
           }
          ],
          "barpolar": [
           {
            "marker": {
             "line": {
              "color": "#E5ECF6",
              "width": 0.5
             }
            },
            "type": "barpolar"
           }
          ],
          "carpet": [
           {
            "aaxis": {
             "endlinecolor": "#2a3f5f",
             "gridcolor": "white",
             "linecolor": "white",
             "minorgridcolor": "white",
             "startlinecolor": "#2a3f5f"
            },
            "baxis": {
             "endlinecolor": "#2a3f5f",
             "gridcolor": "white",
             "linecolor": "white",
             "minorgridcolor": "white",
             "startlinecolor": "#2a3f5f"
            },
            "type": "carpet"
           }
          ],
          "choropleth": [
           {
            "colorbar": {
             "outlinewidth": 0,
             "ticks": ""
            },
            "type": "choropleth"
           }
          ],
          "contour": [
           {
            "colorbar": {
             "outlinewidth": 0,
             "ticks": ""
            },
            "colorscale": [
             [
              0,
              "#0d0887"
             ],
             [
              0.1111111111111111,
              "#46039f"
             ],
             [
              0.2222222222222222,
              "#7201a8"
             ],
             [
              0.3333333333333333,
              "#9c179e"
             ],
             [
              0.4444444444444444,
              "#bd3786"
             ],
             [
              0.5555555555555556,
              "#d8576b"
             ],
             [
              0.6666666666666666,
              "#ed7953"
             ],
             [
              0.7777777777777778,
              "#fb9f3a"
             ],
             [
              0.8888888888888888,
              "#fdca26"
             ],
             [
              1,
              "#f0f921"
             ]
            ],
            "type": "contour"
           }
          ],
          "contourcarpet": [
           {
            "colorbar": {
             "outlinewidth": 0,
             "ticks": ""
            },
            "type": "contourcarpet"
           }
          ],
          "heatmap": [
           {
            "colorbar": {
             "outlinewidth": 0,
             "ticks": ""
            },
            "colorscale": [
             [
              0,
              "#0d0887"
             ],
             [
              0.1111111111111111,
              "#46039f"
             ],
             [
              0.2222222222222222,
              "#7201a8"
             ],
             [
              0.3333333333333333,
              "#9c179e"
             ],
             [
              0.4444444444444444,
              "#bd3786"
             ],
             [
              0.5555555555555556,
              "#d8576b"
             ],
             [
              0.6666666666666666,
              "#ed7953"
             ],
             [
              0.7777777777777778,
              "#fb9f3a"
             ],
             [
              0.8888888888888888,
              "#fdca26"
             ],
             [
              1,
              "#f0f921"
             ]
            ],
            "type": "heatmap"
           }
          ],
          "heatmapgl": [
           {
            "colorbar": {
             "outlinewidth": 0,
             "ticks": ""
            },
            "colorscale": [
             [
              0,
              "#0d0887"
             ],
             [
              0.1111111111111111,
              "#46039f"
             ],
             [
              0.2222222222222222,
              "#7201a8"
             ],
             [
              0.3333333333333333,
              "#9c179e"
             ],
             [
              0.4444444444444444,
              "#bd3786"
             ],
             [
              0.5555555555555556,
              "#d8576b"
             ],
             [
              0.6666666666666666,
              "#ed7953"
             ],
             [
              0.7777777777777778,
              "#fb9f3a"
             ],
             [
              0.8888888888888888,
              "#fdca26"
             ],
             [
              1,
              "#f0f921"
             ]
            ],
            "type": "heatmapgl"
           }
          ],
          "histogram": [
           {
            "marker": {
             "colorbar": {
              "outlinewidth": 0,
              "ticks": ""
             }
            },
            "type": "histogram"
           }
          ],
          "histogram2d": [
           {
            "colorbar": {
             "outlinewidth": 0,
             "ticks": ""
            },
            "colorscale": [
             [
              0,
              "#0d0887"
             ],
             [
              0.1111111111111111,
              "#46039f"
             ],
             [
              0.2222222222222222,
              "#7201a8"
             ],
             [
              0.3333333333333333,
              "#9c179e"
             ],
             [
              0.4444444444444444,
              "#bd3786"
             ],
             [
              0.5555555555555556,
              "#d8576b"
             ],
             [
              0.6666666666666666,
              "#ed7953"
             ],
             [
              0.7777777777777778,
              "#fb9f3a"
             ],
             [
              0.8888888888888888,
              "#fdca26"
             ],
             [
              1,
              "#f0f921"
             ]
            ],
            "type": "histogram2d"
           }
          ],
          "histogram2dcontour": [
           {
            "colorbar": {
             "outlinewidth": 0,
             "ticks": ""
            },
            "colorscale": [
             [
              0,
              "#0d0887"
             ],
             [
              0.1111111111111111,
              "#46039f"
             ],
             [
              0.2222222222222222,
              "#7201a8"
             ],
             [
              0.3333333333333333,
              "#9c179e"
             ],
             [
              0.4444444444444444,
              "#bd3786"
             ],
             [
              0.5555555555555556,
              "#d8576b"
             ],
             [
              0.6666666666666666,
              "#ed7953"
             ],
             [
              0.7777777777777778,
              "#fb9f3a"
             ],
             [
              0.8888888888888888,
              "#fdca26"
             ],
             [
              1,
              "#f0f921"
             ]
            ],
            "type": "histogram2dcontour"
           }
          ],
          "mesh3d": [
           {
            "colorbar": {
             "outlinewidth": 0,
             "ticks": ""
            },
            "type": "mesh3d"
           }
          ],
          "parcoords": [
           {
            "line": {
             "colorbar": {
              "outlinewidth": 0,
              "ticks": ""
             }
            },
            "type": "parcoords"
           }
          ],
          "pie": [
           {
            "automargin": true,
            "type": "pie"
           }
          ],
          "scatter": [
           {
            "marker": {
             "colorbar": {
              "outlinewidth": 0,
              "ticks": ""
             }
            },
            "type": "scatter"
           }
          ],
          "scatter3d": [
           {
            "line": {
             "colorbar": {
              "outlinewidth": 0,
              "ticks": ""
             }
            },
            "marker": {
             "colorbar": {
              "outlinewidth": 0,
              "ticks": ""
             }
            },
            "type": "scatter3d"
           }
          ],
          "scattercarpet": [
           {
            "marker": {
             "colorbar": {
              "outlinewidth": 0,
              "ticks": ""
             }
            },
            "type": "scattercarpet"
           }
          ],
          "scattergeo": [
           {
            "marker": {
             "colorbar": {
              "outlinewidth": 0,
              "ticks": ""
             }
            },
            "type": "scattergeo"
           }
          ],
          "scattergl": [
           {
            "marker": {
             "colorbar": {
              "outlinewidth": 0,
              "ticks": ""
             }
            },
            "type": "scattergl"
           }
          ],
          "scattermapbox": [
           {
            "marker": {
             "colorbar": {
              "outlinewidth": 0,
              "ticks": ""
             }
            },
            "type": "scattermapbox"
           }
          ],
          "scatterpolar": [
           {
            "marker": {
             "colorbar": {
              "outlinewidth": 0,
              "ticks": ""
             }
            },
            "type": "scatterpolar"
           }
          ],
          "scatterpolargl": [
           {
            "marker": {
             "colorbar": {
              "outlinewidth": 0,
              "ticks": ""
             }
            },
            "type": "scatterpolargl"
           }
          ],
          "scatterternary": [
           {
            "marker": {
             "colorbar": {
              "outlinewidth": 0,
              "ticks": ""
             }
            },
            "type": "scatterternary"
           }
          ],
          "surface": [
           {
            "colorbar": {
             "outlinewidth": 0,
             "ticks": ""
            },
            "colorscale": [
             [
              0,
              "#0d0887"
             ],
             [
              0.1111111111111111,
              "#46039f"
             ],
             [
              0.2222222222222222,
              "#7201a8"
             ],
             [
              0.3333333333333333,
              "#9c179e"
             ],
             [
              0.4444444444444444,
              "#bd3786"
             ],
             [
              0.5555555555555556,
              "#d8576b"
             ],
             [
              0.6666666666666666,
              "#ed7953"
             ],
             [
              0.7777777777777778,
              "#fb9f3a"
             ],
             [
              0.8888888888888888,
              "#fdca26"
             ],
             [
              1,
              "#f0f921"
             ]
            ],
            "type": "surface"
           }
          ],
          "table": [
           {
            "cells": {
             "fill": {
              "color": "#EBF0F8"
             },
             "line": {
              "color": "white"
             }
            },
            "header": {
             "fill": {
              "color": "#C8D4E3"
             },
             "line": {
              "color": "white"
             }
            },
            "type": "table"
           }
          ]
         },
         "layout": {
          "annotationdefaults": {
           "arrowcolor": "#2a3f5f",
           "arrowhead": 0,
           "arrowwidth": 1
          },
          "coloraxis": {
           "colorbar": {
            "outlinewidth": 0,
            "ticks": ""
           }
          },
          "colorscale": {
           "diverging": [
            [
             0,
             "#8e0152"
            ],
            [
             0.1,
             "#c51b7d"
            ],
            [
             0.2,
             "#de77ae"
            ],
            [
             0.3,
             "#f1b6da"
            ],
            [
             0.4,
             "#fde0ef"
            ],
            [
             0.5,
             "#f7f7f7"
            ],
            [
             0.6,
             "#e6f5d0"
            ],
            [
             0.7,
             "#b8e186"
            ],
            [
             0.8,
             "#7fbc41"
            ],
            [
             0.9,
             "#4d9221"
            ],
            [
             1,
             "#276419"
            ]
           ],
           "sequential": [
            [
             0,
             "#0d0887"
            ],
            [
             0.1111111111111111,
             "#46039f"
            ],
            [
             0.2222222222222222,
             "#7201a8"
            ],
            [
             0.3333333333333333,
             "#9c179e"
            ],
            [
             0.4444444444444444,
             "#bd3786"
            ],
            [
             0.5555555555555556,
             "#d8576b"
            ],
            [
             0.6666666666666666,
             "#ed7953"
            ],
            [
             0.7777777777777778,
             "#fb9f3a"
            ],
            [
             0.8888888888888888,
             "#fdca26"
            ],
            [
             1,
             "#f0f921"
            ]
           ],
           "sequentialminus": [
            [
             0,
             "#0d0887"
            ],
            [
             0.1111111111111111,
             "#46039f"
            ],
            [
             0.2222222222222222,
             "#7201a8"
            ],
            [
             0.3333333333333333,
             "#9c179e"
            ],
            [
             0.4444444444444444,
             "#bd3786"
            ],
            [
             0.5555555555555556,
             "#d8576b"
            ],
            [
             0.6666666666666666,
             "#ed7953"
            ],
            [
             0.7777777777777778,
             "#fb9f3a"
            ],
            [
             0.8888888888888888,
             "#fdca26"
            ],
            [
             1,
             "#f0f921"
            ]
           ]
          },
          "colorway": [
           "#636efa",
           "#EF553B",
           "#00cc96",
           "#ab63fa",
           "#FFA15A",
           "#19d3f3",
           "#FF6692",
           "#B6E880",
           "#FF97FF",
           "#FECB52"
          ],
          "font": {
           "color": "#2a3f5f"
          },
          "geo": {
           "bgcolor": "white",
           "lakecolor": "white",
           "landcolor": "#E5ECF6",
           "showlakes": true,
           "showland": true,
           "subunitcolor": "white"
          },
          "hoverlabel": {
           "align": "left"
          },
          "hovermode": "closest",
          "mapbox": {
           "style": "light"
          },
          "paper_bgcolor": "white",
          "plot_bgcolor": "#E5ECF6",
          "polar": {
           "angularaxis": {
            "gridcolor": "white",
            "linecolor": "white",
            "ticks": ""
           },
           "bgcolor": "#E5ECF6",
           "radialaxis": {
            "gridcolor": "white",
            "linecolor": "white",
            "ticks": ""
           }
          },
          "scene": {
           "xaxis": {
            "backgroundcolor": "#E5ECF6",
            "gridcolor": "white",
            "gridwidth": 2,
            "linecolor": "white",
            "showbackground": true,
            "ticks": "",
            "zerolinecolor": "white"
           },
           "yaxis": {
            "backgroundcolor": "#E5ECF6",
            "gridcolor": "white",
            "gridwidth": 2,
            "linecolor": "white",
            "showbackground": true,
            "ticks": "",
            "zerolinecolor": "white"
           },
           "zaxis": {
            "backgroundcolor": "#E5ECF6",
            "gridcolor": "white",
            "gridwidth": 2,
            "linecolor": "white",
            "showbackground": true,
            "ticks": "",
            "zerolinecolor": "white"
           }
          },
          "shapedefaults": {
           "line": {
            "color": "#2a3f5f"
           }
          },
          "ternary": {
           "aaxis": {
            "gridcolor": "white",
            "linecolor": "white",
            "ticks": ""
           },
           "baxis": {
            "gridcolor": "white",
            "linecolor": "white",
            "ticks": ""
           },
           "bgcolor": "#E5ECF6",
           "caxis": {
            "gridcolor": "white",
            "linecolor": "white",
            "ticks": ""
           }
          },
          "title": {
           "x": 0.05
          },
          "xaxis": {
           "automargin": true,
           "gridcolor": "white",
           "linecolor": "white",
           "ticks": "",
           "title": {
            "standoff": 15
           },
           "zerolinecolor": "white",
           "zerolinewidth": 2
          },
          "yaxis": {
           "automargin": true,
           "gridcolor": "white",
           "linecolor": "white",
           "ticks": "",
           "title": {
            "standoff": 15
           },
           "zerolinecolor": "white",
           "zerolinewidth": 2
          }
         }
        },
        "title": {
         "text": "India Export to Other Country"
        }
       }
      },
      "text/html": [
       "<div>\n",
       "        \n",
       "        \n",
       "            <div id=\"803fa236-bee5-4697-9876-12df106ef553\" class=\"plotly-graph-div\" style=\"height:525px; width:100%;\"></div>\n",
       "            <script type=\"text/javascript\">\n",
       "                require([\"plotly\"], function(Plotly) {\n",
       "                    window.PLOTLYENV=window.PLOTLYENV || {};\n",
       "                    \n",
       "                if (document.getElementById(\"803fa236-bee5-4697-9876-12df106ef553\")) {\n",
       "                    Plotly.newPlot(\n",
       "                        '803fa236-bee5-4697-9876-12df106ef553',\n",
       "                        [{\"colorscale\": [[0.0, \"rgb(84,48,5)\"], [0.1, \"rgb(140,81,10)\"], [0.2, \"rgb(191,129,45)\"], [0.3, \"rgb(223,194,125)\"], [0.4, \"rgb(246,232,195)\"], [0.5, \"rgb(245,245,245)\"], [0.6, \"rgb(199,234,229)\"], [0.7, \"rgb(128,205,193)\"], [0.8, \"rgb(53,151,143)\"], [0.9, \"rgb(1,102,94)\"], [1.0, \"rgb(0,60,48)\"]], \"locationmode\": \"country names\", \"locations\": [\"AFGHANISTAN TIS\", \"ALBANIA\", \"ALGERIA\", \"AMERI SAMOA\", \"ANDORRA\", \"ANGOLA\", \"ANGUILLA\", \"ANTARTICA\", \"ANTIGUA\", \"ARGENTINA\", \"ARMENIA\", \"ARUBA\", \"AUSTRALIA\", \"AUSTRIA\", \"AZERBAIJAN\", \"BAHAMAS\", \"BAHARAIN IS\", \"BANGLADESH PR\", \"BARBADOS\", \"BELARUS\", \"BELGIUM\", \"BELIZE\", \"BENIN\", \"BERMUDA\", \"BHUTAN\", \"BOLIVIA\", \"BOSNIA-HRZGOVIN\", \"BOTSWANA\", \"BR VIRGN IS\", \"BRAZIL\", \"BRUNEI\", \"BULGARIA\", \"BURKINA FASO\", \"BURUNDI\", \"C AFRI REP\", \"CAMBODIA\", \"CAMEROON\", \"CANADA\", \"CANARY IS\", \"CAPE VERDE IS\", \"CAYMAN IS\", \"CHAD\", \"CHANNEL IS\", \"CHILE\", \"CHINA P RP\", \"CHRISTMAS IS.\", \"COCOS IS\", \"COLOMBIA\", \"COMOROS\", \"CONGO D. REP.\", \"CONGO P REP\", \"COOK IS\", \"COSTA RICA\", \"COTE D' IVOIRE\", \"CROATIA\", \"CUBA\", \"CURACAO\", \"CYPRUS\", \"CZECH REPUBLIC\", \"DENMARK\", \"DJIBOUTI\", \"DOMINIC REP\", \"DOMINICA\", \"ECUADOR\", \"EGYPT A RP\", \"EL SALVADOR\", \"EQUTL GUINEA\", \"ERITREA\", \"ESTONIA\", \"ETHIOPIA\", \"FALKLAND IS\", \"FAROE IS.\", \"FIJI IS\", \"FINLAND\", \"FR GUIANA\", \"FR POLYNESIA\", \"FR S ANT TR\", \"FRANCE\", \"GABON\", \"GAMBIA\", \"GEORGIA\", \"GERMANY\", \"GHANA\", \"GIBRALTAR\", \"GREECE\", \"GREENLAND\", \"GRENADA\", \"GUADELOUPE\", \"GUAM\", \"GUATEMALA\", \"GUERNSEY\", \"GUINEA\", \"GUINEA BISSAU\", \"GUYANA\", \"HAITI\", \"HEARD MACDONALD\", \"HONDURAS\", \"HONG KONG\", \"HUNGARY\", \"ICELAND\", \"INDONESIA\", \"INSTALLATIONS IN INTERNATIONAL WATERS   \", \"IRAN\", \"IRAQ\", \"IRELAND\", \"ISRAEL\", \"ITALY\", \"JAMAICA\", \"JAPAN\", \"JERSEY         \", \"JORDAN\", \"KAZAKHSTAN\", \"KENYA\", \"KIRIBATI REP\", \"KOREA DP RP\", \"KOREA RP\", \"KUWAIT\", \"KYRGHYZSTAN\", \"LAO PD RP\", \"LATVIA\", \"LEBANON\", \"LESOTHO\", \"LIBERIA\", \"LIBYA\", \"LIECHTENSTEIN\", \"LITHUANIA\", \"LUXEMBOURG\", \"MACAO\", \"MACEDONIA\", \"MADAGASCAR\", \"MALAWI\", \"MALAYSIA\", \"MALDIVES\", \"MALI\", \"MALTA\", \"MARSHALL ISLAND\", \"MARTINIQUE\", \"MAURITANIA\", \"MAURITIUS\", \"MAYOTTE\", \"MEXICO\", \"MICRONESIA\", \"MOLDOVA\", \"MONACO\", \"MONGOLIA\", \"MONTENEGRO\", \"MONTSERRAT\", \"MOROCCO\", \"MOZAMBIQUE\", \"MYANMAR\", \"N. MARIANA IS.\", \"NAMIBIA\", \"NAURU RP\", \"NEPAL\", \"NETHERLAND\", \"NETHERLANDANTIL\", \"NEUTRAL ZONE\", \"NEW CALEDONIA\", \"NEW ZEALAND\", \"NICARAGUA\", \"NIGER\", \"NIGERIA\", \"NIUE IS\", \"NORFOLK IS\", \"NORWAY\", \"OMAN\", \"PACIFIC IS\", \"PAKISTAN IR\", \"PALAU\", \"PANAMA C Z\", \"PANAMA REPUBLIC\", \"PAPUA N GNA\", \"PARAGUAY\", \"PERU\", \"PHILIPPINES\", \"PITCAIRN IS.\", \"POLAND\", \"PORTUGAL\", \"PUERTO RICO\", \"QATAR\", \"REUNION\", \"ROMANIA\", \"RUSSIA\", \"RWANDA\", \"SAHARWI A.DM RP\", \"SAMOA\", \"SAN MARINO\", \"SAO TOME\", \"SAUDI ARAB\", \"SENEGAL\", \"SERBIA\", \"SEYCHELLES\", \"SIERRA LEONE\", \"SINGAPORE\", \"SINT MAARTEN (DUTCH PART)\", \"SLOVAK REP\", \"SLOVENIA\", \"SOLOMON IS\", \"SOMALIA\", \"SOUTH AFRICA\", \"SOUTH SUDAN \", \"SPAIN\", \"SRI LANKA DSR\", \"ST HELENA\", \"ST KITT N A\", \"ST LUCIA\", \"ST PIERRE\", \"ST VINCENT\", \"STATE OF PALEST\", \"SUDAN\", \"SURINAME\", \"SWAZILAND\", \"SWEDEN\", \"SWITZERLAND\", \"SYRIA\", \"TAIWAN\", \"TAJIKISTAN\", \"TANZANIA REP\", \"THAILAND\", \"TIMOR LESTE\", \"TOGO\", \"TOKELAU IS\", \"TONGA\", \"TRINIDAD\", \"TUNISIA\", \"TURKEY\", \"TURKMENISTAN\", \"TURKS C IS\", \"TUVALU\", \"U ARAB EMTS\", \"UGANDA\", \"UK\", \"UKRAINE\", \"UNION OF SERBIA & MONTENEGRO\", \"UNSPECIFIED\", \"URUGUAY\", \"US MINOR OUTLYING ISLANDS               \", \"USA\", \"UZBEKISTAN\", \"VANUATU REP\", \"VATICAN CITY\", \"VENEZUELA\", \"VIETNAM SOC REP\", \"VIRGIN IS US\", \"WALLIS F IS\", \"YEMEN REPUBLC\", \"ZAMBIA\", \"ZIMBABWE\"], \"reversescale\": true, \"text\": [\"AFGHANISTAN TIS\", \"ALBANIA\", \"ALGERIA\", \"AMERI SAMOA\", \"ANDORRA\", \"ANGOLA\", \"ANGUILLA\", \"ANTARTICA\", \"ANTIGUA\", \"ARGENTINA\", \"ARMENIA\", \"ARUBA\", \"AUSTRALIA\", \"AUSTRIA\", \"AZERBAIJAN\", \"BAHAMAS\", \"BAHARAIN IS\", \"BANGLADESH PR\", \"BARBADOS\", \"BELARUS\", \"BELGIUM\", \"BELIZE\", \"BENIN\", \"BERMUDA\", \"BHUTAN\", \"BOLIVIA\", \"BOSNIA-HRZGOVIN\", \"BOTSWANA\", \"BR VIRGN IS\", \"BRAZIL\", \"BRUNEI\", \"BULGARIA\", \"BURKINA FASO\", \"BURUNDI\", \"C AFRI REP\", \"CAMBODIA\", \"CAMEROON\", \"CANADA\", \"CANARY IS\", \"CAPE VERDE IS\", \"CAYMAN IS\", \"CHAD\", \"CHANNEL IS\", \"CHILE\", \"CHINA P RP\", \"CHRISTMAS IS.\", \"COCOS IS\", \"COLOMBIA\", \"COMOROS\", \"CONGO D. REP.\", \"CONGO P REP\", \"COOK IS\", \"COSTA RICA\", \"COTE D' IVOIRE\", \"CROATIA\", \"CUBA\", \"CURACAO\", \"CYPRUS\", \"CZECH REPUBLIC\", \"DENMARK\", \"DJIBOUTI\", \"DOMINIC REP\", \"DOMINICA\", \"ECUADOR\", \"EGYPT A RP\", \"EL SALVADOR\", \"EQUTL GUINEA\", \"ERITREA\", \"ESTONIA\", \"ETHIOPIA\", \"FALKLAND IS\", \"FAROE IS.\", \"FIJI IS\", \"FINLAND\", \"FR GUIANA\", \"FR POLYNESIA\", \"FR S ANT TR\", \"FRANCE\", \"GABON\", \"GAMBIA\", \"GEORGIA\", \"GERMANY\", \"GHANA\", \"GIBRALTAR\", \"GREECE\", \"GREENLAND\", \"GRENADA\", \"GUADELOUPE\", \"GUAM\", \"GUATEMALA\", \"GUERNSEY\", \"GUINEA\", \"GUINEA BISSAU\", \"GUYANA\", \"HAITI\", \"HEARD MACDONALD\", \"HONDURAS\", \"HONG KONG\", \"HUNGARY\", \"ICELAND\", \"INDONESIA\", \"INSTALLATIONS IN INTERNATIONAL WATERS   \", \"IRAN\", \"IRAQ\", \"IRELAND\", \"ISRAEL\", \"ITALY\", \"JAMAICA\", \"JAPAN\", \"JERSEY         \", \"JORDAN\", \"KAZAKHSTAN\", \"KENYA\", \"KIRIBATI REP\", \"KOREA DP RP\", \"KOREA RP\", \"KUWAIT\", \"KYRGHYZSTAN\", \"LAO PD RP\", \"LATVIA\", \"LEBANON\", \"LESOTHO\", \"LIBERIA\", \"LIBYA\", \"LIECHTENSTEIN\", \"LITHUANIA\", \"LUXEMBOURG\", \"MACAO\", \"MACEDONIA\", \"MADAGASCAR\", \"MALAWI\", \"MALAYSIA\", \"MALDIVES\", \"MALI\", \"MALTA\", \"MARSHALL ISLAND\", \"MARTINIQUE\", \"MAURITANIA\", \"MAURITIUS\", \"MAYOTTE\", \"MEXICO\", \"MICRONESIA\", \"MOLDOVA\", \"MONACO\", \"MONGOLIA\", \"MONTENEGRO\", \"MONTSERRAT\", \"MOROCCO\", \"MOZAMBIQUE\", \"MYANMAR\", \"N. MARIANA IS.\", \"NAMIBIA\", \"NAURU RP\", \"NEPAL\", \"NETHERLAND\", \"NETHERLANDANTIL\", \"NEUTRAL ZONE\", \"NEW CALEDONIA\", \"NEW ZEALAND\", \"NICARAGUA\", \"NIGER\", \"NIGERIA\", \"NIUE IS\", \"NORFOLK IS\", \"NORWAY\", \"OMAN\", \"PACIFIC IS\", \"PAKISTAN IR\", \"PALAU\", \"PANAMA C Z\", \"PANAMA REPUBLIC\", \"PAPUA N GNA\", \"PARAGUAY\", \"PERU\", \"PHILIPPINES\", \"PITCAIRN IS.\", \"POLAND\", \"PORTUGAL\", \"PUERTO RICO\", \"QATAR\", \"REUNION\", \"ROMANIA\", \"RUSSIA\", \"RWANDA\", \"SAHARWI A.DM RP\", \"SAMOA\", \"SAN MARINO\", \"SAO TOME\", \"SAUDI ARAB\", \"SENEGAL\", \"SERBIA\", \"SEYCHELLES\", \"SIERRA LEONE\", \"SINGAPORE\", \"SINT MAARTEN (DUTCH PART)\", \"SLOVAK REP\", \"SLOVENIA\", \"SOLOMON IS\", \"SOMALIA\", \"SOUTH AFRICA\", \"SOUTH SUDAN \", \"SPAIN\", \"SRI LANKA DSR\", \"ST HELENA\", \"ST KITT N A\", \"ST LUCIA\", \"ST PIERRE\", \"ST VINCENT\", \"STATE OF PALEST\", \"SUDAN\", \"SURINAME\", \"SWAZILAND\", \"SWEDEN\", \"SWITZERLAND\", \"SYRIA\", \"TAIWAN\", \"TAJIKISTAN\", \"TANZANIA REP\", \"THAILAND\", \"TIMOR LESTE\", \"TOGO\", \"TOKELAU IS\", \"TONGA\", \"TRINIDAD\", \"TUNISIA\", \"TURKEY\", \"TURKMENISTAN\", \"TURKS C IS\", \"TUVALU\", \"U ARAB EMTS\", \"UGANDA\", \"UK\", \"UKRAINE\", \"UNION OF SERBIA & MONTENEGRO\", \"UNSPECIFIED\", \"URUGUAY\", \"US MINOR OUTLYING ISLANDS               \", \"USA\", \"UZBEKISTAN\", \"VANUATU REP\", \"VATICAN CITY\", \"VENEZUELA\", \"VIETNAM SOC REP\", \"VIRGIN IS US\", \"WALLIS F IS\", \"YEMEN REPUBLC\", \"ZAMBIA\", \"ZIMBABWE\"], \"type\": \"choropleth\", \"z\": [5903.284945806304, 2180.7502832864025, 9332.199287473977, 1146.4949458062974, 1451.3245541324895, 4938.945408301704, 1791.2998207909945, 496.62007082160085, 1720.5785041263678, 5842.815799975515, 2466.759429117189, 2417.4712082772244, 25587.96829166156, 4621.210141643206, 2480.168966621779, 9863.899037443382, 5835.149216652397, 55709.886120827745, 1895.0676499571466, 2219.0663332925224, 54572.99921665228, 2694.446012440321, 5605.4927749724575, 1919.4989666217766, 4825.127579135547, 1836.3940916370784, 2353.4242332802833, 2203.12369996327, 2345.0255499449086, 40221.0644833109, 2905.5806749602098, 2899.0132374678747, 2517.385870797118, 2011.756333292522, 2525.286866609538, 2572.5845541324907, 3255.34238329865, 19330.621779160032, 194.2804624954089, 1587.6215291294277, 1990.672454120247, 2236.9867957879333, 129.50697499693928, 6918.10316664626, 122323.62789998768, 303.1996083261917, 217.4182916615655, 9024.587508313965, 2466.0377207787546, 3020.871066634026, 3247.874554132494, 756.0740208154792, 2257.24757913555, 4817.762845794054, 2385.122774972454, 2392.533770784871, 43.14565833231309, 1798.576262470919, 4395.425799975519, 7631.271458307838, 4848.664554132492, 2603.226262470923, 2543.1460124403184, 3462.1488958001814, 23283.408362483136, 1836.5975791355468, 2139.158112452559, 2201.9815999510292, 2223.7480416309586, 7267.352774972457, 173.95263332925236, 704.5005333170097, 1472.4636291416664, 3809.747116640141, 1793.0906749602098, 1744.248504126367, 129.4969749969393, 45307.59224165537, 2419.8981124525635, 2379.2228457940555, 2302.4845541324885, 69071.12829166159, 7435.894945806313, 6454.184624954074, 4666.983166646268, 551.7157291539139, 2367.713379111066, 2095.313770784871, 1992.0602832864029, 3422.57323746787, 64.73348749846964, 3782.1745541324976, 2636.026012440319, 1952.1941624586784, 2629.90811245256, 173.13263332925234, 2521.563237467864, 116361.95270415094, 4321.782774972464, 2304.7137707848733, 42644.9000708216, 143.11782916615655, 29781.773629141648, 11127.679749969402, 5711.3367249663315, 31264.915729153894, 45089.490070821594, 1766.7667249663311, 48361.34572915389, 21.567829166156546, 8445.412312477047, 3351.8193582955896, 25796.329608326207, 1753.0041624586806, 3183.8367957879373, 38540.64789998767, 12103.859608326225, 2692.976866609541, 2243.1546249540893, 2284.9232374678645, 3004.969679147796, 2236.740283286404, 3151.276333292533, 2976.1493582955877, 1389.1210666340194, 1980.790141643199, 1735.7571874617395, 3282.832204089648, 1841.566333292523, 3064.522383298652, 3447.7033082894723, 43528.67480416315, 2132.788362483168, 2895.9546249540927, 5145.401991624848, 1585.0523832986457, 2441.3990374433783, 2222.482845794053, 11289.84533748011, 110.87914583078273, 23852.318824978567, 1189.1706041386108, 2424.203379111066, 1843.7254791233067, 1889.4563332925218, 1325.8292874739839, 2504.718183274162, 4627.552312477045, 10878.830604138631, 8226.168824978577, 777.601849981636, 2662.6511374556267, 953.8744833108885, 39948.10131666457, 66861.55177916006, 2130.456333292522, 345.2452666585048, 2296.8129166156555, 3490.1596791478005, 1992.9967249663325, 2931.938574947971, 22716.741387486236, 151.0648041630958, 1104.0192874739844, 3972.0319208032456, 20187.030924990835, 164.5169749969393, 18450.25053331701, 669.1427041508532, 864.953166646262, 3632.7528457940625, 1688.055408301704, 2621.0706749602114, 7062.0871166401475, 12837.000533317016, 280.84177916003506, 10466.237508313949, 6455.813166646258, 2454.2236999632737, 9266.749216652403, 1642.5962624709225, 4317.7397499694, 18827.887508313957, 2506.780674960213, 560.9535583200704, 1746.8463332925226, 475.3122416554441, 1410.8688958001749, 66297.93960832617, 5903.305408301699, 1139.6753374801049, 2042.4928457940534, 2557.082845794056, 101916.94612082772, 21.577829166156548, 2658.321529129434, 3898.4650166279025, 1874.703308289462, 4278.797579135556, 39409.97394999385, 340.82743749234817, 29645.90526665851, 41796.77177916006, 798.6796791477927, 2193.2007457818136, 2720.098645769573, 323.6574374923482, 2206.4485749479686, 87.75131666462619, 8166.250604138619, 1688.9358707971112, 2959.0194999387927, 7322.884020815484, 10919.976654144775, 3764.870212464808, 21881.54487498475, 2557.6098916126007, 18598.05836248315, 30825.752241655453, 2279.1885041263677, 5494.933699963268, 338.7474374923481, 1367.7432374678626, 1579.7661916493212, 3985.2458707971227, 39857.02007082156, 2839.2477207787524, 1577.8815291294286, 518.0478999877573, 289374.8799999995, 5250.809679147807, 80115.15263332923, 4701.653629141671, 2546.9012082772265, 64804.893841606456, 2734.71757913555, 650.1648749846964, 360738.9769749976, 2865.0419916248443, 1984.0824541202458, 172.8926333292524, 3362.9476499571524, 48840.71658332307, 1817.1141624586812, 453.31441248928763, 8400.276262470928, 3434.282312477049, 2859.8367249663397]}],\n",
       "                        {\"template\": {\"data\": {\"bar\": [{\"error_x\": {\"color\": \"#2a3f5f\"}, \"error_y\": {\"color\": \"#2a3f5f\"}, \"marker\": {\"line\": {\"color\": \"#E5ECF6\", \"width\": 0.5}}, \"type\": \"bar\"}], \"barpolar\": [{\"marker\": {\"line\": {\"color\": \"#E5ECF6\", \"width\": 0.5}}, \"type\": \"barpolar\"}], \"carpet\": [{\"aaxis\": {\"endlinecolor\": \"#2a3f5f\", \"gridcolor\": \"white\", \"linecolor\": \"white\", \"minorgridcolor\": \"white\", \"startlinecolor\": \"#2a3f5f\"}, \"baxis\": {\"endlinecolor\": \"#2a3f5f\", \"gridcolor\": \"white\", \"linecolor\": \"white\", \"minorgridcolor\": \"white\", \"startlinecolor\": \"#2a3f5f\"}, \"type\": \"carpet\"}], \"choropleth\": [{\"colorbar\": {\"outlinewidth\": 0, \"ticks\": \"\"}, \"type\": \"choropleth\"}], \"contour\": [{\"colorbar\": {\"outlinewidth\": 0, \"ticks\": \"\"}, \"colorscale\": [[0.0, \"#0d0887\"], [0.1111111111111111, \"#46039f\"], [0.2222222222222222, \"#7201a8\"], [0.3333333333333333, \"#9c179e\"], [0.4444444444444444, \"#bd3786\"], [0.5555555555555556, \"#d8576b\"], [0.6666666666666666, \"#ed7953\"], [0.7777777777777778, \"#fb9f3a\"], [0.8888888888888888, \"#fdca26\"], [1.0, \"#f0f921\"]], \"type\": \"contour\"}], \"contourcarpet\": [{\"colorbar\": {\"outlinewidth\": 0, \"ticks\": \"\"}, \"type\": \"contourcarpet\"}], \"heatmap\": [{\"colorbar\": {\"outlinewidth\": 0, \"ticks\": \"\"}, \"colorscale\": [[0.0, \"#0d0887\"], [0.1111111111111111, \"#46039f\"], [0.2222222222222222, \"#7201a8\"], [0.3333333333333333, \"#9c179e\"], [0.4444444444444444, \"#bd3786\"], [0.5555555555555556, \"#d8576b\"], [0.6666666666666666, \"#ed7953\"], [0.7777777777777778, \"#fb9f3a\"], [0.8888888888888888, \"#fdca26\"], [1.0, \"#f0f921\"]], \"type\": \"heatmap\"}], \"heatmapgl\": [{\"colorbar\": {\"outlinewidth\": 0, \"ticks\": \"\"}, \"colorscale\": [[0.0, \"#0d0887\"], [0.1111111111111111, \"#46039f\"], [0.2222222222222222, \"#7201a8\"], [0.3333333333333333, \"#9c179e\"], [0.4444444444444444, \"#bd3786\"], [0.5555555555555556, \"#d8576b\"], [0.6666666666666666, \"#ed7953\"], [0.7777777777777778, \"#fb9f3a\"], [0.8888888888888888, \"#fdca26\"], [1.0, \"#f0f921\"]], \"type\": \"heatmapgl\"}], \"histogram\": [{\"marker\": {\"colorbar\": {\"outlinewidth\": 0, \"ticks\": \"\"}}, \"type\": \"histogram\"}], \"histogram2d\": [{\"colorbar\": {\"outlinewidth\": 0, \"ticks\": \"\"}, \"colorscale\": [[0.0, \"#0d0887\"], [0.1111111111111111, \"#46039f\"], [0.2222222222222222, \"#7201a8\"], [0.3333333333333333, \"#9c179e\"], [0.4444444444444444, \"#bd3786\"], [0.5555555555555556, \"#d8576b\"], [0.6666666666666666, \"#ed7953\"], [0.7777777777777778, \"#fb9f3a\"], [0.8888888888888888, \"#fdca26\"], [1.0, \"#f0f921\"]], \"type\": \"histogram2d\"}], \"histogram2dcontour\": [{\"colorbar\": {\"outlinewidth\": 0, \"ticks\": \"\"}, \"colorscale\": [[0.0, \"#0d0887\"], [0.1111111111111111, \"#46039f\"], [0.2222222222222222, \"#7201a8\"], [0.3333333333333333, \"#9c179e\"], [0.4444444444444444, \"#bd3786\"], [0.5555555555555556, \"#d8576b\"], [0.6666666666666666, \"#ed7953\"], [0.7777777777777778, \"#fb9f3a\"], [0.8888888888888888, \"#fdca26\"], [1.0, \"#f0f921\"]], \"type\": \"histogram2dcontour\"}], \"mesh3d\": [{\"colorbar\": {\"outlinewidth\": 0, \"ticks\": \"\"}, \"type\": \"mesh3d\"}], \"parcoords\": [{\"line\": {\"colorbar\": {\"outlinewidth\": 0, \"ticks\": \"\"}}, \"type\": \"parcoords\"}], \"pie\": [{\"automargin\": true, \"type\": \"pie\"}], \"scatter\": [{\"marker\": {\"colorbar\": {\"outlinewidth\": 0, \"ticks\": \"\"}}, \"type\": \"scatter\"}], \"scatter3d\": [{\"line\": {\"colorbar\": {\"outlinewidth\": 0, \"ticks\": \"\"}}, \"marker\": {\"colorbar\": {\"outlinewidth\": 0, \"ticks\": \"\"}}, \"type\": \"scatter3d\"}], \"scattercarpet\": [{\"marker\": {\"colorbar\": {\"outlinewidth\": 0, \"ticks\": \"\"}}, \"type\": \"scattercarpet\"}], \"scattergeo\": [{\"marker\": {\"colorbar\": {\"outlinewidth\": 0, \"ticks\": \"\"}}, \"type\": \"scattergeo\"}], \"scattergl\": [{\"marker\": {\"colorbar\": {\"outlinewidth\": 0, \"ticks\": \"\"}}, \"type\": \"scattergl\"}], \"scattermapbox\": [{\"marker\": {\"colorbar\": {\"outlinewidth\": 0, \"ticks\": \"\"}}, \"type\": \"scattermapbox\"}], \"scatterpolar\": [{\"marker\": {\"colorbar\": {\"outlinewidth\": 0, \"ticks\": \"\"}}, \"type\": \"scatterpolar\"}], \"scatterpolargl\": [{\"marker\": {\"colorbar\": {\"outlinewidth\": 0, \"ticks\": \"\"}}, \"type\": \"scatterpolargl\"}], \"scatterternary\": [{\"marker\": {\"colorbar\": {\"outlinewidth\": 0, \"ticks\": \"\"}}, \"type\": \"scatterternary\"}], \"surface\": [{\"colorbar\": {\"outlinewidth\": 0, \"ticks\": \"\"}, \"colorscale\": [[0.0, \"#0d0887\"], [0.1111111111111111, \"#46039f\"], [0.2222222222222222, \"#7201a8\"], [0.3333333333333333, \"#9c179e\"], [0.4444444444444444, \"#bd3786\"], [0.5555555555555556, \"#d8576b\"], [0.6666666666666666, \"#ed7953\"], [0.7777777777777778, \"#fb9f3a\"], [0.8888888888888888, \"#fdca26\"], [1.0, \"#f0f921\"]], \"type\": \"surface\"}], \"table\": [{\"cells\": {\"fill\": {\"color\": \"#EBF0F8\"}, \"line\": {\"color\": \"white\"}}, \"header\": {\"fill\": {\"color\": \"#C8D4E3\"}, \"line\": {\"color\": \"white\"}}, \"type\": \"table\"}]}, \"layout\": {\"annotationdefaults\": {\"arrowcolor\": \"#2a3f5f\", \"arrowhead\": 0, \"arrowwidth\": 1}, \"coloraxis\": {\"colorbar\": {\"outlinewidth\": 0, \"ticks\": \"\"}}, \"colorscale\": {\"diverging\": [[0, \"#8e0152\"], [0.1, \"#c51b7d\"], [0.2, \"#de77ae\"], [0.3, \"#f1b6da\"], [0.4, \"#fde0ef\"], [0.5, \"#f7f7f7\"], [0.6, \"#e6f5d0\"], [0.7, \"#b8e186\"], [0.8, \"#7fbc41\"], [0.9, \"#4d9221\"], [1, \"#276419\"]], \"sequential\": [[0.0, \"#0d0887\"], [0.1111111111111111, \"#46039f\"], [0.2222222222222222, \"#7201a8\"], [0.3333333333333333, \"#9c179e\"], [0.4444444444444444, \"#bd3786\"], [0.5555555555555556, \"#d8576b\"], [0.6666666666666666, \"#ed7953\"], [0.7777777777777778, \"#fb9f3a\"], [0.8888888888888888, \"#fdca26\"], [1.0, \"#f0f921\"]], \"sequentialminus\": [[0.0, \"#0d0887\"], [0.1111111111111111, \"#46039f\"], [0.2222222222222222, \"#7201a8\"], [0.3333333333333333, \"#9c179e\"], [0.4444444444444444, \"#bd3786\"], [0.5555555555555556, \"#d8576b\"], [0.6666666666666666, \"#ed7953\"], [0.7777777777777778, \"#fb9f3a\"], [0.8888888888888888, \"#fdca26\"], [1.0, \"#f0f921\"]]}, \"colorway\": [\"#636efa\", \"#EF553B\", \"#00cc96\", \"#ab63fa\", \"#FFA15A\", \"#19d3f3\", \"#FF6692\", \"#B6E880\", \"#FF97FF\", \"#FECB52\"], \"font\": {\"color\": \"#2a3f5f\"}, \"geo\": {\"bgcolor\": \"white\", \"lakecolor\": \"white\", \"landcolor\": \"#E5ECF6\", \"showlakes\": true, \"showland\": true, \"subunitcolor\": \"white\"}, \"hoverlabel\": {\"align\": \"left\"}, \"hovermode\": \"closest\", \"mapbox\": {\"style\": \"light\"}, \"paper_bgcolor\": \"white\", \"plot_bgcolor\": \"#E5ECF6\", \"polar\": {\"angularaxis\": {\"gridcolor\": \"white\", \"linecolor\": \"white\", \"ticks\": \"\"}, \"bgcolor\": \"#E5ECF6\", \"radialaxis\": {\"gridcolor\": \"white\", \"linecolor\": \"white\", \"ticks\": \"\"}}, \"scene\": {\"xaxis\": {\"backgroundcolor\": \"#E5ECF6\", \"gridcolor\": \"white\", \"gridwidth\": 2, \"linecolor\": \"white\", \"showbackground\": true, \"ticks\": \"\", \"zerolinecolor\": \"white\"}, \"yaxis\": {\"backgroundcolor\": \"#E5ECF6\", \"gridcolor\": \"white\", \"gridwidth\": 2, \"linecolor\": \"white\", \"showbackground\": true, \"ticks\": \"\", \"zerolinecolor\": \"white\"}, \"zaxis\": {\"backgroundcolor\": \"#E5ECF6\", \"gridcolor\": \"white\", \"gridwidth\": 2, \"linecolor\": \"white\", \"showbackground\": true, \"ticks\": \"\", \"zerolinecolor\": \"white\"}}, \"shapedefaults\": {\"line\": {\"color\": \"#2a3f5f\"}}, \"ternary\": {\"aaxis\": {\"gridcolor\": \"white\", \"linecolor\": \"white\", \"ticks\": \"\"}, \"baxis\": {\"gridcolor\": \"white\", \"linecolor\": \"white\", \"ticks\": \"\"}, \"bgcolor\": \"#E5ECF6\", \"caxis\": {\"gridcolor\": \"white\", \"linecolor\": \"white\", \"ticks\": \"\"}}, \"title\": {\"x\": 0.05}, \"xaxis\": {\"automargin\": true, \"gridcolor\": \"white\", \"linecolor\": \"white\", \"ticks\": \"\", \"title\": {\"standoff\": 15}, \"zerolinecolor\": \"white\", \"zerolinewidth\": 2}, \"yaxis\": {\"automargin\": true, \"gridcolor\": \"white\", \"linecolor\": \"white\", \"ticks\": \"\", \"title\": {\"standoff\": 15}, \"zerolinecolor\": \"white\", \"zerolinewidth\": 2}}}, \"title\": {\"text\": \"India Export to Other Country\"}},\n",
       "                        {\"responsive\": true}\n",
       "                    ).then(function(){\n",
       "                            \n",
       "var gd = document.getElementById('803fa236-bee5-4697-9876-12df106ef553');\n",
       "var x = new MutationObserver(function (mutations, observer) {{\n",
       "        var display = window.getComputedStyle(gd).display;\n",
       "        if (!display || display === 'none') {{\n",
       "            console.log([gd, 'removed!']);\n",
       "            Plotly.purge(gd);\n",
       "            observer.disconnect();\n",
       "        }}\n",
       "}});\n",
       "\n",
       "// Listen for the removal of the full notebook cells\n",
       "var notebookContainer = gd.closest('#notebook-container');\n",
       "if (notebookContainer) {{\n",
       "    x.observe(notebookContainer, {childList: true});\n",
       "}}\n",
       "\n",
       "// Listen for the clearing of the current output cell\n",
       "var outputEl = gd.closest('.output');\n",
       "if (outputEl) {{\n",
       "    x.observe(outputEl, {childList: true});\n",
       "}}\n",
       "\n",
       "                        })\n",
       "                };\n",
       "                });\n",
       "            </script>\n",
       "        </div>"
      ]
     },
     "metadata": {},
     "output_type": "display_data"
    }
   ],
   "source": [
    "import warnings\n",
    "warnings.filterwarnings('ignore')\n",
    "\n",
    "export_map = pd.DataFrame(data_export.groupby(['country'])['value'].sum().reset_index())\n",
    "count = pd.DataFrame(export_map.groupby('country')['value'].sum().reset_index())\n",
    "\n",
    "trace = [go.Choropleth(\n",
    "            colorscale = px.colors.diverging.BrBG,\n",
    "            locationmode = 'country names',\n",
    "            locations = count['country'],\n",
    "            text = count['country'],\n",
    "            z = count['value'],\n",
    "            reversescale=True)]\n",
    "\n",
    "layout = go.Layout(title = 'India Export to Other Country')\n",
    "\n",
    "fig = go.Figure(data = trace, layout = layout)\n",
    "py.iplot(fig)\n"
   ]
  },
  {
   "cell_type": "code",
   "execution_count": 89,
   "metadata": {},
   "outputs": [
    {
     "data": {
      "application/vnd.plotly.v1+json": {
       "config": {
        "linkText": "Export to plot.ly",
        "plotlyServerURL": "https://plot.ly",
        "showLink": false
       },
       "data": [
        {
         "colorscale": [
          [
           0,
           "rgb(214, 249, 207)"
          ],
          [
           0.09090909090909091,
           "rgb(186, 228, 174)"
          ],
          [
           0.18181818181818182,
           "rgb(156, 209, 143)"
          ],
          [
           0.2727272727272727,
           "rgb(124, 191, 115)"
          ],
          [
           0.36363636363636365,
           "rgb(85, 174, 91)"
          ],
          [
           0.45454545454545453,
           "rgb(37, 157, 81)"
          ],
          [
           0.5454545454545454,
           "rgb(7, 138, 78)"
          ],
          [
           0.6363636363636364,
           "rgb(13, 117, 71)"
          ],
          [
           0.7272727272727273,
           "rgb(23, 95, 61)"
          ],
          [
           0.8181818181818182,
           "rgb(25, 75, 49)"
          ],
          [
           0.9090909090909091,
           "rgb(23, 55, 35)"
          ],
          [
           1,
           "rgb(17, 36, 20)"
          ]
         ],
         "locationmode": "country names",
         "locations": [
          "AFGHANISTAN TIS",
          "ALBANIA",
          "ALGERIA",
          "AMERI SAMOA",
          "ANDORRA",
          "ANGOLA",
          "ANGUILLA",
          "ANTARTICA",
          "ANTIGUA",
          "ARGENTINA",
          "ARMENIA",
          "ARUBA",
          "AUSTRALIA",
          "AUSTRIA",
          "AZERBAIJAN",
          "BAHAMAS",
          "BAHARAIN IS",
          "BANGLADESH PR",
          "BARBADOS",
          "BELARUS",
          "BELGIUM",
          "BELIZE",
          "BENIN",
          "BERMUDA",
          "BHUTAN",
          "BOLIVIA",
          "BOSNIA-HRZGOVIN",
          "BOTSWANA",
          "BR VIRGN IS",
          "BRAZIL",
          "BRUNEI",
          "BULGARIA",
          "BURKINA FASO",
          "BURUNDI",
          "C AFRI REP",
          "CAMBODIA",
          "CAMEROON",
          "CANADA",
          "CAPE VERDE IS",
          "CAYMAN IS",
          "CHAD",
          "CHANNEL IS",
          "CHILE",
          "CHINA P RP",
          "CHRISTMAS IS.",
          "COCOS IS",
          "COLOMBIA",
          "COMOROS",
          "CONGO D. REP.",
          "CONGO P REP",
          "COOK IS",
          "COSTA RICA",
          "COTE D' IVOIRE",
          "CROATIA",
          "CUBA",
          "CYPRUS",
          "CZECH REPUBLIC",
          "DENMARK",
          "DJIBOUTI",
          "DOMINIC REP",
          "DOMINICA",
          "ECUADOR",
          "EGYPT A RP",
          "EL SALVADOR",
          "EQUTL GUINEA",
          "ERITREA",
          "ESTONIA",
          "ETHIOPIA",
          "FALKLAND IS",
          "FAROE IS.",
          "FIJI IS",
          "FINLAND",
          "FR GUIANA",
          "FR POLYNESIA",
          "FR S ANT TR",
          "FRANCE",
          "GABON",
          "GAMBIA",
          "GEORGIA",
          "GERMANY",
          "GHANA",
          "GIBRALTAR",
          "GREECE",
          "GREENLAND",
          "GRENADA",
          "GUADELOUPE",
          "GUAM",
          "GUATEMALA",
          "GUERNSEY",
          "GUINEA",
          "GUINEA BISSAU",
          "GUYANA",
          "HAITI",
          "HEARD MACDONALD",
          "HONDURAS",
          "HONG KONG",
          "HUNGARY",
          "ICELAND",
          "INDONESIA",
          "IRAN",
          "IRAQ",
          "IRELAND",
          "ISRAEL",
          "ITALY",
          "JAMAICA",
          "JAPAN",
          "JERSEY         ",
          "JORDAN",
          "KAZAKHSTAN",
          "KENYA",
          "KIRIBATI REP",
          "KOREA DP RP",
          "KOREA RP",
          "KUWAIT",
          "KYRGHYZSTAN",
          "LAO PD RP",
          "LATVIA",
          "LEBANON",
          "LESOTHO",
          "LIBERIA",
          "LIBYA",
          "LIECHTENSTEIN",
          "LITHUANIA",
          "LUXEMBOURG",
          "MACAO",
          "MACEDONIA",
          "MADAGASCAR",
          "MALAWI",
          "MALAYSIA",
          "MALDIVES",
          "MALI",
          "MALTA",
          "MARSHALL ISLAND",
          "MARTINIQUE",
          "MAURITANIA",
          "MAURITIUS",
          "MAYOTTE",
          "MEXICO",
          "MICRONESIA",
          "MOLDOVA",
          "MONACO",
          "MONGOLIA",
          "MONTENEGRO",
          "MONTSERRAT",
          "MOROCCO",
          "MOZAMBIQUE",
          "MYANMAR",
          "N. MARIANA IS.",
          "NAMIBIA",
          "NAURU RP",
          "NEPAL",
          "NETHERLAND",
          "NETHERLANDANTIL",
          "NEW CALEDONIA",
          "NEW ZEALAND",
          "NICARAGUA",
          "NIGER",
          "NIGERIA",
          "NIUE IS",
          "NORFOLK IS",
          "NORWAY",
          "OMAN",
          "PACIFIC IS",
          "PAKISTAN IR",
          "PALAU",
          "PANAMA C Z",
          "PANAMA REPUBLIC",
          "PAPUA N GNA",
          "PARAGUAY",
          "PERU",
          "PHILIPPINES",
          "PITCAIRN IS.",
          "POLAND",
          "PORTUGAL",
          "PUERTO RICO",
          "QATAR",
          "REUNION",
          "ROMANIA",
          "RUSSIA",
          "RWANDA",
          "SAMOA",
          "SAN MARINO",
          "SAO TOME",
          "SAUDI ARAB",
          "SENEGAL",
          "SERBIA",
          "SEYCHELLES",
          "SIERRA LEONE",
          "SINGAPORE",
          "SLOVAK REP",
          "SLOVENIA",
          "SOLOMON IS",
          "SOMALIA",
          "SOUTH AFRICA",
          "SOUTH SUDAN ",
          "SPAIN",
          "SRI LANKA DSR",
          "ST HELENA",
          "ST KITT N A",
          "ST LUCIA",
          "ST PIERRE",
          "ST VINCENT",
          "STATE OF PALEST",
          "SUDAN",
          "SURINAME",
          "SWAZILAND",
          "SWEDEN",
          "SWITZERLAND",
          "SYRIA",
          "TAIWAN",
          "TAJIKISTAN",
          "TANZANIA REP",
          "THAILAND",
          "TIMOR LESTE",
          "TOGO",
          "TOKELAU IS",
          "TONGA",
          "TRINIDAD",
          "TUNISIA",
          "TURKEY",
          "TURKMENISTAN",
          "TURKS C IS",
          "TUVALU",
          "U ARAB EMTS",
          "UGANDA",
          "UK",
          "UKRAINE",
          "UNION OF SERBIA & MONTENEGRO",
          "UNSPECIFIED",
          "URUGUAY",
          "US MINOR OUTLYING ISLANDS               ",
          "USA",
          "UZBEKISTAN",
          "VANUATU REP",
          "VATICAN CITY",
          "VENEZUELA",
          "VIETNAM SOC REP",
          "VIRGIN IS US",
          "WALLIS F IS",
          "YEMEN REPUBLC",
          "ZAMBIA",
          "ZIMBABWE"
         ],
         "reversescale": true,
         "text": [
          "AFGHANISTAN TIS",
          "ALBANIA",
          "ALGERIA",
          "AMERI SAMOA",
          "ANDORRA",
          "ANGOLA",
          "ANGUILLA",
          "ANTARTICA",
          "ANTIGUA",
          "ARGENTINA",
          "ARMENIA",
          "ARUBA",
          "AUSTRALIA",
          "AUSTRIA",
          "AZERBAIJAN",
          "BAHAMAS",
          "BAHARAIN IS",
          "BANGLADESH PR",
          "BARBADOS",
          "BELARUS",
          "BELGIUM",
          "BELIZE",
          "BENIN",
          "BERMUDA",
          "BHUTAN",
          "BOLIVIA",
          "BOSNIA-HRZGOVIN",
          "BOTSWANA",
          "BR VIRGN IS",
          "BRAZIL",
          "BRUNEI",
          "BULGARIA",
          "BURKINA FASO",
          "BURUNDI",
          "C AFRI REP",
          "CAMBODIA",
          "CAMEROON",
          "CANADA",
          "CAPE VERDE IS",
          "CAYMAN IS",
          "CHAD",
          "CHANNEL IS",
          "CHILE",
          "CHINA P RP",
          "CHRISTMAS IS.",
          "COCOS IS",
          "COLOMBIA",
          "COMOROS",
          "CONGO D. REP.",
          "CONGO P REP",
          "COOK IS",
          "COSTA RICA",
          "COTE D' IVOIRE",
          "CROATIA",
          "CUBA",
          "CYPRUS",
          "CZECH REPUBLIC",
          "DENMARK",
          "DJIBOUTI",
          "DOMINIC REP",
          "DOMINICA",
          "ECUADOR",
          "EGYPT A RP",
          "EL SALVADOR",
          "EQUTL GUINEA",
          "ERITREA",
          "ESTONIA",
          "ETHIOPIA",
          "FALKLAND IS",
          "FAROE IS.",
          "FIJI IS",
          "FINLAND",
          "FR GUIANA",
          "FR POLYNESIA",
          "FR S ANT TR",
          "FRANCE",
          "GABON",
          "GAMBIA",
          "GEORGIA",
          "GERMANY",
          "GHANA",
          "GIBRALTAR",
          "GREECE",
          "GREENLAND",
          "GRENADA",
          "GUADELOUPE",
          "GUAM",
          "GUATEMALA",
          "GUERNSEY",
          "GUINEA",
          "GUINEA BISSAU",
          "GUYANA",
          "HAITI",
          "HEARD MACDONALD",
          "HONDURAS",
          "HONG KONG",
          "HUNGARY",
          "ICELAND",
          "INDONESIA",
          "IRAN",
          "IRAQ",
          "IRELAND",
          "ISRAEL",
          "ITALY",
          "JAMAICA",
          "JAPAN",
          "JERSEY         ",
          "JORDAN",
          "KAZAKHSTAN",
          "KENYA",
          "KIRIBATI REP",
          "KOREA DP RP",
          "KOREA RP",
          "KUWAIT",
          "KYRGHYZSTAN",
          "LAO PD RP",
          "LATVIA",
          "LEBANON",
          "LESOTHO",
          "LIBERIA",
          "LIBYA",
          "LIECHTENSTEIN",
          "LITHUANIA",
          "LUXEMBOURG",
          "MACAO",
          "MACEDONIA",
          "MADAGASCAR",
          "MALAWI",
          "MALAYSIA",
          "MALDIVES",
          "MALI",
          "MALTA",
          "MARSHALL ISLAND",
          "MARTINIQUE",
          "MAURITANIA",
          "MAURITIUS",
          "MAYOTTE",
          "MEXICO",
          "MICRONESIA",
          "MOLDOVA",
          "MONACO",
          "MONGOLIA",
          "MONTENEGRO",
          "MONTSERRAT",
          "MOROCCO",
          "MOZAMBIQUE",
          "MYANMAR",
          "N. MARIANA IS.",
          "NAMIBIA",
          "NAURU RP",
          "NEPAL",
          "NETHERLAND",
          "NETHERLANDANTIL",
          "NEW CALEDONIA",
          "NEW ZEALAND",
          "NICARAGUA",
          "NIGER",
          "NIGERIA",
          "NIUE IS",
          "NORFOLK IS",
          "NORWAY",
          "OMAN",
          "PACIFIC IS",
          "PAKISTAN IR",
          "PALAU",
          "PANAMA C Z",
          "PANAMA REPUBLIC",
          "PAPUA N GNA",
          "PARAGUAY",
          "PERU",
          "PHILIPPINES",
          "PITCAIRN IS.",
          "POLAND",
          "PORTUGAL",
          "PUERTO RICO",
          "QATAR",
          "REUNION",
          "ROMANIA",
          "RUSSIA",
          "RWANDA",
          "SAMOA",
          "SAN MARINO",
          "SAO TOME",
          "SAUDI ARAB",
          "SENEGAL",
          "SERBIA",
          "SEYCHELLES",
          "SIERRA LEONE",
          "SINGAPORE",
          "SLOVAK REP",
          "SLOVENIA",
          "SOLOMON IS",
          "SOMALIA",
          "SOUTH AFRICA",
          "SOUTH SUDAN ",
          "SPAIN",
          "SRI LANKA DSR",
          "ST HELENA",
          "ST KITT N A",
          "ST LUCIA",
          "ST PIERRE",
          "ST VINCENT",
          "STATE OF PALEST",
          "SUDAN",
          "SURINAME",
          "SWAZILAND",
          "SWEDEN",
          "SWITZERLAND",
          "SYRIA",
          "TAIWAN",
          "TAJIKISTAN",
          "TANZANIA REP",
          "THAILAND",
          "TIMOR LESTE",
          "TOGO",
          "TOKELAU IS",
          "TONGA",
          "TRINIDAD",
          "TUNISIA",
          "TURKEY",
          "TURKMENISTAN",
          "TURKS C IS",
          "TUVALU",
          "U ARAB EMTS",
          "UGANDA",
          "UK",
          "UKRAINE",
          "UNION OF SERBIA & MONTENEGRO",
          "UNSPECIFIED",
          "URUGUAY",
          "US MINOR OUTLYING ISLANDS               ",
          "USA",
          "UZBEKISTAN",
          "VANUATU REP",
          "VATICAN CITY",
          "VENEZUELA",
          "VIETNAM SOC REP",
          "VIRGIN IS US",
          "WALLIS F IS",
          "YEMEN REPUBLC",
          "ZAMBIA",
          "ZIMBABWE"
         ],
         "type": "choropleth",
         "z": [
          9047.485343993156,
          3517.528397173246,
          14613.391170818759,
          3685.1440715254466,
          1439.7627736455115,
          48792.334122349945,
          1621.9770484688388,
          2315.9227228210407,
          2635.7998475265886,
          24583.893919051945,
          3664.792646584337,
          818.9085242344197,
          117656.9070230565,
          12527.406921407683,
          7209.6712470554685,
          3904.224122349918,
          10434.6496950532,
          10779.41404611323,
          1874.5727482332748,
          7235.342544935411,
          92645.95557270313,
          3873.2383463487768,
          6274.07834634878,
          1442.1527736455116,
          5919.198371761015,
          4941.532697408814,
          5137.855420229856,
          8656.468447997717,
          3086.4598221143556,
          47982.56404611323,
          9325.445521878799,
          6508.523969876522,
          4071.2370484688436,
          1458.6527736455112,
          2015.7655981154935,
          5796.916819758734,
          8080.812595759877,
          33437.70987293872,
          524.3113995288733,
          1253.988498822184,
          4756.006946819904,
          62.36142494110921,
          25391.141043757536,
          532489.3171247056,
          2058.8870230566026,
          1420.8513487044024,
          19162.279695053137,
          771.4442494110921,
          2358.639898351057,
          5292.369847526591,
          374.3085496466552,
          6854.531094582067,
          8681.986870583205,
          4793.094020700983,
          2328.8727228210405,
          6184.436819758736,
          8729.884071525456,
          7910.526946819917,
          2161.028447997712,
          5944.9240969376915,
          1937.0441731743842,
          9040.741119994294,
          21697.36111999428,
          2872.0041223499165,
          5300.139949175529,
          1890.9427736455107,
          5820.196870583209,
          7637.585293168682,
          573.0328244699829,
          818.2485242344198,
          5064.115420229856,
          14741.296946819924,
          4108.311196230997,
          810.8885242344197,
          187.17427482332764,
          44109.70567435213,
          6952.678397173246,
          2012.508473409947,
          6600.123919052045,
          120225.89282447005,
          19287.55539481755,
          635.5042494110921,
          5141.954046113227,
          873.4599491755291,
          437.35997458776444,
          2248.2112978799314,
          311.867124705546,
          3706.5112216432312,
          187.42427482332764,
          7012.42264658434,
          2869.141348704404,
          1458.321348704402,
          1906.862748233275,
          249.60569976443685,
          4696.854020700981,
          85912.47414776214,
          6404.8997712899045,
          4662.515445642091,
          129910.51989835076,
          103295.6939190517,
          145906.19837176084,
          9168.55544564212,
          22495.758422585455,
          40753.407124705525,
          4447.201170818763,
          97501.33419858658,
          0.05,
          15105.531043757614,
          8496.795471054336,
          7264.912494110943,
          499.6513995288737,
          8166.7452931686885,
          122889.69989835093,
          104079.14106916962,
          3347.52552187879,
          5025.6640461132165,
          4669.496921407667,
          6086.482519523174,
          1690.8756235277294,
          3842.4497967021202,
          6246.119847526588,
          3565.121221643232,
          5979.574020700994,
          4751.364046113218,
          4341.108320936542,
          3911.205496466562,
          6047.003995288757,
          4086.6869214076664,
          85389.40849882214,
          5280.318270112076,
          3656.308397173247,
          4096.226921407667,
          2398.78414776215,
          312.87712470554607,
          1989.8527482332754,
          6430.00106916983,
          62.55142494110922,
          32573.978397173163,
          124.82284988221843,
          2640.9298475265878,
          3070.859822114355,
          2356.60272282104,
          562.6628244699828,
          623.6742494110921,
          15149.336819758739,
          7857.406921407675,
          14764.876845170984,
          499.5513995288737,
          5393.70684517096,
          934.2099491755291,
          8504.79834634878,
          24681.075623527744,
          6192.556794346504,
          2610.5555727032597,
          9667.791196231012,
          2578.5584225854777,
          3917.1454964665577,
          111513.96524234387,
          686.0356743522013,
          2995.1683971732455,
          11104.556895995453,
          30036.0467943464,
          187.09427482332765,
          7816.595496466567,
          880.779949175529,
          436.51712470554605,
          5252.629745877654,
          4173.212697408808,
          3255.411272467698,
          14890.232519523192,
          9123.574020700991,
          623.974249411092,
          8571.229847526598,
          5560.125496466566,
          4775.1511708187645,
          107589.88821928744,
          4428.966895995437,
          6895.808346348784,
          49967.366870583195,
          1450.7127736455116,
          1946.6041731743842,
          1998.275598115493,
          436.7399745877644,
          246356.8197204655,
          7195.058295524314,
          2990.655547291026,
          3454.5083717610087,
          3167.3198221143543,
          76664.48704846881,
          5392.186870583207,
          5442.808320936546,
          1239.641374116638,
          2098.204173174384,
          67886.0526719966,
          476.3856997644368,
          17228.489923763314,
          10098.575521878802,
          1060.7542239988568,
          2120.9184479977125,
          1687.1784734099476,
          1309.6199237632934,
          498.91139952887363,
          1.19,
          8506.288295524319,
          3008.5269976443706,
          6956.838193875384,
          17535.448371761035,
          209285.84842258532,
          5438.462570347633,
          37628.12132329216,
          2693.1184225854786,
          11927.973995288756,
          52612.892799057736,
          2769.222697408807,
          3723.098447997718,
          1372.4113487044024,
          561.6828244699828,
          3988.391247055465,
          6299.859720465423,
          14538.234173174402,
          1551.6313487044022,
          1434.6427736455114,
          687.5456743522013,
          257969.83847341023,
          6622.303919052049,
          51735.114249411075,
          25811.063919051983,
          2100.2870230566023,
          49766.185394817665,
          5014.799720465422,
          2871.505547291028,
          219588.46712470546,
          4051.6712216432315,
          754.0770992933107,
          561.7428244699829,
          80306.64832093641,
          30849.037023056553,
          3315.455521878791,
          624.974249411092,
          10286.496845170966,
          8179.928320936549,
          4489.716895995433
         ]
        }
       ],
       "layout": {
        "template": {
         "data": {
          "bar": [
           {
            "error_x": {
             "color": "#2a3f5f"
            },
            "error_y": {
             "color": "#2a3f5f"
            },
            "marker": {
             "line": {
              "color": "#E5ECF6",
              "width": 0.5
             }
            },
            "type": "bar"
           }
          ],
          "barpolar": [
           {
            "marker": {
             "line": {
              "color": "#E5ECF6",
              "width": 0.5
             }
            },
            "type": "barpolar"
           }
          ],
          "carpet": [
           {
            "aaxis": {
             "endlinecolor": "#2a3f5f",
             "gridcolor": "white",
             "linecolor": "white",
             "minorgridcolor": "white",
             "startlinecolor": "#2a3f5f"
            },
            "baxis": {
             "endlinecolor": "#2a3f5f",
             "gridcolor": "white",
             "linecolor": "white",
             "minorgridcolor": "white",
             "startlinecolor": "#2a3f5f"
            },
            "type": "carpet"
           }
          ],
          "choropleth": [
           {
            "colorbar": {
             "outlinewidth": 0,
             "ticks": ""
            },
            "type": "choropleth"
           }
          ],
          "contour": [
           {
            "colorbar": {
             "outlinewidth": 0,
             "ticks": ""
            },
            "colorscale": [
             [
              0,
              "#0d0887"
             ],
             [
              0.1111111111111111,
              "#46039f"
             ],
             [
              0.2222222222222222,
              "#7201a8"
             ],
             [
              0.3333333333333333,
              "#9c179e"
             ],
             [
              0.4444444444444444,
              "#bd3786"
             ],
             [
              0.5555555555555556,
              "#d8576b"
             ],
             [
              0.6666666666666666,
              "#ed7953"
             ],
             [
              0.7777777777777778,
              "#fb9f3a"
             ],
             [
              0.8888888888888888,
              "#fdca26"
             ],
             [
              1,
              "#f0f921"
             ]
            ],
            "type": "contour"
           }
          ],
          "contourcarpet": [
           {
            "colorbar": {
             "outlinewidth": 0,
             "ticks": ""
            },
            "type": "contourcarpet"
           }
          ],
          "heatmap": [
           {
            "colorbar": {
             "outlinewidth": 0,
             "ticks": ""
            },
            "colorscale": [
             [
              0,
              "#0d0887"
             ],
             [
              0.1111111111111111,
              "#46039f"
             ],
             [
              0.2222222222222222,
              "#7201a8"
             ],
             [
              0.3333333333333333,
              "#9c179e"
             ],
             [
              0.4444444444444444,
              "#bd3786"
             ],
             [
              0.5555555555555556,
              "#d8576b"
             ],
             [
              0.6666666666666666,
              "#ed7953"
             ],
             [
              0.7777777777777778,
              "#fb9f3a"
             ],
             [
              0.8888888888888888,
              "#fdca26"
             ],
             [
              1,
              "#f0f921"
             ]
            ],
            "type": "heatmap"
           }
          ],
          "heatmapgl": [
           {
            "colorbar": {
             "outlinewidth": 0,
             "ticks": ""
            },
            "colorscale": [
             [
              0,
              "#0d0887"
             ],
             [
              0.1111111111111111,
              "#46039f"
             ],
             [
              0.2222222222222222,
              "#7201a8"
             ],
             [
              0.3333333333333333,
              "#9c179e"
             ],
             [
              0.4444444444444444,
              "#bd3786"
             ],
             [
              0.5555555555555556,
              "#d8576b"
             ],
             [
              0.6666666666666666,
              "#ed7953"
             ],
             [
              0.7777777777777778,
              "#fb9f3a"
             ],
             [
              0.8888888888888888,
              "#fdca26"
             ],
             [
              1,
              "#f0f921"
             ]
            ],
            "type": "heatmapgl"
           }
          ],
          "histogram": [
           {
            "marker": {
             "colorbar": {
              "outlinewidth": 0,
              "ticks": ""
             }
            },
            "type": "histogram"
           }
          ],
          "histogram2d": [
           {
            "colorbar": {
             "outlinewidth": 0,
             "ticks": ""
            },
            "colorscale": [
             [
              0,
              "#0d0887"
             ],
             [
              0.1111111111111111,
              "#46039f"
             ],
             [
              0.2222222222222222,
              "#7201a8"
             ],
             [
              0.3333333333333333,
              "#9c179e"
             ],
             [
              0.4444444444444444,
              "#bd3786"
             ],
             [
              0.5555555555555556,
              "#d8576b"
             ],
             [
              0.6666666666666666,
              "#ed7953"
             ],
             [
              0.7777777777777778,
              "#fb9f3a"
             ],
             [
              0.8888888888888888,
              "#fdca26"
             ],
             [
              1,
              "#f0f921"
             ]
            ],
            "type": "histogram2d"
           }
          ],
          "histogram2dcontour": [
           {
            "colorbar": {
             "outlinewidth": 0,
             "ticks": ""
            },
            "colorscale": [
             [
              0,
              "#0d0887"
             ],
             [
              0.1111111111111111,
              "#46039f"
             ],
             [
              0.2222222222222222,
              "#7201a8"
             ],
             [
              0.3333333333333333,
              "#9c179e"
             ],
             [
              0.4444444444444444,
              "#bd3786"
             ],
             [
              0.5555555555555556,
              "#d8576b"
             ],
             [
              0.6666666666666666,
              "#ed7953"
             ],
             [
              0.7777777777777778,
              "#fb9f3a"
             ],
             [
              0.8888888888888888,
              "#fdca26"
             ],
             [
              1,
              "#f0f921"
             ]
            ],
            "type": "histogram2dcontour"
           }
          ],
          "mesh3d": [
           {
            "colorbar": {
             "outlinewidth": 0,
             "ticks": ""
            },
            "type": "mesh3d"
           }
          ],
          "parcoords": [
           {
            "line": {
             "colorbar": {
              "outlinewidth": 0,
              "ticks": ""
             }
            },
            "type": "parcoords"
           }
          ],
          "pie": [
           {
            "automargin": true,
            "type": "pie"
           }
          ],
          "scatter": [
           {
            "marker": {
             "colorbar": {
              "outlinewidth": 0,
              "ticks": ""
             }
            },
            "type": "scatter"
           }
          ],
          "scatter3d": [
           {
            "line": {
             "colorbar": {
              "outlinewidth": 0,
              "ticks": ""
             }
            },
            "marker": {
             "colorbar": {
              "outlinewidth": 0,
              "ticks": ""
             }
            },
            "type": "scatter3d"
           }
          ],
          "scattercarpet": [
           {
            "marker": {
             "colorbar": {
              "outlinewidth": 0,
              "ticks": ""
             }
            },
            "type": "scattercarpet"
           }
          ],
          "scattergeo": [
           {
            "marker": {
             "colorbar": {
              "outlinewidth": 0,
              "ticks": ""
             }
            },
            "type": "scattergeo"
           }
          ],
          "scattergl": [
           {
            "marker": {
             "colorbar": {
              "outlinewidth": 0,
              "ticks": ""
             }
            },
            "type": "scattergl"
           }
          ],
          "scattermapbox": [
           {
            "marker": {
             "colorbar": {
              "outlinewidth": 0,
              "ticks": ""
             }
            },
            "type": "scattermapbox"
           }
          ],
          "scatterpolar": [
           {
            "marker": {
             "colorbar": {
              "outlinewidth": 0,
              "ticks": ""
             }
            },
            "type": "scatterpolar"
           }
          ],
          "scatterpolargl": [
           {
            "marker": {
             "colorbar": {
              "outlinewidth": 0,
              "ticks": ""
             }
            },
            "type": "scatterpolargl"
           }
          ],
          "scatterternary": [
           {
            "marker": {
             "colorbar": {
              "outlinewidth": 0,
              "ticks": ""
             }
            },
            "type": "scatterternary"
           }
          ],
          "surface": [
           {
            "colorbar": {
             "outlinewidth": 0,
             "ticks": ""
            },
            "colorscale": [
             [
              0,
              "#0d0887"
             ],
             [
              0.1111111111111111,
              "#46039f"
             ],
             [
              0.2222222222222222,
              "#7201a8"
             ],
             [
              0.3333333333333333,
              "#9c179e"
             ],
             [
              0.4444444444444444,
              "#bd3786"
             ],
             [
              0.5555555555555556,
              "#d8576b"
             ],
             [
              0.6666666666666666,
              "#ed7953"
             ],
             [
              0.7777777777777778,
              "#fb9f3a"
             ],
             [
              0.8888888888888888,
              "#fdca26"
             ],
             [
              1,
              "#f0f921"
             ]
            ],
            "type": "surface"
           }
          ],
          "table": [
           {
            "cells": {
             "fill": {
              "color": "#EBF0F8"
             },
             "line": {
              "color": "white"
             }
            },
            "header": {
             "fill": {
              "color": "#C8D4E3"
             },
             "line": {
              "color": "white"
             }
            },
            "type": "table"
           }
          ]
         },
         "layout": {
          "annotationdefaults": {
           "arrowcolor": "#2a3f5f",
           "arrowhead": 0,
           "arrowwidth": 1
          },
          "coloraxis": {
           "colorbar": {
            "outlinewidth": 0,
            "ticks": ""
           }
          },
          "colorscale": {
           "diverging": [
            [
             0,
             "#8e0152"
            ],
            [
             0.1,
             "#c51b7d"
            ],
            [
             0.2,
             "#de77ae"
            ],
            [
             0.3,
             "#f1b6da"
            ],
            [
             0.4,
             "#fde0ef"
            ],
            [
             0.5,
             "#f7f7f7"
            ],
            [
             0.6,
             "#e6f5d0"
            ],
            [
             0.7,
             "#b8e186"
            ],
            [
             0.8,
             "#7fbc41"
            ],
            [
             0.9,
             "#4d9221"
            ],
            [
             1,
             "#276419"
            ]
           ],
           "sequential": [
            [
             0,
             "#0d0887"
            ],
            [
             0.1111111111111111,
             "#46039f"
            ],
            [
             0.2222222222222222,
             "#7201a8"
            ],
            [
             0.3333333333333333,
             "#9c179e"
            ],
            [
             0.4444444444444444,
             "#bd3786"
            ],
            [
             0.5555555555555556,
             "#d8576b"
            ],
            [
             0.6666666666666666,
             "#ed7953"
            ],
            [
             0.7777777777777778,
             "#fb9f3a"
            ],
            [
             0.8888888888888888,
             "#fdca26"
            ],
            [
             1,
             "#f0f921"
            ]
           ],
           "sequentialminus": [
            [
             0,
             "#0d0887"
            ],
            [
             0.1111111111111111,
             "#46039f"
            ],
            [
             0.2222222222222222,
             "#7201a8"
            ],
            [
             0.3333333333333333,
             "#9c179e"
            ],
            [
             0.4444444444444444,
             "#bd3786"
            ],
            [
             0.5555555555555556,
             "#d8576b"
            ],
            [
             0.6666666666666666,
             "#ed7953"
            ],
            [
             0.7777777777777778,
             "#fb9f3a"
            ],
            [
             0.8888888888888888,
             "#fdca26"
            ],
            [
             1,
             "#f0f921"
            ]
           ]
          },
          "colorway": [
           "#636efa",
           "#EF553B",
           "#00cc96",
           "#ab63fa",
           "#FFA15A",
           "#19d3f3",
           "#FF6692",
           "#B6E880",
           "#FF97FF",
           "#FECB52"
          ],
          "font": {
           "color": "#2a3f5f"
          },
          "geo": {
           "bgcolor": "white",
           "lakecolor": "white",
           "landcolor": "#E5ECF6",
           "showlakes": true,
           "showland": true,
           "subunitcolor": "white"
          },
          "hoverlabel": {
           "align": "left"
          },
          "hovermode": "closest",
          "mapbox": {
           "style": "light"
          },
          "paper_bgcolor": "white",
          "plot_bgcolor": "#E5ECF6",
          "polar": {
           "angularaxis": {
            "gridcolor": "white",
            "linecolor": "white",
            "ticks": ""
           },
           "bgcolor": "#E5ECF6",
           "radialaxis": {
            "gridcolor": "white",
            "linecolor": "white",
            "ticks": ""
           }
          },
          "scene": {
           "xaxis": {
            "backgroundcolor": "#E5ECF6",
            "gridcolor": "white",
            "gridwidth": 2,
            "linecolor": "white",
            "showbackground": true,
            "ticks": "",
            "zerolinecolor": "white"
           },
           "yaxis": {
            "backgroundcolor": "#E5ECF6",
            "gridcolor": "white",
            "gridwidth": 2,
            "linecolor": "white",
            "showbackground": true,
            "ticks": "",
            "zerolinecolor": "white"
           },
           "zaxis": {
            "backgroundcolor": "#E5ECF6",
            "gridcolor": "white",
            "gridwidth": 2,
            "linecolor": "white",
            "showbackground": true,
            "ticks": "",
            "zerolinecolor": "white"
           }
          },
          "shapedefaults": {
           "line": {
            "color": "#2a3f5f"
           }
          },
          "ternary": {
           "aaxis": {
            "gridcolor": "white",
            "linecolor": "white",
            "ticks": ""
           },
           "baxis": {
            "gridcolor": "white",
            "linecolor": "white",
            "ticks": ""
           },
           "bgcolor": "#E5ECF6",
           "caxis": {
            "gridcolor": "white",
            "linecolor": "white",
            "ticks": ""
           }
          },
          "title": {
           "x": 0.05
          },
          "xaxis": {
           "automargin": true,
           "gridcolor": "white",
           "linecolor": "white",
           "ticks": "",
           "title": {
            "standoff": 15
           },
           "zerolinecolor": "white",
           "zerolinewidth": 2
          },
          "yaxis": {
           "automargin": true,
           "gridcolor": "white",
           "linecolor": "white",
           "ticks": "",
           "title": {
            "standoff": 15
           },
           "zerolinecolor": "white",
           "zerolinewidth": 2
          }
         }
        },
        "title": {
         "text": "India Import from Other Country"
        }
       }
      },
      "text/html": [
       "<div>\n",
       "        \n",
       "        \n",
       "            <div id=\"eb8c4099-6ee2-4d97-9b84-d845f307f2b2\" class=\"plotly-graph-div\" style=\"height:525px; width:100%;\"></div>\n",
       "            <script type=\"text/javascript\">\n",
       "                require([\"plotly\"], function(Plotly) {\n",
       "                    window.PLOTLYENV=window.PLOTLYENV || {};\n",
       "                    \n",
       "                if (document.getElementById(\"eb8c4099-6ee2-4d97-9b84-d845f307f2b2\")) {\n",
       "                    Plotly.newPlot(\n",
       "                        'eb8c4099-6ee2-4d97-9b84-d845f307f2b2',\n",
       "                        [{\"colorscale\": [[0.0, \"rgb(214, 249, 207)\"], [0.09090909090909091, \"rgb(186, 228, 174)\"], [0.18181818181818182, \"rgb(156, 209, 143)\"], [0.2727272727272727, \"rgb(124, 191, 115)\"], [0.36363636363636365, \"rgb(85, 174, 91)\"], [0.45454545454545453, \"rgb(37, 157, 81)\"], [0.5454545454545454, \"rgb(7, 138, 78)\"], [0.6363636363636364, \"rgb(13, 117, 71)\"], [0.7272727272727273, \"rgb(23, 95, 61)\"], [0.8181818181818182, \"rgb(25, 75, 49)\"], [0.9090909090909091, \"rgb(23, 55, 35)\"], [1.0, \"rgb(17, 36, 20)\"]], \"locationmode\": \"country names\", \"locations\": [\"AFGHANISTAN TIS\", \"ALBANIA\", \"ALGERIA\", \"AMERI SAMOA\", \"ANDORRA\", \"ANGOLA\", \"ANGUILLA\", \"ANTARTICA\", \"ANTIGUA\", \"ARGENTINA\", \"ARMENIA\", \"ARUBA\", \"AUSTRALIA\", \"AUSTRIA\", \"AZERBAIJAN\", \"BAHAMAS\", \"BAHARAIN IS\", \"BANGLADESH PR\", \"BARBADOS\", \"BELARUS\", \"BELGIUM\", \"BELIZE\", \"BENIN\", \"BERMUDA\", \"BHUTAN\", \"BOLIVIA\", \"BOSNIA-HRZGOVIN\", \"BOTSWANA\", \"BR VIRGN IS\", \"BRAZIL\", \"BRUNEI\", \"BULGARIA\", \"BURKINA FASO\", \"BURUNDI\", \"C AFRI REP\", \"CAMBODIA\", \"CAMEROON\", \"CANADA\", \"CAPE VERDE IS\", \"CAYMAN IS\", \"CHAD\", \"CHANNEL IS\", \"CHILE\", \"CHINA P RP\", \"CHRISTMAS IS.\", \"COCOS IS\", \"COLOMBIA\", \"COMOROS\", \"CONGO D. REP.\", \"CONGO P REP\", \"COOK IS\", \"COSTA RICA\", \"COTE D' IVOIRE\", \"CROATIA\", \"CUBA\", \"CYPRUS\", \"CZECH REPUBLIC\", \"DENMARK\", \"DJIBOUTI\", \"DOMINIC REP\", \"DOMINICA\", \"ECUADOR\", \"EGYPT A RP\", \"EL SALVADOR\", \"EQUTL GUINEA\", \"ERITREA\", \"ESTONIA\", \"ETHIOPIA\", \"FALKLAND IS\", \"FAROE IS.\", \"FIJI IS\", \"FINLAND\", \"FR GUIANA\", \"FR POLYNESIA\", \"FR S ANT TR\", \"FRANCE\", \"GABON\", \"GAMBIA\", \"GEORGIA\", \"GERMANY\", \"GHANA\", \"GIBRALTAR\", \"GREECE\", \"GREENLAND\", \"GRENADA\", \"GUADELOUPE\", \"GUAM\", \"GUATEMALA\", \"GUERNSEY\", \"GUINEA\", \"GUINEA BISSAU\", \"GUYANA\", \"HAITI\", \"HEARD MACDONALD\", \"HONDURAS\", \"HONG KONG\", \"HUNGARY\", \"ICELAND\", \"INDONESIA\", \"IRAN\", \"IRAQ\", \"IRELAND\", \"ISRAEL\", \"ITALY\", \"JAMAICA\", \"JAPAN\", \"JERSEY         \", \"JORDAN\", \"KAZAKHSTAN\", \"KENYA\", \"KIRIBATI REP\", \"KOREA DP RP\", \"KOREA RP\", \"KUWAIT\", \"KYRGHYZSTAN\", \"LAO PD RP\", \"LATVIA\", \"LEBANON\", \"LESOTHO\", \"LIBERIA\", \"LIBYA\", \"LIECHTENSTEIN\", \"LITHUANIA\", \"LUXEMBOURG\", \"MACAO\", \"MACEDONIA\", \"MADAGASCAR\", \"MALAWI\", \"MALAYSIA\", \"MALDIVES\", \"MALI\", \"MALTA\", \"MARSHALL ISLAND\", \"MARTINIQUE\", \"MAURITANIA\", \"MAURITIUS\", \"MAYOTTE\", \"MEXICO\", \"MICRONESIA\", \"MOLDOVA\", \"MONACO\", \"MONGOLIA\", \"MONTENEGRO\", \"MONTSERRAT\", \"MOROCCO\", \"MOZAMBIQUE\", \"MYANMAR\", \"N. MARIANA IS.\", \"NAMIBIA\", \"NAURU RP\", \"NEPAL\", \"NETHERLAND\", \"NETHERLANDANTIL\", \"NEW CALEDONIA\", \"NEW ZEALAND\", \"NICARAGUA\", \"NIGER\", \"NIGERIA\", \"NIUE IS\", \"NORFOLK IS\", \"NORWAY\", \"OMAN\", \"PACIFIC IS\", \"PAKISTAN IR\", \"PALAU\", \"PANAMA C Z\", \"PANAMA REPUBLIC\", \"PAPUA N GNA\", \"PARAGUAY\", \"PERU\", \"PHILIPPINES\", \"PITCAIRN IS.\", \"POLAND\", \"PORTUGAL\", \"PUERTO RICO\", \"QATAR\", \"REUNION\", \"ROMANIA\", \"RUSSIA\", \"RWANDA\", \"SAMOA\", \"SAN MARINO\", \"SAO TOME\", \"SAUDI ARAB\", \"SENEGAL\", \"SERBIA\", \"SEYCHELLES\", \"SIERRA LEONE\", \"SINGAPORE\", \"SLOVAK REP\", \"SLOVENIA\", \"SOLOMON IS\", \"SOMALIA\", \"SOUTH AFRICA\", \"SOUTH SUDAN \", \"SPAIN\", \"SRI LANKA DSR\", \"ST HELENA\", \"ST KITT N A\", \"ST LUCIA\", \"ST PIERRE\", \"ST VINCENT\", \"STATE OF PALEST\", \"SUDAN\", \"SURINAME\", \"SWAZILAND\", \"SWEDEN\", \"SWITZERLAND\", \"SYRIA\", \"TAIWAN\", \"TAJIKISTAN\", \"TANZANIA REP\", \"THAILAND\", \"TIMOR LESTE\", \"TOGO\", \"TOKELAU IS\", \"TONGA\", \"TRINIDAD\", \"TUNISIA\", \"TURKEY\", \"TURKMENISTAN\", \"TURKS C IS\", \"TUVALU\", \"U ARAB EMTS\", \"UGANDA\", \"UK\", \"UKRAINE\", \"UNION OF SERBIA & MONTENEGRO\", \"UNSPECIFIED\", \"URUGUAY\", \"US MINOR OUTLYING ISLANDS               \", \"USA\", \"UZBEKISTAN\", \"VANUATU REP\", \"VATICAN CITY\", \"VENEZUELA\", \"VIETNAM SOC REP\", \"VIRGIN IS US\", \"WALLIS F IS\", \"YEMEN REPUBLC\", \"ZAMBIA\", \"ZIMBABWE\"], \"reversescale\": true, \"text\": [\"AFGHANISTAN TIS\", \"ALBANIA\", \"ALGERIA\", \"AMERI SAMOA\", \"ANDORRA\", \"ANGOLA\", \"ANGUILLA\", \"ANTARTICA\", \"ANTIGUA\", \"ARGENTINA\", \"ARMENIA\", \"ARUBA\", \"AUSTRALIA\", \"AUSTRIA\", \"AZERBAIJAN\", \"BAHAMAS\", \"BAHARAIN IS\", \"BANGLADESH PR\", \"BARBADOS\", \"BELARUS\", \"BELGIUM\", \"BELIZE\", \"BENIN\", \"BERMUDA\", \"BHUTAN\", \"BOLIVIA\", \"BOSNIA-HRZGOVIN\", \"BOTSWANA\", \"BR VIRGN IS\", \"BRAZIL\", \"BRUNEI\", \"BULGARIA\", \"BURKINA FASO\", \"BURUNDI\", \"C AFRI REP\", \"CAMBODIA\", \"CAMEROON\", \"CANADA\", \"CAPE VERDE IS\", \"CAYMAN IS\", \"CHAD\", \"CHANNEL IS\", \"CHILE\", \"CHINA P RP\", \"CHRISTMAS IS.\", \"COCOS IS\", \"COLOMBIA\", \"COMOROS\", \"CONGO D. REP.\", \"CONGO P REP\", \"COOK IS\", \"COSTA RICA\", \"COTE D' IVOIRE\", \"CROATIA\", \"CUBA\", \"CYPRUS\", \"CZECH REPUBLIC\", \"DENMARK\", \"DJIBOUTI\", \"DOMINIC REP\", \"DOMINICA\", \"ECUADOR\", \"EGYPT A RP\", \"EL SALVADOR\", \"EQUTL GUINEA\", \"ERITREA\", \"ESTONIA\", \"ETHIOPIA\", \"FALKLAND IS\", \"FAROE IS.\", \"FIJI IS\", \"FINLAND\", \"FR GUIANA\", \"FR POLYNESIA\", \"FR S ANT TR\", \"FRANCE\", \"GABON\", \"GAMBIA\", \"GEORGIA\", \"GERMANY\", \"GHANA\", \"GIBRALTAR\", \"GREECE\", \"GREENLAND\", \"GRENADA\", \"GUADELOUPE\", \"GUAM\", \"GUATEMALA\", \"GUERNSEY\", \"GUINEA\", \"GUINEA BISSAU\", \"GUYANA\", \"HAITI\", \"HEARD MACDONALD\", \"HONDURAS\", \"HONG KONG\", \"HUNGARY\", \"ICELAND\", \"INDONESIA\", \"IRAN\", \"IRAQ\", \"IRELAND\", \"ISRAEL\", \"ITALY\", \"JAMAICA\", \"JAPAN\", \"JERSEY         \", \"JORDAN\", \"KAZAKHSTAN\", \"KENYA\", \"KIRIBATI REP\", \"KOREA DP RP\", \"KOREA RP\", \"KUWAIT\", \"KYRGHYZSTAN\", \"LAO PD RP\", \"LATVIA\", \"LEBANON\", \"LESOTHO\", \"LIBERIA\", \"LIBYA\", \"LIECHTENSTEIN\", \"LITHUANIA\", \"LUXEMBOURG\", \"MACAO\", \"MACEDONIA\", \"MADAGASCAR\", \"MALAWI\", \"MALAYSIA\", \"MALDIVES\", \"MALI\", \"MALTA\", \"MARSHALL ISLAND\", \"MARTINIQUE\", \"MAURITANIA\", \"MAURITIUS\", \"MAYOTTE\", \"MEXICO\", \"MICRONESIA\", \"MOLDOVA\", \"MONACO\", \"MONGOLIA\", \"MONTENEGRO\", \"MONTSERRAT\", \"MOROCCO\", \"MOZAMBIQUE\", \"MYANMAR\", \"N. MARIANA IS.\", \"NAMIBIA\", \"NAURU RP\", \"NEPAL\", \"NETHERLAND\", \"NETHERLANDANTIL\", \"NEW CALEDONIA\", \"NEW ZEALAND\", \"NICARAGUA\", \"NIGER\", \"NIGERIA\", \"NIUE IS\", \"NORFOLK IS\", \"NORWAY\", \"OMAN\", \"PACIFIC IS\", \"PAKISTAN IR\", \"PALAU\", \"PANAMA C Z\", \"PANAMA REPUBLIC\", \"PAPUA N GNA\", \"PARAGUAY\", \"PERU\", \"PHILIPPINES\", \"PITCAIRN IS.\", \"POLAND\", \"PORTUGAL\", \"PUERTO RICO\", \"QATAR\", \"REUNION\", \"ROMANIA\", \"RUSSIA\", \"RWANDA\", \"SAMOA\", \"SAN MARINO\", \"SAO TOME\", \"SAUDI ARAB\", \"SENEGAL\", \"SERBIA\", \"SEYCHELLES\", \"SIERRA LEONE\", \"SINGAPORE\", \"SLOVAK REP\", \"SLOVENIA\", \"SOLOMON IS\", \"SOMALIA\", \"SOUTH AFRICA\", \"SOUTH SUDAN \", \"SPAIN\", \"SRI LANKA DSR\", \"ST HELENA\", \"ST KITT N A\", \"ST LUCIA\", \"ST PIERRE\", \"ST VINCENT\", \"STATE OF PALEST\", \"SUDAN\", \"SURINAME\", \"SWAZILAND\", \"SWEDEN\", \"SWITZERLAND\", \"SYRIA\", \"TAIWAN\", \"TAJIKISTAN\", \"TANZANIA REP\", \"THAILAND\", \"TIMOR LESTE\", \"TOGO\", \"TOKELAU IS\", \"TONGA\", \"TRINIDAD\", \"TUNISIA\", \"TURKEY\", \"TURKMENISTAN\", \"TURKS C IS\", \"TUVALU\", \"U ARAB EMTS\", \"UGANDA\", \"UK\", \"UKRAINE\", \"UNION OF SERBIA & MONTENEGRO\", \"UNSPECIFIED\", \"URUGUAY\", \"US MINOR OUTLYING ISLANDS               \", \"USA\", \"UZBEKISTAN\", \"VANUATU REP\", \"VATICAN CITY\", \"VENEZUELA\", \"VIETNAM SOC REP\", \"VIRGIN IS US\", \"WALLIS F IS\", \"YEMEN REPUBLC\", \"ZAMBIA\", \"ZIMBABWE\"], \"type\": \"choropleth\", \"z\": [9047.485343993156, 3517.528397173246, 14613.391170818759, 3685.1440715254466, 1439.7627736455115, 48792.334122349945, 1621.9770484688388, 2315.9227228210407, 2635.7998475265886, 24583.893919051945, 3664.792646584337, 818.9085242344197, 117656.9070230565, 12527.406921407683, 7209.6712470554685, 3904.224122349918, 10434.6496950532, 10779.41404611323, 1874.5727482332748, 7235.342544935411, 92645.95557270313, 3873.2383463487768, 6274.07834634878, 1442.1527736455116, 5919.198371761015, 4941.532697408814, 5137.855420229856, 8656.468447997717, 3086.4598221143556, 47982.56404611323, 9325.445521878799, 6508.523969876522, 4071.2370484688436, 1458.6527736455112, 2015.7655981154935, 5796.916819758734, 8080.812595759877, 33437.70987293872, 524.3113995288733, 1253.988498822184, 4756.006946819904, 62.36142494110921, 25391.141043757536, 532489.3171247056, 2058.8870230566026, 1420.8513487044024, 19162.279695053137, 771.4442494110921, 2358.639898351057, 5292.369847526591, 374.3085496466552, 6854.531094582067, 8681.986870583205, 4793.094020700983, 2328.8727228210405, 6184.436819758736, 8729.884071525456, 7910.526946819917, 2161.028447997712, 5944.9240969376915, 1937.0441731743842, 9040.741119994294, 21697.36111999428, 2872.0041223499165, 5300.139949175529, 1890.9427736455107, 5820.196870583209, 7637.585293168682, 573.0328244699829, 818.2485242344198, 5064.115420229856, 14741.296946819924, 4108.311196230997, 810.8885242344197, 187.17427482332764, 44109.70567435213, 6952.678397173246, 2012.508473409947, 6600.123919052045, 120225.89282447005, 19287.55539481755, 635.5042494110921, 5141.954046113227, 873.4599491755291, 437.35997458776444, 2248.2112978799314, 311.867124705546, 3706.5112216432312, 187.42427482332764, 7012.42264658434, 2869.141348704404, 1458.321348704402, 1906.862748233275, 249.60569976443685, 4696.854020700981, 85912.47414776214, 6404.8997712899045, 4662.515445642091, 129910.51989835076, 103295.6939190517, 145906.19837176084, 9168.55544564212, 22495.758422585455, 40753.407124705525, 4447.201170818763, 97501.33419858658, 0.05, 15105.531043757614, 8496.795471054336, 7264.912494110943, 499.6513995288737, 8166.7452931686885, 122889.69989835093, 104079.14106916962, 3347.52552187879, 5025.6640461132165, 4669.496921407667, 6086.482519523174, 1690.8756235277294, 3842.4497967021202, 6246.119847526588, 3565.121221643232, 5979.574020700994, 4751.364046113218, 4341.108320936542, 3911.205496466562, 6047.003995288757, 4086.6869214076664, 85389.40849882214, 5280.318270112076, 3656.308397173247, 4096.226921407667, 2398.78414776215, 312.87712470554607, 1989.8527482332754, 6430.00106916983, 62.55142494110922, 32573.978397173163, 124.82284988221843, 2640.9298475265878, 3070.859822114355, 2356.60272282104, 562.6628244699828, 623.6742494110921, 15149.336819758739, 7857.406921407675, 14764.876845170984, 499.5513995288737, 5393.70684517096, 934.2099491755291, 8504.79834634878, 24681.075623527744, 6192.556794346504, 2610.5555727032597, 9667.791196231012, 2578.5584225854777, 3917.1454964665577, 111513.96524234387, 686.0356743522013, 2995.1683971732455, 11104.556895995453, 30036.0467943464, 187.09427482332765, 7816.595496466567, 880.779949175529, 436.51712470554605, 5252.629745877654, 4173.212697408808, 3255.411272467698, 14890.232519523192, 9123.574020700991, 623.974249411092, 8571.229847526598, 5560.125496466566, 4775.1511708187645, 107589.88821928744, 4428.966895995437, 6895.808346348784, 49967.366870583195, 1450.7127736455116, 1946.6041731743842, 1998.275598115493, 436.7399745877644, 246356.8197204655, 7195.058295524314, 2990.655547291026, 3454.5083717610087, 3167.3198221143543, 76664.48704846881, 5392.186870583207, 5442.808320936546, 1239.641374116638, 2098.204173174384, 67886.0526719966, 476.3856997644368, 17228.489923763314, 10098.575521878802, 1060.7542239988568, 2120.9184479977125, 1687.1784734099476, 1309.6199237632934, 498.91139952887363, 1.19, 8506.288295524319, 3008.5269976443706, 6956.838193875384, 17535.448371761035, 209285.84842258532, 5438.462570347633, 37628.12132329216, 2693.1184225854786, 11927.973995288756, 52612.892799057736, 2769.222697408807, 3723.098447997718, 1372.4113487044024, 561.6828244699828, 3988.391247055465, 6299.859720465423, 14538.234173174402, 1551.6313487044022, 1434.6427736455114, 687.5456743522013, 257969.83847341023, 6622.303919052049, 51735.114249411075, 25811.063919051983, 2100.2870230566023, 49766.185394817665, 5014.799720465422, 2871.505547291028, 219588.46712470546, 4051.6712216432315, 754.0770992933107, 561.7428244699829, 80306.64832093641, 30849.037023056553, 3315.455521878791, 624.974249411092, 10286.496845170966, 8179.928320936549, 4489.716895995433]}],\n",
       "                        {\"template\": {\"data\": {\"bar\": [{\"error_x\": {\"color\": \"#2a3f5f\"}, \"error_y\": {\"color\": \"#2a3f5f\"}, \"marker\": {\"line\": {\"color\": \"#E5ECF6\", \"width\": 0.5}}, \"type\": \"bar\"}], \"barpolar\": [{\"marker\": {\"line\": {\"color\": \"#E5ECF6\", \"width\": 0.5}}, \"type\": \"barpolar\"}], \"carpet\": [{\"aaxis\": {\"endlinecolor\": \"#2a3f5f\", \"gridcolor\": \"white\", \"linecolor\": \"white\", \"minorgridcolor\": \"white\", \"startlinecolor\": \"#2a3f5f\"}, \"baxis\": {\"endlinecolor\": \"#2a3f5f\", \"gridcolor\": \"white\", \"linecolor\": \"white\", \"minorgridcolor\": \"white\", \"startlinecolor\": \"#2a3f5f\"}, \"type\": \"carpet\"}], \"choropleth\": [{\"colorbar\": {\"outlinewidth\": 0, \"ticks\": \"\"}, \"type\": \"choropleth\"}], \"contour\": [{\"colorbar\": {\"outlinewidth\": 0, \"ticks\": \"\"}, \"colorscale\": [[0.0, \"#0d0887\"], [0.1111111111111111, \"#46039f\"], [0.2222222222222222, \"#7201a8\"], [0.3333333333333333, \"#9c179e\"], [0.4444444444444444, \"#bd3786\"], [0.5555555555555556, \"#d8576b\"], [0.6666666666666666, \"#ed7953\"], [0.7777777777777778, \"#fb9f3a\"], [0.8888888888888888, \"#fdca26\"], [1.0, \"#f0f921\"]], \"type\": \"contour\"}], \"contourcarpet\": [{\"colorbar\": {\"outlinewidth\": 0, \"ticks\": \"\"}, \"type\": \"contourcarpet\"}], \"heatmap\": [{\"colorbar\": {\"outlinewidth\": 0, \"ticks\": \"\"}, \"colorscale\": [[0.0, \"#0d0887\"], [0.1111111111111111, \"#46039f\"], [0.2222222222222222, \"#7201a8\"], [0.3333333333333333, \"#9c179e\"], [0.4444444444444444, \"#bd3786\"], [0.5555555555555556, \"#d8576b\"], [0.6666666666666666, \"#ed7953\"], [0.7777777777777778, \"#fb9f3a\"], [0.8888888888888888, \"#fdca26\"], [1.0, \"#f0f921\"]], \"type\": \"heatmap\"}], \"heatmapgl\": [{\"colorbar\": {\"outlinewidth\": 0, \"ticks\": \"\"}, \"colorscale\": [[0.0, \"#0d0887\"], [0.1111111111111111, \"#46039f\"], [0.2222222222222222, \"#7201a8\"], [0.3333333333333333, \"#9c179e\"], [0.4444444444444444, \"#bd3786\"], [0.5555555555555556, \"#d8576b\"], [0.6666666666666666, \"#ed7953\"], [0.7777777777777778, \"#fb9f3a\"], [0.8888888888888888, \"#fdca26\"], [1.0, \"#f0f921\"]], \"type\": \"heatmapgl\"}], \"histogram\": [{\"marker\": {\"colorbar\": {\"outlinewidth\": 0, \"ticks\": \"\"}}, \"type\": \"histogram\"}], \"histogram2d\": [{\"colorbar\": {\"outlinewidth\": 0, \"ticks\": \"\"}, \"colorscale\": [[0.0, \"#0d0887\"], [0.1111111111111111, \"#46039f\"], [0.2222222222222222, \"#7201a8\"], [0.3333333333333333, \"#9c179e\"], [0.4444444444444444, \"#bd3786\"], [0.5555555555555556, \"#d8576b\"], [0.6666666666666666, \"#ed7953\"], [0.7777777777777778, \"#fb9f3a\"], [0.8888888888888888, \"#fdca26\"], [1.0, \"#f0f921\"]], \"type\": \"histogram2d\"}], \"histogram2dcontour\": [{\"colorbar\": {\"outlinewidth\": 0, \"ticks\": \"\"}, \"colorscale\": [[0.0, \"#0d0887\"], [0.1111111111111111, \"#46039f\"], [0.2222222222222222, \"#7201a8\"], [0.3333333333333333, \"#9c179e\"], [0.4444444444444444, \"#bd3786\"], [0.5555555555555556, \"#d8576b\"], [0.6666666666666666, \"#ed7953\"], [0.7777777777777778, \"#fb9f3a\"], [0.8888888888888888, \"#fdca26\"], [1.0, \"#f0f921\"]], \"type\": \"histogram2dcontour\"}], \"mesh3d\": [{\"colorbar\": {\"outlinewidth\": 0, \"ticks\": \"\"}, \"type\": \"mesh3d\"}], \"parcoords\": [{\"line\": {\"colorbar\": {\"outlinewidth\": 0, \"ticks\": \"\"}}, \"type\": \"parcoords\"}], \"pie\": [{\"automargin\": true, \"type\": \"pie\"}], \"scatter\": [{\"marker\": {\"colorbar\": {\"outlinewidth\": 0, \"ticks\": \"\"}}, \"type\": \"scatter\"}], \"scatter3d\": [{\"line\": {\"colorbar\": {\"outlinewidth\": 0, \"ticks\": \"\"}}, \"marker\": {\"colorbar\": {\"outlinewidth\": 0, \"ticks\": \"\"}}, \"type\": \"scatter3d\"}], \"scattercarpet\": [{\"marker\": {\"colorbar\": {\"outlinewidth\": 0, \"ticks\": \"\"}}, \"type\": \"scattercarpet\"}], \"scattergeo\": [{\"marker\": {\"colorbar\": {\"outlinewidth\": 0, \"ticks\": \"\"}}, \"type\": \"scattergeo\"}], \"scattergl\": [{\"marker\": {\"colorbar\": {\"outlinewidth\": 0, \"ticks\": \"\"}}, \"type\": \"scattergl\"}], \"scattermapbox\": [{\"marker\": {\"colorbar\": {\"outlinewidth\": 0, \"ticks\": \"\"}}, \"type\": \"scattermapbox\"}], \"scatterpolar\": [{\"marker\": {\"colorbar\": {\"outlinewidth\": 0, \"ticks\": \"\"}}, \"type\": \"scatterpolar\"}], \"scatterpolargl\": [{\"marker\": {\"colorbar\": {\"outlinewidth\": 0, \"ticks\": \"\"}}, \"type\": \"scatterpolargl\"}], \"scatterternary\": [{\"marker\": {\"colorbar\": {\"outlinewidth\": 0, \"ticks\": \"\"}}, \"type\": \"scatterternary\"}], \"surface\": [{\"colorbar\": {\"outlinewidth\": 0, \"ticks\": \"\"}, \"colorscale\": [[0.0, \"#0d0887\"], [0.1111111111111111, \"#46039f\"], [0.2222222222222222, \"#7201a8\"], [0.3333333333333333, \"#9c179e\"], [0.4444444444444444, \"#bd3786\"], [0.5555555555555556, \"#d8576b\"], [0.6666666666666666, \"#ed7953\"], [0.7777777777777778, \"#fb9f3a\"], [0.8888888888888888, \"#fdca26\"], [1.0, \"#f0f921\"]], \"type\": \"surface\"}], \"table\": [{\"cells\": {\"fill\": {\"color\": \"#EBF0F8\"}, \"line\": {\"color\": \"white\"}}, \"header\": {\"fill\": {\"color\": \"#C8D4E3\"}, \"line\": {\"color\": \"white\"}}, \"type\": \"table\"}]}, \"layout\": {\"annotationdefaults\": {\"arrowcolor\": \"#2a3f5f\", \"arrowhead\": 0, \"arrowwidth\": 1}, \"coloraxis\": {\"colorbar\": {\"outlinewidth\": 0, \"ticks\": \"\"}}, \"colorscale\": {\"diverging\": [[0, \"#8e0152\"], [0.1, \"#c51b7d\"], [0.2, \"#de77ae\"], [0.3, \"#f1b6da\"], [0.4, \"#fde0ef\"], [0.5, \"#f7f7f7\"], [0.6, \"#e6f5d0\"], [0.7, \"#b8e186\"], [0.8, \"#7fbc41\"], [0.9, \"#4d9221\"], [1, \"#276419\"]], \"sequential\": [[0.0, \"#0d0887\"], [0.1111111111111111, \"#46039f\"], [0.2222222222222222, \"#7201a8\"], [0.3333333333333333, \"#9c179e\"], [0.4444444444444444, \"#bd3786\"], [0.5555555555555556, \"#d8576b\"], [0.6666666666666666, \"#ed7953\"], [0.7777777777777778, \"#fb9f3a\"], [0.8888888888888888, \"#fdca26\"], [1.0, \"#f0f921\"]], \"sequentialminus\": [[0.0, \"#0d0887\"], [0.1111111111111111, \"#46039f\"], [0.2222222222222222, \"#7201a8\"], [0.3333333333333333, \"#9c179e\"], [0.4444444444444444, \"#bd3786\"], [0.5555555555555556, \"#d8576b\"], [0.6666666666666666, \"#ed7953\"], [0.7777777777777778, \"#fb9f3a\"], [0.8888888888888888, \"#fdca26\"], [1.0, \"#f0f921\"]]}, \"colorway\": [\"#636efa\", \"#EF553B\", \"#00cc96\", \"#ab63fa\", \"#FFA15A\", \"#19d3f3\", \"#FF6692\", \"#B6E880\", \"#FF97FF\", \"#FECB52\"], \"font\": {\"color\": \"#2a3f5f\"}, \"geo\": {\"bgcolor\": \"white\", \"lakecolor\": \"white\", \"landcolor\": \"#E5ECF6\", \"showlakes\": true, \"showland\": true, \"subunitcolor\": \"white\"}, \"hoverlabel\": {\"align\": \"left\"}, \"hovermode\": \"closest\", \"mapbox\": {\"style\": \"light\"}, \"paper_bgcolor\": \"white\", \"plot_bgcolor\": \"#E5ECF6\", \"polar\": {\"angularaxis\": {\"gridcolor\": \"white\", \"linecolor\": \"white\", \"ticks\": \"\"}, \"bgcolor\": \"#E5ECF6\", \"radialaxis\": {\"gridcolor\": \"white\", \"linecolor\": \"white\", \"ticks\": \"\"}}, \"scene\": {\"xaxis\": {\"backgroundcolor\": \"#E5ECF6\", \"gridcolor\": \"white\", \"gridwidth\": 2, \"linecolor\": \"white\", \"showbackground\": true, \"ticks\": \"\", \"zerolinecolor\": \"white\"}, \"yaxis\": {\"backgroundcolor\": \"#E5ECF6\", \"gridcolor\": \"white\", \"gridwidth\": 2, \"linecolor\": \"white\", \"showbackground\": true, \"ticks\": \"\", \"zerolinecolor\": \"white\"}, \"zaxis\": {\"backgroundcolor\": \"#E5ECF6\", \"gridcolor\": \"white\", \"gridwidth\": 2, \"linecolor\": \"white\", \"showbackground\": true, \"ticks\": \"\", \"zerolinecolor\": \"white\"}}, \"shapedefaults\": {\"line\": {\"color\": \"#2a3f5f\"}}, \"ternary\": {\"aaxis\": {\"gridcolor\": \"white\", \"linecolor\": \"white\", \"ticks\": \"\"}, \"baxis\": {\"gridcolor\": \"white\", \"linecolor\": \"white\", \"ticks\": \"\"}, \"bgcolor\": \"#E5ECF6\", \"caxis\": {\"gridcolor\": \"white\", \"linecolor\": \"white\", \"ticks\": \"\"}}, \"title\": {\"x\": 0.05}, \"xaxis\": {\"automargin\": true, \"gridcolor\": \"white\", \"linecolor\": \"white\", \"ticks\": \"\", \"title\": {\"standoff\": 15}, \"zerolinecolor\": \"white\", \"zerolinewidth\": 2}, \"yaxis\": {\"automargin\": true, \"gridcolor\": \"white\", \"linecolor\": \"white\", \"ticks\": \"\", \"title\": {\"standoff\": 15}, \"zerolinecolor\": \"white\", \"zerolinewidth\": 2}}}, \"title\": {\"text\": \"India Import from Other Country\"}},\n",
       "                        {\"responsive\": true}\n",
       "                    ).then(function(){\n",
       "                            \n",
       "var gd = document.getElementById('eb8c4099-6ee2-4d97-9b84-d845f307f2b2');\n",
       "var x = new MutationObserver(function (mutations, observer) {{\n",
       "        var display = window.getComputedStyle(gd).display;\n",
       "        if (!display || display === 'none') {{\n",
       "            console.log([gd, 'removed!']);\n",
       "            Plotly.purge(gd);\n",
       "            observer.disconnect();\n",
       "        }}\n",
       "}});\n",
       "\n",
       "// Listen for the removal of the full notebook cells\n",
       "var notebookContainer = gd.closest('#notebook-container');\n",
       "if (notebookContainer) {{\n",
       "    x.observe(notebookContainer, {childList: true});\n",
       "}}\n",
       "\n",
       "// Listen for the clearing of the current output cell\n",
       "var outputEl = gd.closest('.output');\n",
       "if (outputEl) {{\n",
       "    x.observe(outputEl, {childList: true});\n",
       "}}\n",
       "\n",
       "                        })\n",
       "                };\n",
       "                });\n",
       "            </script>\n",
       "        </div>"
      ]
     },
     "metadata": {},
     "output_type": "display_data"
    }
   ],
   "source": [
    "import_map = pd.DataFrame(data_import.groupby(['country'])['value'].sum().reset_index())\n",
    "count = pd.DataFrame(import_map.groupby('country')['value'].sum().reset_index())\n",
    "\n",
    "trace = [go.Choropleth(\n",
    "            colorscale = 'algae',\n",
    "            locationmode = 'country names',\n",
    "            locations = count['country'],\n",
    "            text = count['country'],\n",
    "            z = count['value'],\n",
    "            reversescale=True)]\n",
    "\n",
    "layout = go.Layout(title = 'India Import from Other Country')\n",
    "\n",
    "fig = go.Figure(data = trace, layout = layout)\n",
    "py.iplot(fig)"
   ]
  }
 ],
 "metadata": {
  "kernelspec": {
   "display_name": "Python 3",
   "language": "python",
   "name": "python3"
  },
  "language_info": {
   "codemirror_mode": {
    "name": "ipython",
    "version": 3
   },
   "file_extension": ".py",
   "mimetype": "text/x-python",
   "name": "python",
   "nbconvert_exporter": "python",
   "pygments_lexer": "ipython3",
   "version": "3.7.6"
  }
 },
 "nbformat": 4,
 "nbformat_minor": 4
}
